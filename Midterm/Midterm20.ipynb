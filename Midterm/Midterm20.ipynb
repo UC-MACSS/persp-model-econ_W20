{
 "cells": [
  {
   "cell_type": "markdown",
   "metadata": {},
   "source": [
    "# Midterm (MACS 30150), February 10, 2020 [20 points total]\n",
    "### [Put your name here]\n",
    "You will have an hour and fifty minutes to take this exam.\n",
    "1. Put your name in the space provided above (without the brackets).\n",
    "2. Download this notebook and accompanying data `data/hh_inc_synth.txt` and images `images/hist_inc_2.png`.\n",
    "3. The class will disconnect their wi-fi and begin taking the exam.\n",
    "4. The exam is open computer, closed internet, open note.\n",
    "5. Once you are done, you will signal to a TA or instructor to come over and monitor while you reconnect to the internet and upload your edited notebook to Canvas.\n",
    "\n",
    "Remember that you must clearly indicate your answers to all questions below. We will give partial credit for partially correct answers. The midterm is worth 20 points (2 problem sets)."
   ]
  },
  {
   "cell_type": "markdown",
   "metadata": {},
   "source": [
    "# 1. Numerical Integration [10 points total]\n",
    "Assume that the distribution of household income (in U.S. dollars \\\\$) is characterized by the two-parameter gamma (GA) distribution (similar to the log normal distribution). The following is the probability density function (PDF) of the gamma (GA) distribution, which tells you the probability density of variable $x$ for given values of parameters $\\alpha$ and $\\beta$.\n",
    "\n",
    "\\begin{equation*}\n",
    "\\begin{split}\n",
    "&\\text{(GA):}\\quad f(x;\\alpha,\\beta) = \\frac{1}{\\beta^\\alpha \\Gamma(\\alpha)}x^{\\alpha-1}e^{-\\frac{x}{\\beta}}, \\quad x>0, \\:\\alpha,\\beta>0 \\\\\n",
    "&\\quad\\quad \\text{where}\\quad \\Gamma(z)\\equiv\\int_0^\\infty t^{z-1}e^{-t}dt\n",
    "\\end{split}\n",
    "\\end{equation*}\n",
    "\n",
    "Some code for the PDF of the gamma (GA) distribution is the following."
   ]
  },
  {
   "cell_type": "code",
   "execution_count": 6,
   "metadata": {},
   "outputs": [],
   "source": [
    "import numpy as np\n",
    "import scipy.special as spc\n",
    "\n",
    "def GA_pdf(xvals, alpha, beta):\n",
    "    '''\n",
    "    --------------------------------------------------------------------\n",
    "    Returns the PDF values from the two-parameter gamma (GA)\n",
    "    distribution. See McDonald and Xu (1995).\n",
    "\n",
    "    (GA): f(x; alpha, beta) = (1 / ((beta ** alpha) *\n",
    "        spc.gamma(alpha))) * (x ** (alpha - 1)) * (e ** (-x / beta))\n",
    "    x in [0, infty), alpha, beta > 0\n",
    "    --------------------------------------------------------------------\n",
    "    INPUTS:\n",
    "    xvals = (N,) vector, values in the support of gamma distribution\n",
    "    alpha = scalar > 0, gamma distribution parameter\n",
    "    beta  = scalar > 0, gamma distribution parameter\n",
    "\n",
    "    OTHER FUNCTIONS AND FILES CALLED BY THIS FUNCTION:\n",
    "        spc.gamma()\n",
    "\n",
    "    OBJECTS CREATED WITHIN FUNCTION:\n",
    "    pdf_vals = (N,) vector, pdf values from gamma distribution\n",
    "               corresponding to xvals given parameters alpha and beta\n",
    "\n",
    "    FILES CREATED BY THIS FUNCTION: None\n",
    "\n",
    "    RETURNS: pdf_vals\n",
    "    --------------------------------------------------------------------\n",
    "    '''\n",
    "    pdf_vals = \\\n",
    "        np.float64((1 / ((beta ** alpha) * spc.gamma(alpha))) *\n",
    "                   (xvals ** (alpha - 1)) * np.exp(-xvals / beta))\n",
    "\n",
    "    return pdf_vals"
   ]
  },
  {
   "cell_type": "markdown",
   "metadata": {},
   "source": [
    "As a final suggestion for numerical approximations of integrals that use this `GA_pdf()` function, you can integrate this with a `lambda function` in which the `alpha` and `beta` are hard coded. For parts (b) and (c), one approach might be to define a `lambda` function like the following and use that as your input function for the `quad` command in part (c) or any of your Newton-Cotes methods in part (b)."
   ]
  },
  {
   "cell_type": "code",
   "execution_count": 7,
   "metadata": {},
   "outputs": [],
   "source": [
    "GApdf = lambda x: GA_pdf(x, alpha_1a, beta_1a)"
   ]
  },
  {
   "cell_type": "markdown",
   "metadata": {},
   "source": [
    "## 1a) Plot the GA distribution of income [2 points]\n",
    "Assume that the GA distribution coefficient values are $\\alpha=1.23$ and $\\beta=54,649.9$. Use Python to plot the GA PDF of income using 1,000 equally spaced income values between `1e-7` and \\\\$350,000 and using the `GA_pdf()` function above. Make sure your plot has an $x$-axis labeled \"income\" and a $y$-axis labeled \"density\"."
   ]
  },
  {
   "cell_type": "code",
   "execution_count": null,
   "metadata": {},
   "outputs": [],
   "source": []
  },
  {
   "cell_type": "markdown",
   "metadata": {},
   "source": [
    "## 1b) Midpoint, trapezoid, and Simpson's rule [5 points]\n",
    "Assuming $\\alpha=1.23$ and $\\beta=54,649.9$ in the gamma (GA) distribution, and using $N=30$ equally spaced bins, approximate the percent of the population with an income less than \\\\$75,000 using the midpoint rule, trapezoid rule, and Simpson's rule. The analytical expression for this percentage is given by the following integral.\n",
    "\n",
    "$$ \\int_0^{350,000}f(x;\\alpha,\\beta)dx $$\n",
    "\n",
    "Report your values for this approximated itegral for the midpoint rule, trapezoid rule, and Simpson's rule, respectively."
   ]
  },
  {
   "cell_type": "code",
   "execution_count": null,
   "metadata": {},
   "outputs": [],
   "source": []
  },
  {
   "cell_type": "markdown",
   "metadata": {},
   "source": [
    "## 1c) Use Gaussian quadrature to approximate the integral [3 points]\n",
    "Use gaussian quadrature using the `scipy.integrate.quad()` command to approximate the percent of the population that earns less than \\\\$75,000 assuming that the population income is distributed according to the gamma (GA) distribution with parameter values $\\alpha=1.23$ and $\\beta=54,649.9$. Report your percentage that you calculated using Gaussian quadrature."
   ]
  },
  {
   "cell_type": "code",
   "execution_count": null,
   "metadata": {},
   "outputs": [],
   "source": []
  },
  {
   "cell_type": "markdown",
   "metadata": {},
   "source": [
    "# 2. Generalized method of moments estimation [10 points total]\n",
    "Suppose that your friend at the Bureau of Labor Statistics told you the following four moments (statistics) of the U.S. household income distribution in the third column of the table.\n",
    "\n",
    "| Income range | Number of households |Percent of population |\n",
    "| :--- | ---: | :---: |\n",
    "| Less than \\\\$10,000 | 9,233 | 7.6\\% |\n",
    "| \\\\$10,000 to \\\\$100,000 | 86,431 | 71.4\\% |\n",
    "| \\\\$100,000 to \\\\$160,000 | 16,347 | 13.5\\% |\n",
    "| Greater than \\\\$160,000 | 9,074 | 7.5\\% |\n",
    "\n",
    "Assume that these incomes are generated by the lognormal distribution, specified by the following probability density function (PDF).\n",
    "\n",
    "\\begin{equation*}\n",
    "\\begin{split}\n",
    "&(LN) \\quad f(x|\\mu,\\sigma) = \\frac{1}{x\\sigma\\sqrt{2\\pi}}e^{-\\frac{[\\ln(x)] - \\mu]^2}{2\\sigma^2}} \\\\\n",
    "&\\quad\\quad\\quad\\text{for}\\quad x>0, \\quad -\\infty<\\mu<\\infty, \\quad\\text{and}\\quad \\sigma>0\n",
    "\\end{split}\n",
    "\\end{equation*}"
   ]
  },
  {
   "cell_type": "markdown",
   "metadata": {},
   "source": [
    "One could plot a histogram of the information in the table above using the following code that imports the original data `hh_inc_synth.txt` from which the histogram was generated. (NOTE that you will not need to use the original data except for plotting fitted distributions over this histogram using the exact code below.)"
   ]
  },
  {
   "cell_type": "code",
   "execution_count": 9,
   "metadata": {},
   "outputs": [
    {
     "data": {
      "text/plain": [
       "Text(0, 0.5, 'Density (area sums to 1)')"
      ]
     },
     "execution_count": 9,
     "metadata": {},
     "output_type": "execute_result"
    },
    {
     "data": {
      "image/png": "[encoded data removed]",
      "text/plain": [
       "<Figure size 432x288 with 1 Axes>"
      ]
     },
     "metadata": {
      "needs_background": "light"
     },
     "output_type": "display_data"
    }
   ],
   "source": [
    "import numpy as np\n",
    "import matplotlib.pyplot as plt\n",
    "\n",
    "hh_inc_synth = np.loadtxt('data/hh_inc_synth.txt')\n",
    "\n",
    "bin_bound_list = [0, 10000, 100000, 160000, 350000]\n",
    "bin_widths = np.array([10000, 90000, 60000, 190000])\n",
    "N = len(hh_inc_synth)\n",
    "weight_inc = np.zeros(N)\n",
    "in_bin_1 = hh_inc_synth <= 10000\n",
    "in_bin_2 = (hh_inc_synth > 10000) * (hh_inc_synth <= 100000)\n",
    "in_bin_3 = (hh_inc_synth > 100000) * (hh_inc_synth <= 160000)\n",
    "in_bin_4 = hh_inc_synth > 160000\n",
    "weight_inc[in_bin_1] = 1 / (N * 10000)\n",
    "weight_inc[in_bin_2] = 1 / (N * 90000)\n",
    "weight_inc[in_bin_3] = 1 / (N * 60000)\n",
    "weight_inc[in_bin_4] = 1 / (N * 190000)\n",
    "\n",
    "n, bin_cuts, patches = \\\n",
    "    plt.hist(hh_inc_synth, bin_bound_list, edgecolor='black',\n",
    "             weights=weight_inc, label='data histogram')\n",
    "plt.title(r'Histogram of household income: $N=121,085$',\n",
    "          fontsize=13)\n",
    "plt.xticks(np.array([0, 10000, 100000, 160000, 350000]),\n",
    "           ('$0', '$10', '$100', '$160', '$350'))\n",
    "plt.xlabel(r'Household income (\\$000)')\n",
    "plt.ylabel(r'Density (area sums to 1)')"
   ]
  },
  {
   "cell_type": "markdown",
   "metadata": {},
   "source": [
    "Some python code for the PDF of the lognormal distribution is the following."
   ]
  },
  {
   "cell_type": "code",
   "execution_count": 1,
   "metadata": {},
   "outputs": [],
   "source": [
    "def LN_pdf(xvals, mu, sigma):\n",
    "    '''\n",
    "    --------------------------------------------------------------------\n",
    "    This function gives the PDF of the lognormal distribution for xvals\n",
    "    given mu and sigma\n",
    "\n",
    "    (LN): f(x; mu, sigma) = (1 / (x * sigma * sqrt(2 * pi))) *\n",
    "            exp((-1 / 2) * (((log(x) - mu) / sigma) ** 2))\n",
    "            x in [0, infty), mu in (-infty, infty), sigma > 0\n",
    "    --------------------------------------------------------------------\n",
    "    INPUTS:\n",
    "    xvals = (N,) vector, data\n",
    "    mu    = scalar, mean of the ln(x)\n",
    "    sigma = scalar > 0, standard deviation of ln(x)\n",
    "\n",
    "    OTHER FUNCTIONS AND FILES CALLED BY THIS FUNCTION: None\n",
    "\n",
    "    OBJECTS CREATED WITHIN FUNCTION:\n",
    "    pdf_vals        = (N,) vector, probability of each observation given\n",
    "                      the parameter values\n",
    "\n",
    "    FILES CREATED BY THIS FUNCTION: None\n",
    "\n",
    "    RETURNS: pdf_vals\n",
    "    --------------------------------------------------------------------\n",
    "    '''\n",
    "    pdf_vals = np.float64(((1 / (np.sqrt(2 * np.pi) * sigma * xvals)) *\n",
    "                          np.exp((-1.0 / 2.0) *\n",
    "                          (((np.log(xvals) - mu) / sigma) ** 2))))\n",
    "\n",
    "    return pdf_vals"
   ]
  },
  {
   "cell_type": "markdown",
   "metadata": {},
   "source": [
    "The following will help you to calculate your model moments. Using numerical integration of the PDF of the log normal distribution in your GMM minimization problem takes too long. The following method uses the cummulative distribution function (CDF). For a given $\\mu$ and $\\sigma$ of the log normal distribution, you can calculate the percent of a distribution between a lower bound `LB` and upper bound `UB` of income using the following code."
   ]
  },
  {
   "cell_type": "code",
   "execution_count": null,
   "metadata": {},
   "outputs": [],
   "source": [
    "import scipy.stats as sts\n",
    "\n",
    "pct_LBtoUB = (sts.lognorm.cdf(UB, s=sigma, scale=np.exp(mu)) -\n",
    "              sts.lognorm.cdf(LB, s=sigma, scale=np.exp(mu)))"
   ]
  },
  {
   "cell_type": "markdown",
   "metadata": {},
   "source": [
    "## 2a) Plot a log normal distribution with the histogram (2 points)\n",
    "Plot a log normal distribution with mean $\\mu=11.5$ and $\\sigma=0.9$ using the `LN_pdf()` code for the lognorm PDF above. Plot the log normal distribution over the histogram using the histogram code above. Make sure to use the same `x`-axis and `y`-axis labels as in the histogram plot above. Make sure to put a legend in the upper-right corner."
   ]
  },
  {
   "cell_type": "code",
   "execution_count": null,
   "metadata": {},
   "outputs": [],
   "source": []
  },
  {
   "cell_type": "markdown",
   "metadata": {},
   "source": [
    "## 2b) GMM estimation with identity weighting matrix (5 points)\n",
    "Using the four moments in the table above fit the log normal distribution to the income data using GMM and the identity matix for the optimal weighting matrix. More specifically, estimate $\\mu$ and $\\sigma$ from the log normal distribution to match the percentage moments in the third column of the table above with the income bin cutoffs listed in the first column of the table above. Report your estimates $\\mu_{GMM1}$ and $\\sigma_{GMM1}$, criterion function value, data moments, and model moments at your estimated parameter values. Plot your estimated log normal distribution on top of the histogram of the data given in the code above. [**HINT:** Use the log normal CDF approach described above to calculate your model moments. Using numerical integrals will take too long.]"
   ]
  },
  {
   "cell_type": "code",
   "execution_count": null,
   "metadata": {},
   "outputs": [],
   "source": []
  },
  {
   "cell_type": "markdown",
   "metadata": {},
   "source": [
    "## 2c) GMM estimation with two-step optimal weighting matrix (3 points)\n",
    "Using the four moments in the table above fit the log normal distribution to the income data using GMM and the two-step optimal weighting matrix. More specifically, estimate $\\mu$ and $\\sigma$ from the log normal distribution to match the percentage moments in the third column of the table above with the income bin cutoffs listed in the first column of the table above. Report your estimates $\\mu_{GMM2}$ and $\\sigma_{GMM2}$, criterion function value, data moments, and model moments at your estimated parameter values. Plot your estimated log normal distribution on top of the histogram of the data given in the code above. [**HINT:** Use the log normal CDF approach described above to calculate your model moments. Using numerical integrals will take too long.]"
   ]
  },
  {
   "cell_type": "code",
   "execution_count": null,
   "metadata": {},
   "outputs": [],
   "source": []
  }
 ],
 "metadata": {
  "kernelspec": {
   "display_name": "Python 3",
   "language": "python",
   "name": "python3"
  },
  "language_info": {
   "codemirror_mode": {
    "name": "ipython",
    "version": 3
   },
   "file_extension": ".py",
   "mimetype": "text/x-python",
   "name": "python",
   "nbconvert_exporter": "python",
   "pygments_lexer": "ipython3",
   "version": "3.7.4"
  }
 },
 "nbformat": 4,
 "nbformat_minor": 2
}
