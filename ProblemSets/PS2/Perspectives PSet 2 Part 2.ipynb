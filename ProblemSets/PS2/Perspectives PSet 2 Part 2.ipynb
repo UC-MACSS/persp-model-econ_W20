{
 "cells": [
  {
   "cell_type": "markdown",
   "metadata": {},
   "source": [
    "# Macs 30150  PSet 2 \n",
    "## Part 2"
   ]
  },
  {
   "cell_type": "code",
   "execution_count": 1,
   "metadata": {},
   "outputs": [],
   "source": [
    "import requests \n",
    "from matplotlib import pyplot as plt\n",
    "from scipy import optimize \n",
    "import warnings\n",
    "warnings.filterwarnings(\"ignore\")"
   ]
  },
  {
   "cell_type": "markdown",
   "metadata": {},
   "source": [
    "### Excercise 2.1"
   ]
  },
  {
   "cell_type": "code",
   "execution_count": 20,
   "metadata": {},
   "outputs": [],
   "source": [
    "import numpy as np\n",
    "g = lambda x: 0.1*x**4 - 1.5*x**3 + 0.53*x**2 + 2*x + 1\n",
    "\n",
    "def integr_g(g, a, b, n, method):\n",
    "    result = 0\n",
    "    if method == 'midpoint':\n",
    "        segs = np.linspace(a, b, n)\n",
    "        mids = (segs[1:]+segs[:-1])/2\n",
    "        g_m = g(mids)\n",
    "        result = (b-a)/n * np.sum(g_m)\n",
    "    elif method == 'trapezoid':\n",
    "        segs = np.linspace(a, b, n)\n",
    "        result = (b-a)/(2*n) * (g(segs[0]) + 2*np.sum(g(segs[1:-1])) + g(segs[-1]))\n",
    "    elif method == 'simpsons':\n",
    "        segs = np.linspace(a, b, 2*n)\n",
    "        result = (b-a)/n/6*(g(segs[0]) + 4*np.sum(g(segs[1::2])) + 2*np.sum(g(segs[2::2])) + g(segs[-1]))\n",
    "    return result"
   ]
  },
  {
   "cell_type": "code",
   "execution_count": 21,
   "metadata": {
    "scrolled": true
   },
   "outputs": [
    {
     "name": "stdout",
     "output_type": "stream",
     "text": [
      "Midpoint:  4351.122786491231 Difference is  -22.210546842102303\n",
      "Trapezoid:  4352.154432093296 Difference is  -21.178901240036794\n",
      "Simpsons:  4341.084377978026 Difference is  -32.24895535530686\n"
     ]
    }
   ],
   "source": [
    "true_value = 4373+1/3\n",
    "result1 = integr_g(g, -10, 10, 200, 'midpoint')\n",
    "result2 = integr_g(g, -10, 10, 200, \"trapezoid\")\n",
    "result3 = integr_g(g, -10, 10, 200, \"simpsons\")\n",
    "print(\"Midpoint: \", result1, \"Difference is \",result1-true_value)\n",
    "print(\"Trapezoid: \", result2, \"Difference is \", result2-true_value)\n",
    "print(\"Simpsons: \", result3, \"Difference is \", result3-true_value)\n",
    "nv = np.arange(20, 201)"
   ]
  },
  {
   "cell_type": "code",
   "execution_count": null,
   "metadata": {},
   "outputs": [],
   "source": [
    "y_mid, y_tra, y_sim=np.zeros(0), np.zeros(0), np.zeros(0)\n",
    "for i in range(20,201,1):\n",
    "    y_mid = np.append(y_mid, abs(integr_g(g, -10, 10, i, 'midpoint')-true_value))\n",
    "    y_tra = np.append(y_tra, abs(integr_g(g, -10, 10, i, 'trapezoid')-true_value))\n",
    "    y_tra = np.append(y_tra, abs(integr_g(g, -10, 10, i, \"simpsons\")-true_value))\n",
    "plt.plot(nv,y_mid,label=\"Midpoint\")\n",
    "plt.plot(nv,y_tra,label=\"Trapezoid\")\n",
    "plt.plot(nv,y_sim,label=\"Simpsons\")\n",
    "plt.legend()\n",
    "plt.show()"
   ]
  },
  {
   "cell_type": "code",
   "execution_count": null,
   "metadata": {},
   "outputs": [],
   "source": [
    "ax=plt.gca()\n",
    "ax.spines['bottom'].set_position('zero')\n",
    "x = np.linspace(-10, 10,1000)\n",
    "plt(x,g(x))"
   ]
  },
  {
   "cell_type": "markdown",
   "metadata": {},
   "source": [
    "### Excercise 2.2"
   ]
  },
  {
   "cell_type": "code",
   "execution_count": 22,
   "metadata": {},
   "outputs": [
    {
     "name": "stdout",
     "output_type": "stream",
     "text": [
      "Z :  [0.5 1.4 2.3 3.2 4.1 5.  5.9 6.8 7.7 8.6 9.5]\n",
      "weight :  [0.00346697 0.01439745 0.04894278 0.11725292 0.19802845 0.23582284\n",
      " 0.19802845 0.11725292 0.04894278 0.01439745 0.00346697]\n",
      "approximation :  5.0\n"
     ]
    }
   ],
   "source": [
    "import scipy as sp\n",
    "from scipy.stats import norm\n",
    "from scipy.integrate import quad\n",
    "\n",
    "def NC_app(u, s, N, k):\n",
    "    z = np.linspace(u - k * s, u + k * s, N)\n",
    "    w = np.zeros(N)\n",
    "    w[0] = norm.cdf((z[0] + z[1])/2, loc=u, scale=s)\n",
    "    w[N - 1] = 1 - norm.cdf((z[N - 2] + z[N - 1]) / 2, loc=u, scale=s)\n",
    "    for i in range(1,N - 1):\n",
    "        w[i] = quad(lambda x:norm.pdf(x, loc=u, scale=s),(z[i - 1] + z[i]) / 2,(z[i + 1] + z[i]) / 2)[0]\n",
    "        app = np.sum(w*z)\n",
    "    return z, w, app\n",
    "print('Z : ',NC_app(5, 1.5, 11, 3)[0])\n",
    "print('weight : ',NC_app(5, 1.5, 11, 3)[1])\n",
    "print('approximation : ',NC_app(5, 1.5, 11, 3)[2])"
   ]
  },
  {
   "cell_type": "markdown",
   "metadata": {},
   "source": [
    "### Excercise 2.3"
   ]
  },
  {
   "cell_type": "code",
   "execution_count": 23,
   "metadata": {},
   "outputs": [
    {
     "name": "stdout",
     "output_type": "stream",
     "text": [
      "A :  [1.64872127e+00 4.05519997e+00 9.97418245e+00 2.45325302e+01\n",
      " 6.03402876e+01 1.48413159e+02 3.65037468e+02 8.97847292e+02\n",
      " 2.20834799e+03 5.43165959e+03 1.33597268e+04]\n",
      "weights :  [0.00346697 0.01439745 0.04894278 0.11725292 0.19802845 0.23582284\n",
      " 0.19802845 0.11725292 0.04894278 0.01439745 0.00346697]\n",
      "approximation :  460.5426522031043\n"
     ]
    }
   ],
   "source": [
    "from scipy.stats import norm\n",
    "import numpy as np\n",
    "\n",
    "def nc_lapp(u, s, N, k):\n",
    "    inp = NC_app(u, s, N, k)\n",
    "    a = np.exp(inp[0])\n",
    "    w = inp[1]\n",
    "    app = np.sum(np.dot(a,w))\n",
    "    return a, w, app\n",
    "print(\"A : \", nc_lapp(5, 1.5, 11, 3)[0])\n",
    "print(\"weights : \", nc_lapp(5, 1.5, 11, 3)[1])\n",
    "print(\"approximation : \", nc_lapp(5, 1.5, 11, 3)[2])"
   ]
  },
  {
   "cell_type": "markdown",
   "metadata": {},
   "source": [
    "### Excercise 2.4"
   ]
  },
  {
   "cell_type": "code",
   "execution_count": 24,
   "metadata": {},
   "outputs": [
    {
     "name": "stdout",
     "output_type": "stream",
     "text": [
      "approximation :  50352.4561927659\n",
      "My approximation compare to the exact expected value:\n",
      "341.3691842441476\n"
     ]
    }
   ],
   "source": [
    "app = nc_lapp(10.5, 0.8,11, 3)[2]\n",
    "print(\"approximation : \", app)\n",
    "expected = np.exp(10.5+0.8**2/2)\n",
    "print('My approximation compare to the exact expected value:')\n",
    "print(abs(app - expected))"
   ]
  },
  {
   "cell_type": "markdown",
   "metadata": {},
   "source": [
    "### Excercise 3.1"
   ]
  },
  {
   "cell_type": "code",
   "execution_count": 29,
   "metadata": {},
   "outputs": [
    {
     "name": "stdout",
     "output_type": "stream",
     "text": [
      "Gaussian quadrature approximation: 3.000000, Difference with mid point: -4370.331147\n",
      "Gaussian quadrature approximation: 3.000000, Difference with trapezoid: -4370.331147\n",
      "Gaussian quadrature approximation: 3.000000, Difference with simpsons: -4370.330110\n",
      "Gaussian quadrature approximation: 3.000000, Difference with true value: -4370.330000\n"
     ]
    }
   ],
   "source": [
    "\n",
    "def Gaus(g,a,b,n):\n",
    "    w0= [1/n for i in range(n)]\n",
    "    x0 = [a + i * (b - a) / (n - 1) for i in range(n)] \n",
    "    iv = w0 + x0\n",
    "    def func(x):\n",
    "        output = []\n",
    "        for i in range(2 * n):\n",
    "            w, k  = x[:n], x[n:]\n",
    "            sum_ = sum(w[j] * (k[j] ** i) for j in range(n))\n",
    "            output.append((b ** (i + 1) - a ** (i + 1)) / (i + 1) - sum_)\n",
    "        return tuple(output)\n",
    "    vec = [l for l in sp.optimize.root(func, iv)['x']] \n",
    "    w,s  = vec[:n], vec[n:]\n",
    "    m = 0\n",
    "    for i in range(n):\n",
    "        m += w[i] * g(s[i]) \n",
    "    return n\n",
    "f = lambda x: 0.1 * x ** 4 - 1.5 * x ** 3 + 0.53 * x ** 2 + 2 * x + 1\n",
    "gaus = Gaus(f,-10,10,3)\n",
    "mid = integr_g(g, -10, 10, 2000000, 'midpoint')\n",
    "tra = integr_g(g, -10, 10, 2000000, \"trapezoid\")\n",
    "sim = integr_g(g, -10, 10, 2000000, \"simpsons\")\n",
    "print(\"Gaussian quadrature approximation: {:f}, Difference with mid point: {:f}\".format(gaus, gaus-mid))\n",
    "print(\"Gaussian quadrature approximation: {:f}, Difference with trapezoid: {:f}\".format(gaus, gaus-tra))\n",
    "print(\"Gaussian quadrature approximation: {:f}, Difference with simpsons: {:f}\".format(gaus, gaus-sim))\n",
    "print(\"Gaussian quadrature approximation: {:f}, Difference with true value: {:f}\".format(gaus, gaus-4373.33))"
   ]
  },
  {
   "cell_type": "markdown",
   "metadata": {},
   "source": [
    "### Excercise 3.2"
   ]
  },
  {
   "cell_type": "code",
   "execution_count": 30,
   "metadata": {},
   "outputs": [
    {
     "name": "stdout",
     "output_type": "stream",
     "text": [
      "Gaussian quadrature approximation: 4373.333333\n",
      "The absolute error: 0.000000\n"
     ]
    }
   ],
   "source": [
    "q = quad(lambda x: 0.1 * x ** 4 - 1.5 * x ** 3 + 0.53 * x ** 2 + 2 * x + 1, -10, 10)[0]\n",
    "print(\"Gaussian quadrature approximation: {:f}\".format(q))\n",
    "print(\"The absolute error: {:f}\".format(abs(q-(4373+1/3))))"
   ]
  },
  {
   "cell_type": "markdown",
   "metadata": {},
   "source": [
    "### Excercise 4.1"
   ]
  },
  {
   "cell_type": "code",
   "execution_count": 144,
   "metadata": {},
   "outputs": [
    {
     "name": "stdout",
     "output_type": "stream",
     "text": [
      "The smallest number : 615\n"
     ]
    }
   ],
   "source": [
    "import numpy as np\n",
    "np.random.seed(seed=25)\n",
    "def mc(f, o, n):\n",
    "    x_1 = np.random.uniform(o[0],o[1],n)\n",
    "    x_2 = np.random.uniform(o[2],o[3],n)\n",
    "    c = np.sum(f(x_1,x_2))\n",
    "    area = (o[3]-o[2])*(o[1]-o[0])\n",
    "    return area*c/n\n",
    "f = lambda x,y: x**2+y**2<=1\n",
    "i = 1\n",
    "while round(mc(f,[-1,1,-1,1],i),4) != 3.1415:\n",
    "    i = i + 1\n",
    "else:\n",
    "    print(\"The smallest number :\", i)"
   ]
  },
  {
   "cell_type": "markdown",
   "metadata": {},
   "source": [
    "### Excercise 4.2"
   ]
  },
  {
   "cell_type": "code",
   "execution_count": 31,
   "metadata": {},
   "outputs": [],
   "source": [
    "# Imported function\n",
    "import numpy as np\n",
    "\n",
    "def isPrime(n):\n",
    "    '''\n",
    "    --------------------------------------------------------------------\n",
    "    This function returns a boolean indicating whether an integer n is a\n",
    "    prime number\n",
    "    --------------------------------------------------------------------\n",
    "    INPUTS:\n",
    "    n = scalar, any scalar value\n",
    "\n",
    "    OTHER FUNCTIONS AND FILES CALLED BY THIS FUNCTION: None\n",
    "\n",
    "    OBJECTS CREATED WITHIN FUNCTION:\n",
    "    i = integer in [2, sqrt(n)]\n",
    "\n",
    "    FILES CREATED BY THIS FUNCTION: None\n",
    "\n",
    "    RETURN: boolean\n",
    "    --------------------------------------------------------------------\n",
    "    '''\n",
    "    for i in range(2, int(np.sqrt(n) + 1)):\n",
    "        if n % i == 0:\n",
    "            return False\n",
    "\n",
    "    return True\n",
    "def primes_ascend(N, min_val=2):\n",
    "    '''\n",
    "    --------------------------------------------------------------------\n",
    "    This function generates an ordered sequence of N consecutive prime\n",
    "    numbers, the smallest of which is greater than or equal to 1 using\n",
    "    the Sieve of Eratosthenes algorithm.\n",
    "    (https://en.wikipedia.org/wiki/Sieve_of_Eratosthenes)\n",
    "    --------------------------------------------------------------------\n",
    "    INPUTS:\n",
    "    N       = integer, number of elements in sequence of consecutive\n",
    "              prime numbers\n",
    "    min_val = scalar >= 2, the smallest prime number in the consecutive\n",
    "              sequence must be greater-than-or-equal-to this value\n",
    "\n",
    "    OTHER FUNCTIONS AND FILES CALLED BY THIS FUNCTION:\n",
    "        isPrime()\n",
    "\n",
    "    OBJECTS CREATED WITHIN FUNCTION:\n",
    "    primes_vec     = (N,) vector, consecutive prime numbers greater than\n",
    "                     min_val\n",
    "    MinIsEven      = boolean, =True if min_val is even, =False otherwise\n",
    "    MinIsGrtrThn2  = boolean, =True if min_val is\n",
    "                     greater-than-or-equal-to 2, =False otherwise\n",
    "    curr_prime_ind = integer >= 0, running count of prime numbers found\n",
    "\n",
    "    FILES CREATED BY THIS FUNCTION: None\n",
    "\n",
    "    RETURN: primes_vec\n",
    "    --------------------------------------------------------------------\n",
    "    '''\n",
    "    primes_vec = np.zeros(N, dtype=int)\n",
    "    MinIsEven = 1 - min_val % 2\n",
    "    MinIsGrtrThn2 = min_val > 2\n",
    "    curr_prime_ind = 0\n",
    "    if not MinIsGrtrThn2:\n",
    "        i = 2\n",
    "        curr_prime_ind += 1\n",
    "        primes_vec[0] = i\n",
    "    i = min(3, min_val + (MinIsEven * 1))\n",
    "    while curr_prime_ind < N:\n",
    "        if isPrime(i):\n",
    "            curr_prime_ind += 1\n",
    "            primes_vec[curr_prime_ind - 1] = i\n",
    "        i += 2\n",
    "\n",
    "    return primes_vec"
   ]
  },
  {
   "cell_type": "code",
   "execution_count": 32,
   "metadata": {},
   "outputs": [
    {
     "name": "stdout",
     "output_type": "stream",
     "text": [
      "[0.28427125 0.64101615 0.72135955]\n",
      "[0.9848481  0.73066959 0.57427527]\n",
      "[0.7841423  0.28427125 0.63585661]\n",
      "[0.36563657 0.97442541 0.9122485 ]\n"
     ]
    }
   ],
   "source": [
    "def dig_x(x): \n",
    "    return x % 1\n",
    "def equi_distri(n, d, typ): \n",
    "    p_v= primes_ascend(d)\n",
    "    if typ == 'weyl':\n",
    "        return dig_x(n*np.sqrt(p_v))\n",
    "    elif typ == 'haber':\n",
    "        return dig_x(n*(n+1)/2*np.sqrt(p_v))\n",
    "    elif typ == 'nied':\n",
    "        lis1 = [i/(d+1) for i in range(1,d+1)]\n",
    "        return dig_x(n*np.power(2,lis1))\n",
    "    elif typ == 'baker':\n",
    "        lis2 = [1/i for i in range(1,d+1)]\n",
    "        return dig_x(n*np.exp(lis2))\n",
    "print(equi_distri(20,3,\"weyl\"))\n",
    "print(equi_distri(20,3,\"haber\"))\n",
    "print(equi_distri(20,3,\"nied\"))\n",
    "print(equi_distri(20,3,\"baker\"))"
   ]
  },
  {
   "cell_type": "markdown",
   "metadata": {},
   "source": [
    "### Exercise 4.3"
   ]
  },
  {
   "cell_type": "code",
   "execution_count": 33,
   "metadata": {},
   "outputs": [],
   "source": [
    "def quasi_mc(fcn, o, n, typ):\n",
    "    x1, x2 = o[0][0], o[0][1]\n",
    "    y1, y2 = o[1][0], o[1][1]\n",
    "    x = [(x2-x1)*equi_distri(i,2,typ)[0]+x1 for i in range(1,n+1)]\n",
    "    y = [(y2-y1)*equi_distri(i,2,typ)[1]+y1 for i in range(1,n+1)]\n",
    "    x_ram = np.array(x)\n",
    "    y_ram = np.array(y)\n",
    "    cir = np.sum(fcn(x_ram, y_ram))\n",
    "    a = abs(x1-x2)*abs(y1-y2)\n",
    "    app = cir/n*a\n",
    "    return app\n",
    "fcn = lambda x,y: x**2+y**2<1\n",
    "sqr = [[-1,1],[-1,1]]"
   ]
  },
  {
   "cell_type": "code",
   "execution_count": 34,
   "metadata": {},
   "outputs": [
    {
     "name": "stdout",
     "output_type": "stream",
     "text": [
      "The smallest number of weyl: 1244\n"
     ]
    }
   ],
   "source": [
    "i = 1\n",
    "while round(quasi_mc(fcn, sqr, i, 'weyl'),4) != 3.1415:\n",
    "    i = i + 1\n",
    "else:\n",
    "    print(\"The smallest number of weyl:\", i)"
   ]
  },
  {
   "cell_type": "code",
   "execution_count": 35,
   "metadata": {},
   "outputs": [
    {
     "name": "stdout",
     "output_type": "stream",
     "text": [
      "The smallest number of Haber: 2078\n"
     ]
    }
   ],
   "source": [
    "i = 1\n",
    "while round(quasi_mc(fcn, sqr, i, 'haber'),4) != 3.1415:\n",
    "    i = i + 1\n",
    "else:\n",
    "    print(\"The smallest number of Haber:\", i)"
   ]
  },
  {
   "cell_type": "code",
   "execution_count": null,
   "metadata": {},
   "outputs": [],
   "source": [
    "i = 1\n",
    "while round(quasi_mc(fcn, sqr, i, 'neid'),4) != 3.1415:\n",
    "    i = i + 1\n",
    "else:\n",
    "    print(\"The smallest number of Neiderreiter:\", i)"
   ]
  },
  {
   "cell_type": "code",
   "execution_count": 36,
   "metadata": {},
   "outputs": [
    {
     "name": "stdout",
     "output_type": "stream",
     "text": [
      "The smallest number of Baker: 205\n"
     ]
    }
   ],
   "source": [
    "i = 1\n",
    "while round(quasi_mc(fcn, sqr, i, 'baker'),4) != 3.1415:\n",
    "    i = i + 1\n",
    "else:\n",
    "    print(\"The smallest number of Baker:\", i)"
   ]
  },
  {
   "cell_type": "code",
   "execution_count": null,
   "metadata": {},
   "outputs": [],
   "source": [
    "quasi_mc(fcn, sqr, 1000, 'neid')"
   ]
  },
  {
   "cell_type": "code",
   "execution_count": null,
   "metadata": {},
   "outputs": [],
   "source": []
  }
 ],
 "metadata": {
  "kernelspec": {
   "display_name": "Python 3",
   "language": "python",
   "name": "python3"
  },
  "language_info": {
   "codemirror_mode": {
    "name": "ipython",
    "version": 3
   },
   "file_extension": ".py",
   "mimetype": "text/x-python",
   "name": "python",
   "nbconvert_exporter": "python",
   "pygments_lexer": "ipython3",
   "version": "3.7.3"
  }
 },
 "nbformat": 4,
 "nbformat_minor": 2
}
