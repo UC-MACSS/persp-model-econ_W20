{
 "nbformat": 4,
 "nbformat_minor": 2,
 "metadata": {
  "language_info": {
   "name": "python",
   "codemirror_mode": {
    "name": "ipython",
    "version": 3
   },
   "version": "2.7.10-final"
  },
  "orig_nbformat": 2,
  "file_extension": ".py",
  "mimetype": "text/x-python",
  "name": "python",
  "npconvert_exporter": "python",
  "pygments_lexer": "ipython3",
  "version": 3,
  "kernelspec": {
   "name": "python271064bit94a5027fe1dd48d39437e5d9a8a86308",
   "display_name": "Python 2.7.10 64-bit"
  }
 },
 "cells": [
  {
   "cell_type": "code",
   "execution_count": 1,
   "metadata": {},
   "outputs": [],
   "source": [
    "import sympy as sy\n",
    "import numpy as np\n",
    "from math import *\n",
    "from matplotlib import pyplot as plt"
   ]
  },
  {
   "cell_type": "code",
   "execution_count": 2,
   "metadata": {},
   "outputs": [
    {
     "data": {
      "text/plain": "<matplotlib.legend.Legend at 0x116fdd350>"
     },
     "execution_count": 2,
     "metadata": {},
     "output_type": "execute_result"
    }
   ],
   "source": [
    "# Problem 1\n",
    "x = sy.symbols('x')\n",
    "Problem1solver = (sy.sin(x)+1)**sy.sin(sy.cos(x))\n",
    "diff_expr = sy.diff(Problem1solver,x)\n",
    "Problem1solver = sy.lambdify(x,Problem1solver,'numpy')\n",
    "f_prime = sy.lambdify(x,diff_expr,'numpy')\n",
    "x = np.linspace(-pi, pi, 100)\n",
    "y = Problem1solver(x)\n",
    "y_prime = f_prime(x)\n",
    "\n",
    "plt.plot(x, y, label = \"f\")\n",
    "plt.plot(x, y_prime, label = \"f'\")\n",
    "ax = plt.gca()\n",
    "ax.spines[\"bottom\"].set_position(\"zero\")\n",
    "plt.legend(loc='upper right',prop={'size': 8})"
   ]
  },
  {
   "cell_type": "code",
   "execution_count": 3,
   "metadata": {},
   "outputs": [
    {
     "data": {
      "text/plain": "<matplotlib.legend.Legend at 0x116fb3690>"
     },
     "execution_count": 3,
     "metadata": {},
     "output_type": "execute_result"
    }
   ],
   "source": [
    "# Problem 2\n",
    "f = lambda x: (sin(x)+1)**sin(cos(x))\n",
    "f_prime_forward1 = lambda x_0,h: (f(x_0+h)-f(x_0))/h\n",
    "f_prime_forward2 = lambda x_0,h: (-3*f(x_0)+4*f(x_0+h)-f(x_0+2*h))/(2*h)\n",
    "f_prime_backward1 = lambda x_0,h: (f(x_0)-f(x_0-h))/h\n",
    "f_prime_backward2 = lambda x_0,h: (3*f(x_0)-4*f(x_0-h)+f(x_0-2*h))/(2*h)\n",
    "f_prime_centered1 = lambda x_0,h: (f(x_0+h)-f(x_0-h))/(2*h)\n",
    "f_prime_centered2 = lambda x_0,h: (f(x_0-2*h)-8*f(x_0-h)+8*f(x_0+h)-f(x_0+2*h))/(12*h)\n",
    "\n",
    "derivative_dict = {\"Order 1 Forward\":f_prime_forward1,\n",
    "                   \"Order 2 Forward\":f_prime_forward2,\n",
    "                   \"Order 1 Backward\":f_prime_backward1,\n",
    "                   \"Order 2 Backward\":f_prime_backward2,\n",
    "                   \"Order 1 Centered\":f_prime_centered1,\n",
    "                   \"Order 2 Centered\":f_prime_centered2}\n",
    "\n",
    "\n",
    "def Problem2solver(handle_f,x,h):\n",
    "    thefunction = derivative_dict[handle_f]\n",
    "    return thefunction(x,h)\n",
    "\n",
    "\n",
    "def plot_derivative(handle_f, h, n = 100):\n",
    "    x = np.linspace(-pi, pi, n)\n",
    "    y = [Problem2solver(handle_f,elem,h) for elem in x]\n",
    "    plt.plot(x, y, label = handle_f+\", h = %-6.3f\" %h)\n",
    "    ax = plt.gca()\n",
    "    ax.spines[\"bottom\"].set_position(\"zero\")\n",
    "\n",
    "h = 0.01\n",
    "for handle in derivative_dict:\n",
    "    plot_derivative(handle,h)\n",
    "\n",
    "plt.plot(x, y_prime, label = \"Result of Problem 1\")\n",
    "ax = plt.gca()\n",
    "ax.spines[\"bottom\"].set_position(\"zero\")\n",
    "plt.legend(loc='upper right',prop={'size': 8})"
   ]
  },
  {
   "cell_type": "code",
   "execution_count": 4,
   "metadata": {},
   "outputs": [
    {
     "data": {
      "text/plain": "<matplotlib.legend.Legend at 0x116caa710>"
     },
     "execution_count": 4,
     "metadata": {},
     "output_type": "execute_result"
    }
   ],
   "source": [
    "# Problem 3\n",
    "hs = np.logspace(-8,0,9)\n",
    "x0 = 1\n",
    "\n",
    "def plot_error(handle_f, h):\n",
    "    thefunction = derivative_dict[handle_f]\n",
    "    y0 = f_prime(x0)\n",
    "    err = [abs(thefunction(x0,elem)-y0) for elem in h]\n",
    "    plt.loglog(h, err, label = handle_f)\n",
    "    ax = plt.gca()\n",
    "    ax.spines[\"bottom\"].set_position(\"zero\")\n",
    "\n",
    "for handle in derivative_dict:\n",
    "    plot_error(handle,hs)\n",
    "plt.legend(loc='upper left',prop={'size': 8})"
   ]
  },
  {
   "cell_type": "code",
   "execution_count": 5,
   "metadata": {},
   "outputs": [
    {
     "name": "stdout",
     "output_type": "stream",
     "text": "[[8, 47.001039380953344], [9, 48.99880514036797], [10, 50.09944162965227], [11, 48.290350838204944], [12, 51.564559049272255], [13, 53.923033545053535]]\n"
    }
   ],
   "source": [
    "# Problem 4\n",
    "test = np.load('plane.npy',encoding = \"latin1\")\n",
    "l = list()\n",
    "for elem in test:\n",
    "    alpha = np.deg2rad(elem[1])\n",
    "    beta = np.deg2rad(elem[2])\n",
    "    x = 500*tan(beta)/(tan(beta)-tan(alpha))\n",
    "    y = 500*tan(beta)*tan(alpha)/(tan(beta)-tan(alpha))\n",
    "    l.append([elem[0],x,y])\n",
    "\n",
    "l2 = list()\n",
    "for t in range(len(l)-2):\n",
    "    vx = (l[t+2][1]-l[t][1])/2\n",
    "    vy = (l[t+2][2]-l[t][2])/2\n",
    "    v = sqrt(vx**2+vy**2)\n",
    "    l2.append([t+8,v])\n",
    "print l2"
   ]
  },
  {
   "cell_type": "code",
   "execution_count": 6,
   "metadata": {},
   "outputs": [
    {
     "name": "stdout",
     "output_type": "stream",
     "text": "[[ 0.e+00  0.e+00]\n [ 1.e-04 -1.e+00]]\n"
    }
   ],
   "source": [
    "# Problem 5\n",
    "def Problem5solver(f,x0,h):\n",
    "    n = len(x0)\n",
    "    hej = h*np.identity(n)\n",
    "    l = list()\n",
    "    for j in range(n):\n",
    "        l.append((f(x0+hej[j])-f(x0-hej[j]))/(2*h))\n",
    "    return np.array(l).transpose()\n",
    "\n",
    "# f(x,y) = [x**2,x**3-y]^T\n",
    "def f(x):\n",
    "    return np.array([x[0]**2,x[0]**3-x[1]])\n",
    "\n",
    "print Problem5solver(f,np.array([0,0]),0.01)"
   ]
  },
  {
   "cell_type": "code",
   "execution_count": 7,
   "metadata": {},
   "outputs": [],
   "source": [
    "\n",
    "# Problem 7\n",
    "def Problem7solver(N):\n",
    "    print np.randn(1)"
   ]
  },
  {
   "cell_type": "code",
   "execution_count": null,
   "metadata": {},
   "outputs": [],
   "source": []
  }
 ]
}