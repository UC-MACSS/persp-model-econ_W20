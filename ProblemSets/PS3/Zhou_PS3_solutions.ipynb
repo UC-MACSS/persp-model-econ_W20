{
 "cells": [
  {
   "cell_type": "markdown",
   "metadata": {},
   "source": [
    "# Problem Set \\# 3"
   ]
  },
  {
   "cell_type": "markdown",
   "metadata": {},
   "source": [
    "### MACS 30150, Dr. Evans\n",
    "#### Zhou Xing"
   ]
  },
  {
   "cell_type": "markdown",
   "metadata": {},
   "source": [
    "## 5.1\n",
    "$$ \\max _{W_{2} \\in\\left[0, W_{1}\\right]} u\\left(W_{1}-W_{2}\\right)$$\n",
    "Optimal Choice: $c_{1} = W_{1}$, since $u$ is increasing in $c_1 (W_1)$"
   ]
  },
  {
   "cell_type": "markdown",
   "metadata": {},
   "source": [
    "## 5.2\n",
    "$$ \\max _{W_{3} \\in\\left[0, W_{2}\\right]} u\\left(W_{2}-W_{3}\\right)$$\n",
    "$$ \n",
    "\\max _{W_{2} \\in\\left[0, W_{1}\\right]}\\left[u\\left(W_{1}-W_{2}\\right)+\\beta\\max _{W_{3} \\in\\left[0, W_{2}\\right]} u\\left(W_{2}-W_{3}\\right)\\right]\n",
    " $$\n",
    "Optimal Choice: $-\\frac{\\mathrm{d} u}{\\mathrm{d} (W_{2} - W_{1})}+\\beta\\frac{\\mathrm{d} u}{\\mathrm{d} W_{2}} = 0$, since we should take $W_3 = 0$ and differentiate the utility function with $W_2$"
   ]
  },
  {
   "cell_type": "markdown",
   "metadata": {},
   "source": [
    "## 5.3\n",
    "$W_{4}$:\n",
    "$$ \n",
    "\\max _{W_{4} \\in\\left[0, W_{3}\\right]}  u\\left(W_{3}-W_{4}\\right)\n",
    " $$\n",
    "$W_{3}$:\n",
    "$$ \n",
    "\\max _{W_{3} \\in\\left[0, W_{2}\\right]} \\left[u\\left(W_{2}-W_{3}\\right)+\\beta\\max _{W_{4} \\in\\left[0, W_{3}\\right]}  u\\left(W_{3}-W_{4}\\right)\\right]\n",
    " $$\n",
    "$W_{2}$: $$\n",
    "\\max _{W_{2} \\in\\left[0, W_{1}\\right]}\\left\\{u\\left(W_{1}-W_{2}\\right)+\\beta\\max _{W_{3} \\in\\left[0, W_{2}\\right]} \\left[u\\left(W_{2}-W_{3}\\right)+\\beta\\max _{W_{4} \\in\\left[0, W_{3}\\right]}  u\\left(W_{3}-W_{4}\\right)\\right]\\right\\}\n",
    " $$"
   ]
  },
  {
   "cell_type": "markdown",
   "metadata": {},
   "source": [
    "Solve the maximation problem backwards. $W_{4} = 0$. Taking advantage of the FOC, we can find the evolvement of W is $W_{1} = 1$, $W_{2} = 0.631$, $W_{3} = 0.299$, $W_{4} = 0$ and C is $C_{1} = 0.369$, $C_{2} = 0.332$, $C_{3} = 0.299$."
   ]
  },
  {
   "cell_type": "code",
   "execution_count": 1,
   "metadata": {},
   "outputs": [
    {
     "data": {
      "text/plain": [
       "<Figure size 640x480 with 1 Axes>"
      ]
     },
     "metadata": {},
     "output_type": "display_data"
    },
    {
     "data": {
      "text/plain": [
       "<Figure size 640x480 with 1 Axes>"
      ]
     },
     "metadata": {},
     "output_type": "display_data"
    }
   ],
   "source": [
    "import matplotlib.pyplot as plt\n",
    "beta = 0.9\n",
    "W2 = (beta+beta**2)/(beta+beta**2+1)\n",
    "W3 = beta**2/(beta+beta**2+1)\n",
    "W = [1,W2,W3,0]\n",
    "C = [W[i]-W[i+1] for i in range(3)]\n",
    "t = [0,1,2,3]\n",
    "\n",
    "plt.plot(t,W)\n",
    "plt.title(\"W's evolution along t\")\n",
    "plt.xlabel(\"t\")\n",
    "plt.ylabel(\"W\")\n",
    "plt.show()\n",
    "\n",
    "plt.plot(t[1:],C)\n",
    "plt.title(\"C's evolution along t\")\n",
    "plt.xlabel(\"t\")\n",
    "plt.ylabel(\"C\")\n",
    "plt.show()"
   ]
  },
  {
   "cell_type": "markdown",
   "metadata": {},
   "source": [
    "## 5.4\n",
    "$$ V_{T-1}\\left(W_{T-1}\\right) \\equiv \\max _{W_{T}} u\\left(W_{T-1}-W_{T}\\right)+\\beta u\\left(W_{T}\\right)$$\n",
    "The FOC shows that:\n",
    "$$ \n",
    "-u^{\\prime}\\left(W_{T-1}-\\psi_{T-1}\\left(W_{T-1}\\right)\\right)+\\beta u^{\\prime}\\left(\\psi_{T-1}\\left(W_{T-1}\\right)\\right)=0\n",
    " $$\n",
    "$V_{T-1}$ could be written as:\n",
    "$$ \n",
    "V_{T-1}\\left(W_{T-1}\\right)=u\\left(W_{T-1}-\\psi_{T-1}\\left(W_{T-1}\\right)\\right)+\\beta u\\left(\\psi_{T-1}\\left(W_{T-1}\\right)\\right)\n",
    " $$"
   ]
  },
  {
   "cell_type": "markdown",
   "metadata": {},
   "source": [
    "## 5.5\n",
    "$$ \n",
    "V_{T}(\\overline{W})=\\ln (\\overline{W})\n",
    " $$\n",
    "$$ \n",
    "V_{T-1}(\\overline{W})=\\max _{W_{T}}\\ln(\\overline{W}-W_{T})+\\beta\\ln (W_{T})\n",
    " $$\n",
    "FOC: $$ \n",
    "W_{T}=\\frac{\\beta \\overline{W}}{1+\\beta}\n",
    " $$\n",
    "Thus, $$\n",
    "V_{T-1}(\\overline{W})=\\ln \\left(\\frac{\\overline{W}}{1+\\beta}\\right)+\\beta \\ln \\left(\\frac{\\beta \\overline{W}}{1+\\beta}\\right)\\neq V_{T}(\\overline{W})\n",
    " $$ \n",
    "$$ \n",
    "\\psi_{T}(\\overline{W})=0,\\  \\psi_{T-1}(\\overline{W}) = \\frac{\\beta \\overline{W}}{1+\\beta},\\ \\psi_{T}(\\overline{W})\\neq \\psi_{T-1}(\\overline{W})\n",
    " $$"
   ]
  },
  {
   "cell_type": "markdown",
   "metadata": {},
   "source": [
    "## 5.6\n",
    "$$ \n",
    "V_{T-2}\\left(W_{T-2}\\right) \\equiv \\max _{W_{T-1}} \\ln\\left(W_{T-2}-W_{T-1}\\right)+\\beta V_{T-1}\\left(W_{T-1}\\right)\n",
    " $$\n",
    "FOC: $$-\\frac{1}{W_{T-2}-W_{T-1}}+\\beta\\frac{1}{W_{T-1}-W_{T}}=0$$\n",
    "$$-\\frac{1}{W_{T-1}-W_{T}}+\\beta\\frac{1}{W_{T}}=0$$\n",
    "Thus,\n",
    "$$ \n",
    "\\psi_{T-2}\\left(W_{T-2}\\right)=\\frac{\\beta+\\beta^{2}}{1+\\beta+\\beta^{2}} W_{T-2}\n",
    " $$\n",
    " $$ \n",
    "V_{T-2}\\left(W_{T-2}\\right)=\\ln \\left(\\frac{W_{T-2}}{1+\\beta+\\beta^{2}}\\right)+\\beta \\ln \\left(\\frac{\\beta W_{T-2}}{1+\\beta+\\beta^{2}}\\right)+\\beta^{2} \\ln \\left(\\frac{\\beta^{2}W_{T-2}}{1+\\beta+\\beta^{2}}\\right)\n",
    " $$"
   ]
  },
  {
   "cell_type": "markdown",
   "metadata": {},
   "source": [
    "## 5.7\n",
    "$$\\psi_{T-s}(W_{T-s})=\\frac{\\sum\\limits_{i=1}^{s}\\beta^{i}}{\\sum\\limits_{i=0}^{s}\\beta^{i}}W_{T-s}$$\n",
    "$$V_{T-s}(W_{T-s}) = \\sum\\limits_{i=0}^{s} \\beta^{i}ln\\left(\\frac{\\beta^{i}W_{T-s}}{\\sum\\limits_{j=0}^{s}\\beta^{j}}\\right)$$\n",
    "\n",
    "$$ \n",
    "\\lim _{s \\rightarrow \\infty} V_{T-s}\\left(W_{T-s}\\right)=V\\left(W_{T-s}\\right) = \\left(\\frac{1}{1-\\beta}\\right) \\ln \\left((1-\\beta){ W_{T-s}}\\right)+\\frac{\\beta}{(1-\\beta)^{2}} \\ln (\\beta)\n",
    " $$\n",
    "$$ \n",
    "\\lim _{s \\rightarrow \\infty} \\psi_{T-s}\\left(W_{T-s}\\right)=\\psi\\left(W_{T-s}\\right)=\\beta W_{T-s}\n",
    " $$"
   ]
  },
  {
   "cell_type": "markdown",
   "metadata": {},
   "source": [
    "## 5.8\n",
    "$$ \n",
    "V(W)=\\max _{w \\in[0, W]} u(W-w) +\\beta V(w)\n",
    " $$"
   ]
  },
  {
   "cell_type": "markdown",
   "metadata": {},
   "source": [
    "## 5.9"
   ]
  },
  {
   "cell_type": "code",
   "execution_count": 2,
   "metadata": {},
   "outputs": [
    {
     "data": {
      "text/plain": [
       "array([0.01, 0.02, 0.03, 0.04, 0.05, 0.06, 0.07, 0.08, 0.09, 0.1 , 0.11,\n",
       "       0.12, 0.13, 0.14, 0.15, 0.16, 0.17, 0.18, 0.19, 0.2 , 0.21, 0.22,\n",
       "       0.23, 0.24, 0.25, 0.26, 0.27, 0.28, 0.29, 0.3 , 0.31, 0.32, 0.33,\n",
       "       0.34, 0.35, 0.36, 0.37, 0.38, 0.39, 0.4 , 0.41, 0.42, 0.43, 0.44,\n",
       "       0.45, 0.46, 0.47, 0.48, 0.49, 0.5 , 0.51, 0.52, 0.53, 0.54, 0.55,\n",
       "       0.56, 0.57, 0.58, 0.59, 0.6 , 0.61, 0.62, 0.63, 0.64, 0.65, 0.66,\n",
       "       0.67, 0.68, 0.69, 0.7 , 0.71, 0.72, 0.73, 0.74, 0.75, 0.76, 0.77,\n",
       "       0.78, 0.79, 0.8 , 0.81, 0.82, 0.83, 0.84, 0.85, 0.86, 0.87, 0.88,\n",
       "       0.89, 0.9 , 0.91, 0.92, 0.93, 0.94, 0.95, 0.96, 0.97, 0.98, 0.99,\n",
       "       1.  ])"
      ]
     },
     "execution_count": 2,
     "metadata": {},
     "output_type": "execute_result"
    }
   ],
   "source": [
    "import numpy as np\n",
    "W_1b = 1e-2\n",
    "W_ub = 1.0\n",
    "N = 100\n",
    "W_vec = np.linspace(W_1b, W_ub , N)\n",
    "W_vec\n",
    "# the reshape will be done in the following part to save space here"
   ]
  },
  {
   "cell_type": "markdown",
   "metadata": {},
   "source": [
    "## 5.10\n",
    "The policy function is：\n",
    "$$ \n",
    "W^{\\prime}=\\psi_{T}(W)=0\n",
    " $$  \n",
    "The value function is:\n",
    "$$ \n",
    "V_{T}(W) = \\ln W\n",
    " $$"
   ]
  },
  {
   "cell_type": "code",
   "execution_count": 3,
   "metadata": {},
   "outputs": [
    {
     "data": {
      "text/plain": [
       "array([[1.0e-10, 1.0e-10, 1.0e-10, ..., 1.0e-10, 1.0e-10, 1.0e-10],\n",
       "       [1.0e-02, 1.0e-10, 1.0e-10, ..., 1.0e-10, 1.0e-10, 1.0e-10],\n",
       "       [2.0e-02, 1.0e-02, 1.0e-10, ..., 1.0e-10, 1.0e-10, 1.0e-10],\n",
       "       ...,\n",
       "       [9.7e-01, 9.6e-01, 9.5e-01, ..., 1.0e-10, 1.0e-10, 1.0e-10],\n",
       "       [9.8e-01, 9.7e-01, 9.6e-01, ..., 1.0e-02, 1.0e-10, 1.0e-10],\n",
       "       [9.9e-01, 9.8e-01, 9.7e-01, ..., 2.0e-02, 1.0e-02, 1.0e-10]])"
      ]
     },
     "execution_count": 3,
     "metadata": {},
     "output_type": "execute_result"
    }
   ],
   "source": [
    "beta = 0.9\n",
    "\n",
    "def utility(c):\n",
    "    util = np.log(c)\n",
    "    return util\n",
    "\n",
    "w_mat = np.tile(W_vec.reshape(N, 1), (1, N))\n",
    "w_prime_mat = np.tile(W_vec.reshape(1, N), (N, 1))\n",
    "c_mat = w_mat - w_prime_mat\n",
    "c_pos = c_mat <= 0\n",
    "c_mat[c_pos] = 1e-10\n",
    "\n",
    "# Matrix of the consumption (the difference between W & W')\n",
    "c_mat\n",
    "\n",
    "# the reshape will be done in the following part to save space here"
   ]
  },
  {
   "cell_type": "code",
   "execution_count": 4,
   "metadata": {},
   "outputs": [
    {
     "data": {
      "text/plain": [
       "array([[-2.30258509e+01, -2.30258509e+01, -2.30258509e+01, ...,\n",
       "        -2.30258509e+01, -2.30258509e+01, -2.30258509e+01],\n",
       "       [-4.60517019e+00, -2.30258509e+01, -2.30258509e+01, ...,\n",
       "        -2.30258509e+01, -2.30258509e+01, -2.30258509e+01],\n",
       "       [-3.91202301e+00, -4.60517019e+00, -2.30258509e+01, ...,\n",
       "        -2.30258509e+01, -2.30258509e+01, -2.30258509e+01],\n",
       "       ...,\n",
       "       [-3.04592075e-02, -4.08219945e-02, -5.12932944e-02, ...,\n",
       "        -2.30258509e+01, -2.30258509e+01, -2.30258509e+01],\n",
       "       [-2.02027073e-02, -3.04592075e-02, -4.08219945e-02, ...,\n",
       "        -4.60517019e+00, -2.30258509e+01, -2.30258509e+01],\n",
       "       [-1.00503359e-02, -2.02027073e-02, -3.04592075e-02, ...,\n",
       "        -3.91202301e+00, -4.60517019e+00, -2.30258509e+01]])"
      ]
     },
     "execution_count": 4,
     "metadata": {},
     "output_type": "execute_result"
    }
   ],
   "source": [
    "u_mat = utility(c_mat)\n",
    "\n",
    "# Matrix of the utility\n",
    "u_mat"
   ]
  },
  {
   "cell_type": "code",
   "execution_count": 5,
   "metadata": {},
   "outputs": [
    {
     "data": {
      "text/plain": [
       "array([[-9.00000002e+09, -9.00000002e+09, -9.00000002e+09, ...,\n",
       "        -9.00000002e+09, -9.00000002e+09, -9.00000002e+09],\n",
       "       [-4.60517019e+00, -9.00000002e+09, -9.00000002e+09, ...,\n",
       "        -9.00000002e+09, -9.00000002e+09, -9.00000002e+09],\n",
       "       [-3.91202301e+00, -4.60517019e+00, -9.00000002e+09, ...,\n",
       "        -9.00000002e+09, -9.00000002e+09, -9.00000002e+09],\n",
       "       ...,\n",
       "       [-3.04592075e-02, -4.08219945e-02, -5.12932944e-02, ...,\n",
       "        -9.00000002e+09, -9.00000002e+09, -9.00000002e+09],\n",
       "       [-2.02027073e-02, -3.04592075e-02, -4.08219945e-02, ...,\n",
       "        -4.60517019e+00, -9.00000002e+09, -9.00000002e+09],\n",
       "       [-1.00503359e-02, -2.02027073e-02, -3.04592075e-02, ...,\n",
       "        -3.91202301e+00, -4.60517019e+00, -9.00000002e+09]])"
      ]
     },
     "execution_count": 5,
     "metadata": {},
     "output_type": "execute_result"
    }
   ],
   "source": [
    "v_init = np.zeros(N)\n",
    "v_1_mat = np.tile(v_init.reshape(N, 1), (1, N))\n",
    "v_1_mat[c_pos] = -1e10\n",
    "v_0_mat = u_mat + beta * v_1_mat\n",
    "# Matrix of value function at period T\n",
    "v_0_mat"
   ]
  },
  {
   "cell_type": "code",
   "execution_count": 6,
   "metadata": {},
   "outputs": [],
   "source": [
    "# Maximize over the W' dimension\n",
    "v_0_opt_vec = v_0_mat.max(axis=1)\n",
    "\n",
    "# The index of the maximun value\n",
    "ind_0 = np.argmax(v_0_mat, axis=1)"
   ]
  },
  {
   "cell_type": "code",
   "execution_count": 7,
   "metadata": {},
   "outputs": [
    {
     "data": {
      "text/plain": [
       "array([0.01, 0.01, 0.01, 0.01, 0.01, 0.01, 0.01, 0.01, 0.01, 0.01, 0.01,\n",
       "       0.01, 0.01, 0.01, 0.01, 0.01, 0.01, 0.01, 0.01, 0.01, 0.01, 0.01,\n",
       "       0.01, 0.01, 0.01, 0.01, 0.01, 0.01, 0.01, 0.01, 0.01, 0.01, 0.01,\n",
       "       0.01, 0.01, 0.01, 0.01, 0.01, 0.01, 0.01, 0.01, 0.01, 0.01, 0.01,\n",
       "       0.01, 0.01, 0.01, 0.01, 0.01, 0.01, 0.01, 0.01, 0.01, 0.01, 0.01,\n",
       "       0.01, 0.01, 0.01, 0.01, 0.01, 0.01, 0.01, 0.01, 0.01, 0.01, 0.01,\n",
       "       0.01, 0.01, 0.01, 0.01, 0.01, 0.01, 0.01, 0.01, 0.01, 0.01, 0.01,\n",
       "       0.01, 0.01, 0.01, 0.01, 0.01, 0.01, 0.01, 0.01, 0.01, 0.01, 0.01,\n",
       "       0.01, 0.01, 0.01, 0.01, 0.01, 0.01, 0.01, 0.01, 0.01, 0.01, 0.01,\n",
       "       0.01])"
      ]
     },
     "execution_count": 7,
     "metadata": {},
     "output_type": "execute_result"
    }
   ],
   "source": [
    "# The policy function at period T\n",
    "W_vec[ind_0]"
   ]
  },
  {
   "cell_type": "code",
   "execution_count": 8,
   "metadata": {},
   "outputs": [
    {
     "data": {
      "image/png": "[encoded data removed]",
      "text/plain": [
       "<Figure size 432x288 with 1 Axes>"
      ]
     },
     "metadata": {
      "needs_background": "light"
     },
     "output_type": "display_data"
    }
   ],
   "source": [
    "plt.plot(W_vec, W_vec[ind_0])\n",
    "plt.title(\"Policy Function\")\n",
    "plt.xlabel(\"W\")\n",
    "plt.ylabel(\"Policy Function at period T\")\n",
    "plt.show()"
   ]
  },
  {
   "cell_type": "code",
   "execution_count": 9,
   "metadata": {},
   "outputs": [
    {
     "data": {
      "text/plain": [
       "array([-9.00000002e+09, -4.60517019e+00, -3.91202301e+00, -3.50655790e+00,\n",
       "       -3.21887582e+00, -2.99573227e+00, -2.81341072e+00, -2.65926004e+00,\n",
       "       -2.52572864e+00, -2.40794561e+00, -2.30258509e+00, -2.20727491e+00,\n",
       "       -2.12026354e+00, -2.04022083e+00, -1.96611286e+00, -1.89711998e+00,\n",
       "       -1.83258146e+00, -1.77195684e+00, -1.71479843e+00, -1.66073121e+00,\n",
       "       -1.60943791e+00, -1.56064775e+00, -1.51412773e+00, -1.46967597e+00,\n",
       "       -1.42711636e+00, -1.38629436e+00, -1.34707365e+00, -1.30933332e+00,\n",
       "       -1.27296568e+00, -1.23787436e+00, -1.20397280e+00, -1.17118298e+00,\n",
       "       -1.13943428e+00, -1.10866262e+00, -1.07880966e+00, -1.04982212e+00,\n",
       "       -1.02165125e+00, -9.94252273e-01, -9.67584026e-01, -9.41608540e-01,\n",
       "       -9.16290732e-01, -8.91598119e-01, -8.67500568e-01, -8.43970070e-01,\n",
       "       -8.20980552e-01, -7.98507696e-01, -7.76528789e-01, -7.55022584e-01,\n",
       "       -7.33969175e-01, -7.13349888e-01, -6.93147181e-01, -6.73344553e-01,\n",
       "       -6.53926467e-01, -6.34878272e-01, -6.16186139e-01, -5.97837001e-01,\n",
       "       -5.79818495e-01, -5.62118918e-01, -5.44727175e-01, -5.27632742e-01,\n",
       "       -5.10825624e-01, -4.94296322e-01, -4.78035801e-01, -4.62035460e-01,\n",
       "       -4.46287103e-01, -4.30782916e-01, -4.15515444e-01, -4.00477567e-01,\n",
       "       -3.85662481e-01, -3.71063681e-01, -3.56674944e-01, -3.42490309e-01,\n",
       "       -3.28504067e-01, -3.14710745e-01, -3.01105093e-01, -2.87682072e-01,\n",
       "       -2.74436846e-01, -2.61364764e-01, -2.48461359e-01, -2.35722334e-01,\n",
       "       -2.23143551e-01, -2.10721031e-01, -1.98450939e-01, -1.86329578e-01,\n",
       "       -1.74353387e-01, -1.62518929e-01, -1.50822890e-01, -1.39262067e-01,\n",
       "       -1.27833372e-01, -1.16533816e-01, -1.05360516e-01, -9.43106795e-02,\n",
       "       -8.33816089e-02, -7.25706928e-02, -6.18754037e-02, -5.12932944e-02,\n",
       "       -4.08219945e-02, -3.04592075e-02, -2.02027073e-02, -1.00503359e-02])"
      ]
     },
     "execution_count": 9,
     "metadata": {},
     "output_type": "execute_result"
    }
   ],
   "source": [
    "# The value function at period T\n",
    "v_0_opt_vec"
   ]
  },
  {
   "cell_type": "code",
   "execution_count": 10,
   "metadata": {},
   "outputs": [
    {
     "data": {
      "image/png": "[encoded data removed]",
      "text/plain": [
       "<Figure size 432x288 with 1 Axes>"
      ]
     },
     "metadata": {
      "needs_background": "light"
     },
     "output_type": "display_data"
    }
   ],
   "source": [
    "plt.plot(W_vec[1:], v_0_opt_vec[1:])\n",
    "plt.title(\"Value Function\")\n",
    "plt.xlabel(\"W\")\n",
    "plt.ylabel(\"Value Function at period T\")\n",
    "plt.show()"
   ]
  },
  {
   "cell_type": "markdown",
   "metadata": {},
   "source": [
    "## 5.11"
   ]
  },
  {
   "cell_type": "code",
   "execution_count": 11,
   "metadata": {},
   "outputs": [
    {
     "name": "stdout",
     "output_type": "stream",
     "text": [
      "The distance between V_T_plus_1 and VT is:\n",
      " 178.92611065972804\n"
     ]
    }
   ],
   "source": [
    "V_T= utility(W_vec)\n",
    "V_T_plus_1= np.zeros(N)\n",
    "def dist(V1,V2):\n",
    "    return ((V1 - V2)**2).sum()\n",
    "delta_T = dist(V_T_plus_1,V_T)\n",
    "print(\"The distance between V_T_plus_1 and VT is:\\n\", delta_T)"
   ]
  },
  {
   "cell_type": "markdown",
   "metadata": {},
   "source": [
    "## 5.12"
   ]
  },
  {
   "cell_type": "code",
   "execution_count": 12,
   "metadata": {},
   "outputs": [
    {
     "name": "stdout",
     "output_type": "stream",
     "text": [
      "W':\n",
      " [0.01 0.01 0.01 0.02 0.02 0.03 0.03 0.04 0.04 0.05 0.05 0.06 0.06 0.07\n",
      " 0.07 0.08 0.08 0.09 0.09 0.09 0.1  0.1  0.11 0.11 0.12 0.12 0.13 0.13\n",
      " 0.14 0.14 0.15 0.15 0.16 0.16 0.17 0.17 0.18 0.18 0.18 0.19 0.19 0.2\n",
      " 0.2  0.21 0.21 0.22 0.22 0.23 0.23 0.24 0.24 0.25 0.25 0.26 0.26 0.27\n",
      " 0.27 0.27 0.28 0.28 0.29 0.29 0.3  0.3  0.31 0.31 0.32 0.32 0.33 0.33\n",
      " 0.34 0.34 0.35 0.35 0.36 0.36 0.36 0.37 0.37 0.38 0.38 0.39 0.39 0.4\n",
      " 0.4  0.41 0.41 0.42 0.42 0.43 0.43 0.44 0.44 0.45 0.45 0.45 0.46 0.46\n",
      " 0.47 0.47]\n",
      "VT-1:\n",
      " [-8.10161181e+04 -8.74982335e+00 -8.05667617e+00 -7.43284371e+00\n",
      " -7.02737860e+00 -6.66246000e+00 -6.37477793e+00 -6.11586407e+00\n",
      " -5.89272052e+00 -5.69189132e+00 -5.50956976e+00 -5.34548036e+00\n",
      " -5.19132968e+00 -5.05259407e+00 -4.91906268e+00 -4.79888442e+00\n",
      " -4.68110139e+00 -4.57509666e+00 -4.46973614e+00 -4.37442596e+00\n",
      " -4.27960150e+00 -4.19259012e+00 -4.10681096e+00 -4.02676825e+00\n",
      " -3.94845801e+00 -3.87435004e+00 -3.80231160e+00 -3.73331873e+00\n",
      " -3.66662156e+00 -3.60208303e+00 -3.53998945e+00 -3.47936483e+00\n",
      " -3.42128016e+00 -3.36412175e+00 -3.30955959e+00 -3.25549236e+00\n",
      " -3.20404979e+00 -3.15275650e+00 -3.10396633e+00 -3.05530583e+00\n",
      " -3.00878582e+00 -2.96262185e+00 -2.91817009e+00 -2.87425894e+00\n",
      " -2.83169933e+00 -2.78983132e+00 -2.74900932e+00 -2.70900273e+00\n",
      " -2.66978202e+00 -2.63147837e+00 -2.59373804e+00 -2.55699824e+00\n",
      " -2.52063060e+00 -2.48533196e+00 -2.45024064e+00 -2.41627434e+00\n",
      " -2.38237279e+00 -2.34958297e+00 -2.31685209e+00 -2.28510339e+00\n",
      " -2.25352120e+00 -2.22274954e+00 -2.19223815e+00 -2.16238519e+00\n",
      " -2.13287434e+00 -2.10388681e+00 -2.07531298e+00 -2.04714210e+00\n",
      " -2.01944761e+00 -1.99204864e+00 -1.96518097e+00 -1.93851272e+00\n",
      " -1.91242394e+00 -1.88644845e+00 -1.86109466e+00 -1.83577685e+00\n",
      " -1.81108424e+00 -1.78642517e+00 -1.76232761e+00 -1.73832619e+00\n",
      " -1.71479569e+00 -1.69141776e+00 -1.66842824e+00 -1.64564221e+00\n",
      " -1.62316935e+00 -1.60094600e+00 -1.57896710e+00 -1.55727930e+00\n",
      " -1.53577310e+00 -1.51459565e+00 -1.49354224e+00 -1.47285167e+00\n",
      " -1.45223238e+00 -1.43200681e+00 -1.41180411e+00 -1.39200148e+00\n",
      " -1.37222046e+00 -1.35280238e+00 -1.33344679e+00 -1.31439860e+00]\n",
      "The new distance is: 6562865744.5285635\n"
     ]
    }
   ],
   "source": [
    "# create utility matrix\n",
    "c_mat = np.tile(W_vec.reshape((N,1)), (1,N)) - \\\n",
    "        np.tile(W_vec.reshape((1,N)), (N,1))\n",
    "c_pos = c_mat > 0\n",
    "c_mat[~c_pos] = 1e-7\n",
    "u_mat = utility(c_mat)\n",
    "\n",
    "V_prime = np.tile(V_T.reshape((1,N)), (N,1))\n",
    "V_prime[~c_pos] = -9e+4\n",
    "V_T_minus_1 = (u_mat + beta * V_prime).max(axis = 1)\n",
    "arg = (u_mat + beta * V_prime).argmax(axis = 1)\n",
    "W_prime = 0.01*(arg+1)\n",
    "delta_T_minus_1 = dist(V_T_minus_1,V_T)\n",
    "print(\"W':\\n\", W_prime)\n",
    "print(\"VT-1:\\n\", V_T_minus_1)\n",
    "print(\"The new distance is:\",delta_T_minus_1)"
   ]
  },
  {
   "cell_type": "markdown",
   "metadata": {},
   "source": [
    "## 5.13"
   ]
  },
  {
   "cell_type": "code",
   "execution_count": 13,
   "metadata": {},
   "outputs": [
    {
     "name": "stdout",
     "output_type": "stream",
     "text": [
      "W':\n",
      " [0.01 0.01 0.02 0.02 0.03 0.04 0.04 0.05 0.06 0.06 0.07 0.08 0.08 0.09\n",
      " 0.09 0.1  0.11 0.11 0.12 0.13 0.13 0.14 0.15 0.15 0.16 0.17 0.17 0.18\n",
      " 0.18 0.19 0.19 0.2  0.21 0.21 0.22 0.23 0.23 0.24 0.25 0.25 0.26 0.27\n",
      " 0.27 0.28 0.28 0.29 0.3  0.3  0.31 0.32 0.32 0.33 0.34 0.34 0.35 0.35\n",
      " 0.36 0.36 0.37 0.38 0.38 0.39 0.4  0.4  0.41 0.42 0.42 0.43 0.44 0.44\n",
      " 0.45 0.45 0.46 0.47 0.47 0.48 0.49 0.49 0.5  0.51 0.51 0.52 0.52 0.53\n",
      " 0.54 0.54 0.55 0.55 0.56 0.57 0.57 0.58 0.59 0.59 0.6  0.61 0.61 0.62\n",
      " 0.63 0.63]\n",
      "VT-2:\n",
      " [-8.10161181e+04 -7.29191115e+04 -1.24800112e+01 -1.17868640e+01\n",
      " -1.11630316e+01 -1.06015823e+01 -1.01961172e+01 -9.83119864e+00\n",
      " -9.50277190e+00 -9.21508983e+00 -8.95617596e+00 -8.72315349e+00\n",
      " -8.50000993e+00 -8.29918074e+00 -8.11685918e+00 -7.93611290e+00\n",
      " -7.77202350e+00 -7.61787282e+00 -7.47019236e+00 -7.33145675e+00\n",
      " -7.19792536e+00 -7.07306331e+00 -6.95288505e+00 -6.83510202e+00\n",
      " -6.72694159e+00 -6.62093686e+00 -6.51557634e+00 -6.42017208e+00\n",
      " -6.32486190e+00 -6.23003744e+00 -6.14302606e+00 -6.05724690e+00\n",
      " -5.97190488e+00 -5.89186218e+00 -5.81355194e+00 -5.73635069e+00\n",
      " -5.66224272e+00 -5.59020428e+00 -5.51972507e+00 -5.45073219e+00\n",
      " -5.38403502e+00 -5.31920043e+00 -5.25466191e+00 -5.19256832e+00\n",
      " -5.13194370e+00 -5.07191624e+00 -5.01383157e+00 -4.95667316e+00\n",
      " -4.90078893e+00 -4.84622677e+00 -4.79215955e+00 -4.73988335e+00\n",
      " -4.68844078e+00 -4.63714748e+00 -4.58804154e+00 -4.53925138e+00\n",
      " -4.49059088e+00 -4.44407086e+00 -4.39777255e+00 -4.35160858e+00\n",
      " -4.30715682e+00 -4.26324567e+00 -4.21945122e+00 -4.17689161e+00\n",
      " -4.13502359e+00 -4.09347602e+00 -4.05265403e+00 -4.01264744e+00\n",
      " -3.97312741e+00 -3.93390670e+00 -3.89560304e+00 -3.85786272e+00\n",
      " -3.82018150e+00 -3.78344171e+00 -3.74707406e+00 -3.71106814e+00\n",
      " -3.67576949e+00 -3.64067817e+00 -3.60620489e+00 -3.57223859e+00\n",
      " -3.53833704e+00 -3.50527122e+00 -3.47248140e+00 -3.43975052e+00\n",
      " -3.40798174e+00 -3.37623305e+00 -3.34465086e+00 -3.31387920e+00\n",
      " -3.28330953e+00 -3.25279814e+00 -3.22294517e+00 -3.19343433e+00\n",
      " -3.16397654e+00 -3.13498901e+00 -3.10641518e+00 -3.07799121e+00\n",
      " -3.04982033e+00 -3.02212584e+00 -2.99466558e+00 -2.96726661e+00]\n",
      "The new distance is: 5315921432.356884\n"
     ]
    }
   ],
   "source": [
    "V_prime = np.tile(V_T_minus_1.reshape((1,N)), (N,1))\n",
    "V_prime[~c_pos] = -9e+4\n",
    "V_T_minus_2 = (u_mat + beta * V_prime).max(axis = 1)\n",
    "arg = (u_mat + beta * V_prime).argmax(axis = 1)\n",
    "W_prime = 0.01*(arg+1)\n",
    "delta_T_minus_2 = dist(V_T_minus_2,V_T_minus_1)\n",
    "print(\"W':\\n\", W_prime)\n",
    "print(\"VT-2:\\n\", V_T_minus_2)\n",
    "print(\"The new distance is:\",delta_T_minus_2)"
   ]
  },
  {
   "cell_type": "markdown",
   "metadata": {},
   "source": [
    "## 5.14"
   ]
  },
  {
   "cell_type": "code",
   "execution_count": 14,
   "metadata": {},
   "outputs": [
    {
     "name": "stdout",
     "output_type": "stream",
     "text": [
      "Init= 1 ,distance = 6562865744.5285635\n",
      "Init= 2 ,distance = 5315921432.356884\n",
      "Init= 3 ,distance = 4305896471.418966\n",
      "Init= 4 ,distance = 3487776216.5675955\n",
      "Init= 5 ,distance = 2825098788.019544\n",
      "Init= 6 ,distance = 2288330056.357764\n",
      "Init= 7 ,distance = 1853547373.8090138\n",
      "Init= 8 ,distance = 1501373394.0455368\n",
      "Init= 9 ,distance = 1216112465.4304204\n",
      "Init= 10 ,distance = 985051109.6286845\n",
      "Init= 11 ,distance = 797891408.7166361\n",
      "Init= 12 ,distance = 646292049.0098146\n",
      "Init= 13 ,distance = 523496566.09326845\n",
      "Init= 14 ,distance = 424032223.8060949\n",
      "Init= 15 ,distance = 343466105.6810028\n",
      "Init= 16 ,distance = 278207549.28964245\n",
      "Init= 17 ,distance = 225348118.14783967\n",
      "Init= 18 ,distance = 182531978.5237014\n",
      "Init= 19 ,distance = 147850905.07819986\n",
      "Init= 20 ,distance = 119759235.2952075\n",
      "Init= 21 ,distance = 97004982.62446027\n",
      "Init= 22 ,distance = 78574037.84896688\n",
      "Init= 23 ,distance = 63644972.47794887\n",
      "Init= 24 ,distance = 51552429.430967025\n",
      "Init= 25 ,distance = 41757469.47440472\n",
      "Init= 26 ,distance = 33823551.827785835\n",
      "Init= 27 ,distance = 27397078.459374633\n",
      "Init= 28 ,distance = 22191634.962838765\n",
      "Init= 29 ,distance = 17975225.668041237\n",
      "Init= 30 ,distance = 14559934.08201728\n",
      "Init= 31 ,distance = 11793547.845384818\n",
      "Init= 32 ,distance = 9552774.945148401\n",
      "Init= 33 ,distance = 7737748.852714853\n",
      "Init= 34 ,distance = 6267577.678039737\n",
      "Init= 35 ,distance = 5076738.990749551\n",
      "Init= 36 ,distance = 4112159.6213727905\n",
      "Init= 37 ,distance = 3330850.302746049\n",
      "Init= 38 ,distance = 2697989.7279021647\n",
      "Init= 39 ,distance = 2185372.6378935925\n",
      "Init= 40 ,distance = 1770152.7729575469\n",
      "Init= 41 ,distance = 1433824.6613737969\n",
      "Init= 42 ,distance = 1161398.8725077203\n",
      "Init= 43 ,distance = 940733.966255255\n",
      "Init= 44 ,distance = 761995.3766587331\n",
      "Init= 45 ,distance = 617217.1044967123\n",
      "Init= 46 ,distance = 499946.69099409645\n",
      "Init= 47 ,distance = 404957.64397924696\n",
      "Init= 48 ,distance = 328016.50488471217\n",
      "Init= 49 ,distance = 265694.17112556845\n",
      "Init= 50 ,distance = 215213.07107789887\n",
      "Init= 51 ,distance = 174323.37058658482\n",
      "Init= 52 ,distance = 141202.70459295483\n",
      "Init= 53 ,distance = 114374.95641636376\n",
      "Init= 54 ,distance = 92644.47264714992\n",
      "Init= 55 ,distance = 75042.7735946502\n",
      "Init= 56 ,distance = 60785.389507979846\n",
      "Init= 57 ,distance = 49236.90155629743\n",
      "Init= 58 ,distance = 39882.61927987316\n",
      "Init= 59 ,distance = 32305.644134738748\n",
      "Init= 60 ,distance = 26168.287223927535\n",
      "Init= 61 ,distance = 21197.021841587048\n",
      "Init= 62 ,distance = 17170.289488459726\n",
      "Init= 63 ,distance = 13908.630003651317\n",
      "Init= 64 ,distance = 11266.679087909873\n",
      "Init= 65 ,distance = 9126.692545526796\n",
      "Init= 66 ,distance = 7393.296313751705\n",
      "Init= 67 ,distance = 5989.23897649798\n",
      "Init= 68 ,distance = 4851.944658812899\n",
      "Init= 69 ,distance = 3930.7284462668263\n",
      "Init= 70 ,distance = 3184.5363230619337\n",
      "Init= 71 ,distance = 2580.112611342885\n",
      "Init= 72 ,distance = 2090.5221385606515\n",
      "Init= 73 ,distance = 1693.9447045654001\n",
      "Init= 74 ,distance = 1372.7078372150888\n",
      "Init= 75 ,distance = 1112.4977797380122\n",
      "Init= 76 ,distance = 901.7180385590614\n",
      "Init= 77 ,distance = 730.9748561441429\n",
      "Init= 78 ,distance = 592.6618350006563\n",
      "Init= 79 ,distance = 480.6183842258008\n",
      "Init= 80 ,distance = 389.85153775883634\n",
      "Init= 81 ,distance = 316.3162576883642\n",
      "Init= 82 ,distance = 256.73919927127844\n",
      "Init= 83 ,distance = 208.46968536316135\n",
      "Init= 84 ,distance = 169.3515350793084\n",
      "Init= 85 ,distance = 137.64926948497566\n",
      "Init= 86 ,distance = 111.95556810037779\n",
      "Init= 87 ,distance = 91.11923911040148\n",
      "Init= 88 ,distance = 74.22141799245615\n",
      "Init= 89 ,distance = 60.515875184857194\n",
      "Init= 90 ,distance = 49.378574412700395\n",
      "Init= 91 ,distance = 40.238518539504845\n",
      "Init= 92 ,distance = 32.122968879551344\n",
      "Init= 93 ,distance = 25.53883296249989\n",
      "Init= 94 ,distance = 19.764782340900425\n",
      "Init= 95 ,distance = 15.153203272642822\n",
      "Init= 96 ,distance = 11.172872644411502\n",
      "Init= 97 ,distance = 8.01896071891611\n",
      "Init= 98 ,distance = 5.340328256839245\n",
      "Init= 99 ,distance = 3.234203350397436\n",
      "Init= 100 ,distance = 1.4631241776503991\n",
      "Init= 101 ,distance = 0.0\n"
     ]
    }
   ],
   "source": [
    "maxiters = 500\n",
    "toler = 1e-9\n",
    "delta = 10\n",
    "VF_iter = 0\n",
    "V_init= utility(W_vec)\n",
    "while delta > toler and VF_iter < maxiters:\n",
    "    VF_iter = VF_iter + 1\n",
    "    V_prime = np.tile(V_init.reshape((1,N)), (N,1))\n",
    "    V_prime[~c_pos] = -9e+4\n",
    "    V_new = (u_mat + beta * V_prime).max(axis = 1)\n",
    "    arg = (u_mat + beta * V_prime).argmax(axis = 1)\n",
    "    W_prime = 0.01*(arg+1)\n",
    "    delta = dist(V_new,V_init)\n",
    "    print('Init=', VF_iter, ',distance =', delta)\n",
    "    V_init = V_new"
   ]
  },
  {
   "cell_type": "markdown",
   "metadata": {},
   "source": [
    "## 5.15"
   ]
  },
  {
   "cell_type": "code",
   "execution_count": 15,
   "metadata": {},
   "outputs": [
    {
     "data": {
      "image/png": "[encoded data removed]",
      "text/plain": [
       "<Figure size 432x288 with 1 Axes>"
      ]
     },
     "metadata": {
      "needs_background": "light"
     },
     "output_type": "display_data"
    }
   ],
   "source": [
    "import matplotlib.pyplot as plt\n",
    "plt.plot(W_vec,W_prime)\n",
    "plt.xlabel(\"W\")\n",
    "plt.ylabel(\"W_prime\")\n",
    "plt.show()"
   ]
  },
  {
   "cell_type": "markdown",
   "metadata": {},
   "source": [
    "## 5.16"
   ]
  },
  {
   "cell_type": "code",
   "execution_count": 16,
   "metadata": {},
   "outputs": [
    {
     "name": "stdout",
     "output_type": "stream",
     "text": [
      "epsilon: [0.5 1.  1.5 2.  2.5 3.  3.5]\n",
      "Gamma: [0.00620967 0.06059754 0.24173034 0.38292492 0.24173034 0.06059754\n",
      " 0.00620967]\n"
     ]
    }
   ],
   "source": [
    "# the loc of Gamma function is set to be mu here rather than 0 \n",
    "from scipy.stats import norm\n",
    "from scipy.integrate import quad\n",
    "\n",
    "sigma = 0.5\n",
    "M = 7\n",
    "mu = 2\n",
    "\n",
    "\n",
    "def Prob(mu,sigma,M):\n",
    "    z = np.linspace(mu-3*sigma, mu+3*sigma, M)\n",
    "    w = np.zeros(M)\n",
    "    w[0] = norm.cdf((z[0] + z[1]) / 2, loc=mu, scale=sigma) \n",
    "    w[-1] = 1 - norm.cdf((z[-1] + z[-2]) / 2, loc=mu, scale=sigma)\n",
    "    for i in range(1, M-1):\n",
    "        z_min = (z[i-1] + z[i]) / 2\n",
    "        z_max = (z[i] + z[i+1]) / 2\n",
    "        norm_pdf = lambda x: norm.pdf(x, loc=mu, scale=sigma)\n",
    "        w[i] = quad(norm_pdf, z_min, z_max)[0]\n",
    "    return w\n",
    "    \n",
    "\n",
    "\n",
    "epsilon = np.linspace(mu-3*sigma, mu+3*sigma, M)\n",
    "print(\"epsilon:\", epsilon)\n",
    "Gamma = Prob(mu,sigma,M)\n",
    "print(\"Gamma:\",Gamma)"
   ]
  },
  {
   "cell_type": "markdown",
   "metadata": {},
   "source": [
    "## 5.17"
   ]
  },
  {
   "cell_type": "code",
   "execution_count": 17,
   "metadata": {},
   "outputs": [],
   "source": [
    "W_new = np.linspace(0.00,0.99,N)\n",
    "\n",
    "V_T_plus_1_sto = [np.zeros(N) for _ in range(M)]\n",
    "EV_nul = sum([V_T_plus_1_sto[i]*Gamma[i] for i in range(M)])\n",
    "\n",
    "u = np.ma.log(np.subtract.outer(W_vec, W_new))\n",
    "Eps_U_list = [eps*u+beta*EV_nul for eps in epsilon]\n",
    "V_T = [np.nanmax(C, axis=1) for C in Eps_U_list]\n",
    "Phi = [(np.nanargmax(C,axis=1)+1)/N for C in Eps_U_list]"
   ]
  },
  {
   "cell_type": "markdown",
   "metadata": {},
   "source": [
    "## 5.18"
   ]
  },
  {
   "cell_type": "code",
   "execution_count": 18,
   "metadata": {},
   "outputs": [
    {
     "name": "stdout",
     "output_type": "stream",
     "text": [
      "The distance between V_T_plus_1 and VT is:\n",
      " 6262.4138730904815\n"
     ]
    }
   ],
   "source": [
    "def dist_sto(V1, V2):\n",
    "    return sum([np.nansum((V1[i]-V2[i])**2) for i in range(len(V1))])\n",
    "\n",
    "delta_T_sto = dist_sto(V_T,V_T_plus_1_sto)\n",
    "print(\"The distance between V_T_plus_1 and VT is:\\n\", delta_T_sto)"
   ]
  },
  {
   "cell_type": "markdown",
   "metadata": {},
   "source": [
    "## 5.19"
   ]
  },
  {
   "cell_type": "code",
   "execution_count": 19,
   "metadata": {},
   "outputs": [
    {
     "name": "stdout",
     "output_type": "stream",
     "text": [
      "W':\n",
      " [[0.01 0.01 0.01 0.01 0.01 0.01 0.01]\n",
      " [0.01 0.01 0.01 0.01 0.01 0.01 0.01]\n",
      " [0.02 0.02 0.02 0.01 0.01 0.01 0.01]\n",
      " [0.03 0.03 0.02 0.02 0.02 0.02 0.01]\n",
      " [0.04 0.03 0.03 0.02 0.02 0.02 0.02]\n",
      " [0.05 0.04 0.03 0.03 0.03 0.02 0.02]\n",
      " [0.05 0.04 0.04 0.03 0.03 0.03 0.02]\n",
      " [0.06 0.05 0.04 0.04 0.03 0.03 0.03]\n",
      " [0.07 0.06 0.05 0.04 0.04 0.03 0.03]\n",
      " [0.08 0.06 0.05 0.05 0.04 0.04 0.03]\n",
      " [0.09 0.07 0.06 0.05 0.05 0.04 0.04]\n",
      " [0.09 0.08 0.07 0.06 0.05 0.05 0.04]\n",
      " [0.1  0.08 0.07 0.06 0.05 0.05 0.04]\n",
      " [0.11 0.09 0.08 0.07 0.06 0.05 0.05]\n",
      " [0.12 0.1  0.08 0.07 0.06 0.06 0.05]\n",
      " [0.13 0.1  0.09 0.08 0.07 0.06 0.05]\n",
      " [0.13 0.11 0.09 0.08 0.07 0.06 0.06]\n",
      " [0.14 0.12 0.1  0.09 0.08 0.07 0.06]\n",
      " [0.15 0.12 0.1  0.09 0.08 0.07 0.06]\n",
      " [0.16 0.13 0.11 0.09 0.08 0.08 0.07]\n",
      " [0.16 0.13 0.11 0.1  0.09 0.08 0.07]\n",
      " [0.17 0.14 0.12 0.1  0.09 0.08 0.07]\n",
      " [0.18 0.15 0.13 0.11 0.1  0.09 0.08]\n",
      " [0.19 0.15 0.13 0.11 0.1  0.09 0.08]\n",
      " [0.2  0.16 0.14 0.12 0.1  0.09 0.08]\n",
      " [0.2  0.17 0.14 0.12 0.11 0.1  0.09]\n",
      " [0.21 0.17 0.15 0.13 0.11 0.1  0.09]\n",
      " [0.22 0.18 0.15 0.13 0.12 0.11 0.1 ]\n",
      " [0.23 0.19 0.16 0.14 0.12 0.11 0.1 ]\n",
      " [0.23 0.19 0.16 0.14 0.13 0.11 0.1 ]\n",
      " [0.24 0.2  0.17 0.15 0.13 0.12 0.11]\n",
      " [0.25 0.21 0.17 0.15 0.13 0.12 0.11]\n",
      " [0.26 0.21 0.18 0.16 0.14 0.12 0.11]\n",
      " [0.27 0.22 0.19 0.16 0.14 0.13 0.12]\n",
      " [0.27 0.22 0.19 0.17 0.15 0.13 0.12]\n",
      " [0.28 0.23 0.2  0.17 0.15 0.14 0.12]\n",
      " [0.29 0.24 0.2  0.18 0.15 0.14 0.13]\n",
      " [0.3  0.24 0.21 0.18 0.16 0.14 0.13]\n",
      " [0.31 0.25 0.21 0.18 0.16 0.15 0.13]\n",
      " [0.31 0.26 0.22 0.19 0.17 0.15 0.14]\n",
      " [0.32 0.26 0.22 0.19 0.17 0.15 0.14]\n",
      " [0.33 0.27 0.23 0.2  0.18 0.16 0.14]\n",
      " [0.34 0.28 0.23 0.2  0.18 0.16 0.15]\n",
      " [0.34 0.28 0.24 0.21 0.18 0.17 0.15]\n",
      " [0.35 0.29 0.25 0.21 0.19 0.17 0.15]\n",
      " [0.36 0.3  0.25 0.22 0.19 0.17 0.16]\n",
      " [0.37 0.3  0.26 0.22 0.2  0.18 0.16]\n",
      " [0.38 0.31 0.26 0.23 0.2  0.18 0.16]\n",
      " [0.38 0.31 0.27 0.23 0.21 0.18 0.17]\n",
      " [0.39 0.32 0.27 0.24 0.21 0.19 0.17]\n",
      " [0.4  0.33 0.28 0.24 0.21 0.19 0.17]\n",
      " [0.41 0.33 0.28 0.25 0.22 0.2  0.18]\n",
      " [0.41 0.34 0.29 0.25 0.22 0.2  0.18]\n",
      " [0.42 0.35 0.29 0.26 0.23 0.2  0.18]\n",
      " [0.43 0.35 0.3  0.26 0.23 0.21 0.19]\n",
      " [0.44 0.36 0.31 0.27 0.23 0.21 0.19]\n",
      " [0.45 0.37 0.31 0.27 0.24 0.21 0.19]\n",
      " [0.45 0.37 0.32 0.27 0.24 0.22 0.2 ]\n",
      " [0.46 0.38 0.32 0.28 0.25 0.22 0.2 ]\n",
      " [0.47 0.39 0.33 0.28 0.25 0.23 0.2 ]\n",
      " [0.48 0.39 0.33 0.29 0.26 0.23 0.21]\n",
      " [0.49 0.4  0.34 0.29 0.26 0.23 0.21]\n",
      " [0.49 0.4  0.34 0.3  0.26 0.24 0.21]\n",
      " [0.5  0.41 0.35 0.3  0.27 0.24 0.22]\n",
      " [0.51 0.42 0.35 0.31 0.27 0.24 0.22]\n",
      " [0.52 0.42 0.36 0.31 0.28 0.25 0.22]\n",
      " [0.52 0.43 0.37 0.32 0.28 0.25 0.23]\n",
      " [0.53 0.44 0.37 0.32 0.28 0.26 0.23]\n",
      " [0.54 0.44 0.38 0.33 0.29 0.26 0.23]\n",
      " [0.55 0.45 0.38 0.33 0.29 0.26 0.24]\n",
      " [0.56 0.46 0.39 0.34 0.3  0.27 0.24]\n",
      " [0.56 0.46 0.39 0.34 0.3  0.27 0.24]\n",
      " [0.57 0.47 0.4  0.35 0.31 0.27 0.25]\n",
      " [0.58 0.48 0.4  0.35 0.31 0.28 0.25]\n",
      " [0.59 0.48 0.41 0.36 0.31 0.28 0.25]\n",
      " [0.59 0.49 0.41 0.36 0.32 0.29 0.26]\n",
      " [0.6  0.49 0.42 0.36 0.32 0.29 0.26]\n",
      " [0.61 0.5  0.43 0.37 0.33 0.29 0.26]\n",
      " [0.62 0.51 0.43 0.37 0.33 0.3  0.27]\n",
      " [0.63 0.51 0.44 0.38 0.33 0.3  0.27]\n",
      " [0.63 0.52 0.44 0.38 0.34 0.3  0.28]\n",
      " [0.64 0.53 0.45 0.39 0.34 0.31 0.28]\n",
      " [0.65 0.53 0.45 0.39 0.35 0.31 0.28]\n",
      " [0.66 0.54 0.46 0.4  0.35 0.32 0.29]\n",
      " [0.67 0.55 0.46 0.4  0.36 0.32 0.29]\n",
      " [0.67 0.55 0.47 0.41 0.36 0.32 0.29]\n",
      " [0.68 0.56 0.47 0.41 0.36 0.33 0.3 ]\n",
      " [0.69 0.57 0.48 0.42 0.37 0.33 0.3 ]\n",
      " [0.7  0.57 0.49 0.42 0.37 0.33 0.3 ]\n",
      " [0.7  0.58 0.49 0.43 0.38 0.34 0.31]\n",
      " [0.71 0.58 0.5  0.43 0.38 0.34 0.31]\n",
      " [0.72 0.59 0.5  0.44 0.39 0.35 0.31]\n",
      " [0.73 0.6  0.51 0.44 0.39 0.35 0.32]\n",
      " [0.74 0.6  0.51 0.45 0.39 0.35 0.32]\n",
      " [0.74 0.61 0.52 0.45 0.4  0.36 0.32]\n",
      " [0.75 0.62 0.52 0.45 0.4  0.36 0.33]\n",
      " [0.76 0.62 0.53 0.46 0.41 0.36 0.33]\n",
      " [0.77 0.63 0.53 0.46 0.41 0.37 0.33]\n",
      " [0.77 0.64 0.54 0.47 0.41 0.37 0.34]\n",
      " [0.78 0.64 0.55 0.47 0.42 0.38 0.34]]\n",
      "VT-1:\n",
      " [[-8.10080590e+04 -8.10161181e+04 -8.10241771e+04 -8.10322362e+04\n",
      "  -8.10402952e+04 -8.10483543e+04 -8.10564133e+04]\n",
      " [-1.05918914e+01 -1.28944765e+01 -1.51970616e+01 -1.74996467e+01\n",
      "  -1.98022318e+01 -2.21048169e+01 -2.44074020e+01]\n",
      " [-9.34422650e+00 -1.16468116e+01 -1.39493967e+01 -1.61133523e+01\n",
      "  -1.80693638e+01 -2.00253754e+01 -2.19813869e+01]\n",
      " [-8.61438931e+00 -1.09169744e+01 -1.29096759e+01 -1.48656874e+01\n",
      "  -1.68216989e+01 -1.87777104e+01 -2.05622590e+01]\n",
      " [-8.09656158e+00 -1.02238272e+01 -1.21798387e+01 -1.40547572e+01\n",
      "  -1.58080362e+01 -1.75613151e+01 -1.93145941e+01]\n",
      " [-7.69490319e+00 -9.70599949e+00 -1.15716411e+01 -1.33249200e+01\n",
      "  -1.50781990e+01 -1.66982689e+01 -1.83077068e+01]\n",
      " [-7.34832960e+00 -9.30053438e+00 -1.10538133e+01 -1.27495559e+01\n",
      "  -1.43589938e+01 -1.59684317e+01 -1.75267044e+01]\n",
      " [-7.02015079e+00 -8.89887599e+00 -1.06222902e+01 -1.22317281e+01\n",
      "  -1.38011349e+01 -1.52990010e+01 -1.67968672e+01]\n",
      " [-6.74267957e+00 -8.57069719e+00 -1.02206318e+01 -1.17854410e+01\n",
      "  -1.32833072e+01 -1.47520364e+01 -1.61587417e+01]\n",
      " [-6.50232306e+00 -8.28301512e+00 -9.88591650e+00 -1.13837826e+01\n",
      "  -1.28275033e+01 -1.42342086e+01 -1.56192143e+01]\n",
      " [-6.29031360e+00 -8.00554389e+00 -9.55773770e+00 -1.10191395e+01\n",
      "  -1.24258449e+01 -1.37717566e+01 -1.51013866e+01]\n",
      " [-6.08758104e+00 -7.76518738e+00 -9.28026648e+00 -1.06909607e+01\n",
      "  -1.20404682e+01 -1.33700982e+01 -1.46340267e+01]\n",
      " [-5.89793212e+00 -7.54204383e+00 -9.00678414e+00 -1.03826594e+01\n",
      "  -1.17066397e+01 -1.29695040e+01 -1.42217861e+01]\n",
      " [-5.72637379e+00 -7.33003437e+00 -8.76642763e+00 -1.01051881e+01\n",
      "  -1.13784609e+01 -1.26161549e+01 -1.38201277e+01]\n",
      " [-5.56975331e+00 -7.14038544e+00 -8.53520162e+00 -9.83812536e+00\n",
      "  -1.10840033e+01 -1.22879761e+01 -1.34513659e+01]\n",
      " [-5.42567644e+00 -6.95806388e+00 -8.32319215e+00 -9.59776885e+00\n",
      "  -1.08065321e+01 -1.19718946e+01 -1.31177803e+01]\n",
      " [-5.28183540e+00 -6.78650556e+00 -8.12289506e+00 -9.36220278e+00\n",
      "  -1.05431308e+01 -1.16859640e+01 -1.27896015e+01]\n",
      " [-5.14844105e+00 -6.62988508e+00 -7.93324613e+00 -9.15019331e+00\n",
      "  -1.03027743e+01 -1.14084928e+01 -1.24850617e+01]\n",
      " [-5.02425389e+00 -6.47573440e+00 -7.75657158e+00 -8.93947228e+00\n",
      "  -1.00644988e+01 -1.11474587e+01 -1.22049122e+01]\n",
      " [-4.90808455e+00 -6.33165753e+00 -7.58501326e+00 -8.74885192e+00\n",
      "  -9.84697040e+00 -1.09071022e+01 -1.19274410e+01]\n",
      " [-4.79651277e+00 -6.19812614e+00 -7.42697248e+00 -8.55920299e+00\n",
      "  -9.63496094e+00 -1.06669740e+01 -1.16680631e+01]\n",
      " [-4.68738845e+00 -6.06473179e+00 -7.27035200e+00 -8.38518024e+00\n",
      "  -9.43485417e+00 -1.04446501e+01 -1.14265880e+01]\n",
      " [-4.58450331e+00 -5.94054462e+00 -7.12627513e+00 -8.21362192e+00\n",
      "  -9.24520524e+00 -1.02326407e+01 -1.11862315e+01]\n",
      " [-4.48718231e+00 -5.82276158e+00 -6.98330986e+00 -8.05353650e+00\n",
      "  -9.05993531e+00 -1.00256621e+01 -1.09603467e+01]\n",
      " [-4.39485438e+00 -5.70659224e+00 -6.84991551e+00 -7.89691602e+00\n",
      "  -8.88745313e+00 -9.83204649e+00 -1.07481605e+01]\n",
      " [-4.30369360e+00 -5.59746792e+00 -6.71939845e+00 -7.74870008e+00\n",
      "  -8.71589481e+00 -9.64239756e+00 -1.05361510e+01]\n",
      " [-4.21587131e+00 -5.49210741e+00 -6.59521128e+00 -7.60462320e+00\n",
      "  -8.55454850e+00 -9.46052369e+00 -1.03360966e+01]\n",
      " [-4.13213528e+00 -5.38922226e+00 -6.47514722e+00 -7.46663746e+00\n",
      "  -8.39792802e+00 -9.28896537e+00 -1.01464477e+01]\n",
      " [-4.05212210e+00 -5.29190127e+00 -6.35897788e+00 -7.33324311e+00\n",
      "  -8.24636647e+00 -9.11749013e+00 -9.95721239e+00]\n",
      " [-3.97504676e+00 -5.19659109e+00 -6.24781592e+00 -7.20416607e+00\n",
      "  -8.10228960e+00 -8.95528846e+00 -9.77768586e+00]\n",
      " [-3.89843946e+00 -5.10426316e+00 -6.13869160e+00 -7.07997890e+00\n",
      "  -7.95939356e+00 -8.79866799e+00 -9.60612754e+00]\n",
      " [-3.82495987e+00 -5.01644086e+00 -6.03520229e+00 -6.95872966e+00\n",
      "  -7.82422551e+00 -8.64478810e+00 -9.43536196e+00]\n",
      " [-3.75436258e+00 -4.92942948e+00 -5.93231715e+00 -6.84256032e+00\n",
      "  -7.69083116e+00 -8.49841761e+00 -9.27254191e+00]\n",
      " [-3.68642999e+00 -4.84569345e+00 -5.83499615e+00 -6.72824349e+00\n",
      "  -7.56259792e+00 -8.35434074e+00 -9.11592143e+00]\n",
      " [-3.61966430e+00 -4.76565075e+00 -5.73818837e+00 -6.61911917e+00\n",
      "  -7.43841075e+00 -8.21478069e+00 -8.96034026e+00]\n",
      " [-3.55420254e+00 -4.68563757e+00 -5.64586044e+00 -6.51098473e+00\n",
      "  -7.31643534e+00 -8.08138634e+00 -8.81138161e+00]\n",
      " [-3.49103816e+00 -4.60903027e+00 -5.55492351e+00 -6.40809958e+00\n",
      "  -7.20013530e+00 -7.94803105e+00 -8.66730474e+00]\n",
      " [-3.43001537e+00 -4.53492230e+00 -5.46710121e+00 -6.30551300e+00\n",
      "  -7.08396597e+00 -7.82035221e+00 -8.52442776e+00]\n",
      " [-3.37099369e+00 -4.46144271e+00 -5.38136359e+00 -6.20793267e+00\n",
      "  -6.97283656e+00 -7.69616504e+00 -8.38715526e+00]\n",
      " [-3.31210217e+00 -4.39084542e+00 -5.29762756e+00 -6.11061167e+00\n",
      "  -6.86371224e+00 -7.57369906e+00 -8.25376091e+00]\n",
      " [-3.25495451e+00 -4.32185255e+00 -5.21652673e+00 -6.01757164e+00\n",
      "  -6.75731320e+00 -7.45603692e+00 -8.12166976e+00]\n",
      " [-3.19956553e+00 -4.25391996e+00 -5.13651356e+00 -5.92524371e+00\n",
      "  -6.65442806e+00 -7.33986758e+00 -7.99438301e+00]\n",
      " [-3.14583019e+00 -4.18845820e+00 -5.05957361e+00 -5.83634018e+00\n",
      "  -6.55237307e+00 -7.22664659e+00 -7.87019584e+00]\n",
      " [-3.09314994e+00 -4.12391968e+00 -4.98296631e+00 -5.74851789e+00\n",
      "  -6.45432129e+00 -7.11752228e+00 -7.74737622e+00]\n",
      " [-3.04097237e+00 -4.06075530e+00 -4.90948672e+00 -5.66339866e+00\n",
      "  -6.35700029e+00 -7.00841934e+00 -7.62872079e+00]\n",
      " [-2.99026479e+00 -3.99973251e+00 -4.83630147e+00 -5.57966263e+00\n",
      "  -6.26264947e+00 -6.90314538e+00 -7.51255145e+00]\n",
      " [-2.94094664e+00 -3.93910789e+00 -4.76570419e+00 -5.49801864e+00\n",
      "  -6.17032154e+00 -6.80026024e+00 -7.39778707e+00]\n",
      " [-2.89294379e+00 -3.88008621e+00 -4.69592417e+00 -5.41800547e+00\n",
      "  -6.07940243e+00 -6.69855558e+00 -7.28666663e+00]\n",
      " [-2.84528870e+00 -3.82292779e+00 -4.62799157e+00 -5.33956404e+00\n",
      "  -5.99158014e+00 -6.60018612e+00 -7.17754231e+00]\n",
      " [-2.79853283e+00 -3.76578014e+00 -4.56131393e+00 -5.26295674e+00\n",
      "  -5.90385184e+00 -6.50286512e+00 -7.06984150e+00]\n",
      " [-2.75296077e+00 -3.71039115e+00 -4.49585217e+00 -5.18747608e+00\n",
      "  -5.81909796e+00 -6.40761902e+00 -6.96535613e+00]\n",
      " [-2.70851407e+00 -3.65632393e+00 -4.43201275e+00 -5.11399649e+00\n",
      "  -5.73536193e+00 -6.31529109e+00 -6.86247099e+00]\n",
      " [-2.66500838e+00 -3.60258860e+00 -4.36884837e+00 -5.04126120e+00\n",
      "  -5.65338737e+00 -6.22297612e+00 -6.76101461e+00]\n",
      " [-2.62163279e+00 -3.55041103e+00 -4.30761538e+00 -4.97066392e+00\n",
      "  -5.57337420e+00 -6.13341723e+00 -6.66241654e+00]\n",
      " [-2.57927789e+00 -3.49911774e+00 -4.24659259e+00 -4.90048128e+00\n",
      "  -5.49400245e+00 -6.04559493e+00 -6.56509554e+00]\n",
      " [-2.53789676e+00 -3.44841016e+00 -4.18757091e+00 -4.83254869e+00\n",
      "  -5.41707331e+00 -5.95863232e+00 -6.46919913e+00]\n",
      " [-2.49744562e+00 -3.39909200e+00 -4.12873984e+00 -4.76474558e+00\n",
      "  -5.34046600e+00 -5.87411969e+00 -6.37586026e+00]\n",
      " [-2.45742427e+00 -3.35030184e+00 -4.07159218e+00 -4.69916594e+00\n",
      "  -5.26583359e+00 -5.79038366e+00 -6.28353233e+00]\n",
      " [-2.41786224e+00 -3.30229900e+00 -4.01498169e+00 -4.63370418e+00\n",
      "  -5.19235400e+00 -5.70818674e+00 -6.19261813e+00]\n",
      " [-2.37915107e+00 -3.25554312e+00 -3.95959270e+00 -4.57020678e+00\n",
      "  -5.11988516e+00 -5.62817357e+00 -6.10400580e+00]\n",
      " [-2.34125493e+00 -3.20902310e+00 -3.90504124e+00 -4.50704241e+00\n",
      "  -5.04928788e+00 -5.54816882e+00 -6.01618351e+00]\n",
      " [-2.30414021e+00 -3.16345105e+00 -3.85130590e+00 -4.44549909e+00\n",
      "  -4.97886069e+00 -5.47024237e+00 -5.92975936e+00]\n",
      " [-2.26708623e+00 -3.11899929e+00 -3.79866892e+00 -4.38447630e+00\n",
      "  -4.91036325e+00 -5.39363506e+00 -5.84541793e+00]\n",
      " [-2.23072135e+00 -3.07455258e+00 -3.74649136e+00 -4.32477037e+00\n",
      "  -4.84243066e+00 -5.31768164e+00 -5.76168191e+00]\n",
      " [-2.19507662e+00 -3.03117699e+00 -3.69563903e+00 -4.26574869e+00\n",
      "  -4.77576004e+00 -5.24360380e+00 -5.67932516e+00]\n",
      " [-2.16012407e+00 -2.98861738e+00 -3.64493145e+00 -4.20777362e+00\n",
      "  -4.71029828e+00 -5.17012421e+00 -5.59886185e+00]\n",
      " [-2.12562763e+00 -2.94626248e+00 -3.59561330e+00 -4.15062596e+00\n",
      "  -4.64535957e+00 -5.09783155e+00 -5.51884868e+00]\n",
      " [-2.09134088e+00 -2.90488135e+00 -3.54642856e+00 -4.09428420e+00\n",
      "  -4.58206505e+00 -5.02723427e+00 -5.44019368e+00]\n",
      " [-2.05769504e+00 -2.86405935e+00 -3.49842572e+00 -4.03889522e+00\n",
      "  -4.51890067e+00 -4.95664278e+00 -5.36326751e+00]\n",
      " [-2.02466659e+00 -2.82360821e+00 -3.45080267e+00 -3.98409727e+00\n",
      "  -4.45716914e+00 -4.88767422e+00 -5.28666020e+00]\n",
      " [-1.99223328e+00 -2.78404618e+00 -3.40404680e+00 -3.93036194e+00\n",
      "  -4.39614635e+00 -4.81974163e+00 -5.21138849e+00]\n",
      " [-1.95996402e+00 -2.74482547e+00 -3.35788931e+00 -3.87702544e+00\n",
      "  -4.33590247e+00 -4.75232306e+00 -5.13770155e+00]\n",
      " [-1.92810478e+00 -2.70611430e+00 -3.31231725e+00 -3.82484788e+00\n",
      "  -4.27688079e+00 -4.68638634e+00 -5.06422196e+00]\n",
      " [-1.89679965e+00 -2.66821816e+00 -3.26753781e+00 -3.77289690e+00\n",
      "  -4.21805454e+00 -4.62092458e+00 -4.99205446e+00]\n",
      " [-1.86602967e+00 -2.63047784e+00 -3.22309111e+00 -3.72218933e+00\n",
      "  -4.16058075e+00 -4.55640597e+00 -4.92134498e+00]\n",
      " [-1.83571736e+00 -2.59336312e+00 -3.17960980e+00 -3.67155371e+00\n",
      "  -4.10343309e+00 -4.49324159e+00 -4.85074770e+00]\n",
      " [-1.80546454e+00 -2.55699547e+00 -3.13623421e+00 -3.62216848e+00\n",
      "  -4.04725095e+00 -4.43008137e+00 -4.78143850e+00]\n",
      " [-1.77571180e+00 -2.52063060e+00 -3.09387931e+00 -3.57285033e+00\n",
      "  -3.99186196e+00 -4.36822350e+00 -4.71347520e+00]\n",
      " [-1.74644286e+00 -2.48498587e+00 -3.05162300e+00 -3.52465523e+00\n",
      "  -3.93691470e+00 -4.30720071e+00 -4.64554261e+00]\n",
      " [-1.71764225e+00 -2.44989455e+00 -3.01024187e+00 -3.47665238e+00\n",
      "  -3.88314918e+00 -4.24659259e+00 -4.57887393e+00]\n",
      " [-1.68906304e+00 -2.41494200e+00 -2.96914340e+00 -3.42959139e+00\n",
      "  -3.82941385e+00 -4.18718471e+00 -4.51341217e+00]\n",
      " [-1.66071600e+00 -2.38065525e+00 -2.92869226e+00 -3.38283551e+00\n",
      "  -3.77678033e+00 -4.12816303e+00 -4.44798970e+00]\n",
      " [-1.63280846e+00 -2.34675369e+00 -2.88868989e+00 -3.33685648e+00\n",
      "  -3.72460276e+00 -4.06990877e+00 -4.38376772e+00]\n",
      " [-1.60532701e+00 -2.31310786e+00 -2.84912786e+00 -3.29128442e+00\n",
      "  -3.67305454e+00 -4.01276111e+00 -4.32060334e+00]\n",
      " [-1.57825883e+00 -2.28007941e+00 -2.81016463e+00 -3.24633871e+00\n",
      "  -3.62234697e+00 -3.95561653e+00 -4.25753857e+00]\n",
      " [-1.55122522e+00 -2.24728958e+00 -2.77145346e+00 -3.20189201e+00\n",
      "  -3.57184020e+00 -3.89954013e+00 -4.19559005e+00]\n",
      " [-1.52455807e+00 -2.21485627e+00 -2.73347675e+00 -3.15793419e+00\n",
      "  -3.52233363e+00 -3.84415114e+00 -4.13456726e+00]\n",
      " [-1.49828023e+00 -2.18299703e+00 -2.69558061e+00 -3.11455860e+00\n",
      "  -3.47301548e+00 -3.78910373e+00 -4.07369616e+00]\n",
      " [-1.47238050e+00 -2.15124834e+00 -2.65846590e+00 -3.07154619e+00\n",
      "  -3.42447026e+00 -3.73504821e+00 -4.01386565e+00]\n",
      " [-1.44673386e+00 -2.11994320e+00 -2.62142698e+00 -3.02919130e+00\n",
      "  -3.37646742e+00 -3.68131288e+00 -3.95484396e+00]\n",
      " [-1.42120151e+00 -2.08917154e+00 -2.58506210e+00 -2.98708448e+00\n",
      "  -3.32884693e+00 -3.62821414e+00 -3.89601905e+00]\n",
      " [-1.39602628e+00 -2.05840156e+00 -2.54891578e+00 -2.94570334e+00\n",
      "  -3.28209105e+00 -3.57603658e+00 -3.83816649e+00]\n",
      " [-1.37119830e+00 -2.02814875e+00 -2.51327105e+00 -2.90446477e+00\n",
      "  -3.23536072e+00 -3.52386135e+00 -3.78101884e+00]\n",
      " [-1.34670812e+00 -1.99829578e+00 -2.47797530e+00 -2.86401363e+00\n",
      "  -3.18948787e+00 -3.47257805e+00 -3.72410701e+00]\n",
      " [-1.32231304e+00 -1.96854304e+00 -2.44302275e+00 -2.82360821e+00\n",
      "  -3.14391582e+00 -3.42187047e+00 -3.66810582e+00]\n",
      " [-1.29815160e+00 -1.93927410e+00 -2.40853847e+00 -2.78400296e+00\n",
      "  -3.09886956e+00 -3.37144912e+00 -3.61271683e+00]\n",
      " [-1.27431020e+00 -1.91028657e+00 -2.37425172e+00 -2.74444093e+00\n",
      "  -3.05442285e+00 -3.32186121e+00 -3.55759758e+00]\n",
      " [-1.25078045e+00 -1.88148595e+00 -2.34054243e+00 -2.70560476e+00\n",
      "  -3.01017391e+00 -3.27254306e+00 -3.50333293e+00]\n",
      " [-1.22752044e+00 -1.85313891e+00 -2.30689660e+00 -2.66689359e+00\n",
      "  -2.96669455e+00 -3.22376149e+00 -3.44959760e+00]\n",
      " [-1.20429431e+00 -1.82496803e+00 -2.27386815e+00 -2.62879720e+00\n",
      "  -2.92331896e+00 -3.17575865e+00 -3.39616144e+00]]\n",
      "The new distance is: 45953130015.56888\n"
     ]
    }
   ],
   "source": [
    "V_T_sto= np.matmul(utility(W_vec.reshape(-1,1)),epsilon.reshape(1,M)) \n",
    "\n",
    "# create utility matrix\n",
    "c_mat_sto = np.tile(W_vec.reshape((N,1)), (1,N)) - \\\n",
    "        np.tile(W_vec.reshape((1,N)), (N,1))\n",
    "c_pos_sto = c_mat_sto > 0\n",
    "c_mat_sto[~c_pos_sto] = 1e-7\n",
    "u_mat_sto = utility(c_mat_sto)\n",
    "\n",
    "\n",
    "V_prime0 = np.matmul(V_T_sto, Gamma.reshape(M,1))\n",
    "\n",
    "V_prime = np.tile(V_prime0.reshape((1,N)), (N,1))\n",
    "V_prime[~c_pos] = -9e+4\n",
    "\n",
    "V_T_minus_1_sto = []\n",
    "W_prime_sto = []\n",
    "for e in epsilon:\n",
    "    V_T_minus_1_sto0 = (e*u_mat_sto + beta * V_prime).max(axis = 1)\n",
    "    arg = (e*u_mat + beta * V_prime).argmax(axis = 1)\n",
    "    W_prime0 = 0.01*(arg+1)\n",
    "    V_T_minus_1_sto.append(V_T_minus_1_sto0)\n",
    "    W_prime_sto.append(W_prime0)\n",
    "W_prime_sto = np.transpose(np.array(W_prime_sto))\n",
    "V_T_minus_1_sto = np.transpose(np.array(V_T_minus_1_sto))    \n",
    "delta_T_minus_1_sto = dist(V_T_minus_1_sto,V_T_sto)\n",
    "print(\"W':\\n\", W_prime_sto)\n",
    "print(\"VT-1:\\n\", V_T_minus_1_sto)\n",
    "print(\"The new distance is:\",delta_T_minus_1_sto)"
   ]
  },
  {
   "cell_type": "markdown",
   "metadata": {},
   "source": [
    "## 5.20"
   ]
  },
  {
   "cell_type": "code",
   "execution_count": 20,
   "metadata": {},
   "outputs": [
    {
     "name": "stdout",
     "output_type": "stream",
     "text": [
      "W':\n",
      " [[0.01 0.01 0.01 0.01 0.01 0.01 0.01]\n",
      " [0.01 0.01 0.01 0.01 0.01 0.01 0.01]\n",
      " [0.02 0.02 0.02 0.02 0.02 0.02 0.02]\n",
      " [0.03 0.03 0.03 0.02 0.02 0.02 0.02]\n",
      " [0.04 0.04 0.04 0.03 0.03 0.03 0.02]\n",
      " [0.05 0.05 0.04 0.04 0.04 0.03 0.03]\n",
      " [0.06 0.05 0.05 0.04 0.04 0.04 0.04]\n",
      " [0.07 0.06 0.06 0.05 0.05 0.04 0.04]\n",
      " [0.08 0.07 0.06 0.06 0.05 0.05 0.04]\n",
      " [0.09 0.08 0.07 0.06 0.06 0.05 0.05]\n",
      " [0.1  0.09 0.08 0.07 0.06 0.06 0.05]\n",
      " [0.1  0.09 0.08 0.08 0.07 0.06 0.06]\n",
      " [0.11 0.1  0.09 0.08 0.08 0.07 0.06]\n",
      " [0.12 0.11 0.1  0.09 0.08 0.07 0.07]\n",
      " [0.13 0.12 0.1  0.09 0.09 0.08 0.07]\n",
      " [0.14 0.12 0.11 0.1  0.09 0.09 0.08]\n",
      " [0.15 0.13 0.12 0.11 0.1  0.09 0.08]\n",
      " [0.16 0.14 0.13 0.11 0.1  0.1  0.09]\n",
      " [0.17 0.15 0.13 0.12 0.11 0.1  0.09]\n",
      " [0.17 0.15 0.14 0.13 0.12 0.11 0.1 ]\n",
      " [0.18 0.16 0.15 0.13 0.12 0.11 0.1 ]\n",
      " [0.19 0.17 0.15 0.14 0.13 0.12 0.11]\n",
      " [0.2  0.18 0.16 0.15 0.13 0.12 0.11]\n",
      " [0.21 0.19 0.17 0.15 0.14 0.13 0.12]\n",
      " [0.22 0.19 0.17 0.16 0.14 0.13 0.12]\n",
      " [0.23 0.2  0.18 0.16 0.15 0.14 0.13]\n",
      " [0.24 0.21 0.19 0.17 0.16 0.14 0.13]\n",
      " [0.24 0.22 0.19 0.18 0.16 0.15 0.14]\n",
      " [0.25 0.22 0.2  0.18 0.17 0.15 0.14]\n",
      " [0.26 0.23 0.21 0.19 0.17 0.16 0.15]\n",
      " [0.27 0.24 0.22 0.19 0.18 0.17 0.15]\n",
      " [0.28 0.25 0.22 0.2  0.19 0.17 0.16]\n",
      " [0.29 0.26 0.23 0.21 0.19 0.17 0.16]\n",
      " [0.3  0.26 0.24 0.21 0.2  0.18 0.17]\n",
      " [0.31 0.27 0.24 0.22 0.2  0.19 0.17]\n",
      " [0.31 0.28 0.25 0.23 0.21 0.19 0.18]\n",
      " [0.32 0.29 0.26 0.23 0.21 0.2  0.18]\n",
      " [0.33 0.29 0.26 0.24 0.22 0.2  0.19]\n",
      " [0.34 0.3  0.27 0.25 0.23 0.21 0.19]\n",
      " [0.35 0.31 0.28 0.25 0.23 0.21 0.2 ]\n",
      " [0.36 0.32 0.29 0.26 0.24 0.22 0.2 ]\n",
      " [0.37 0.33 0.29 0.26 0.24 0.22 0.21]\n",
      " [0.38 0.33 0.3  0.27 0.25 0.23 0.21]\n",
      " [0.38 0.34 0.31 0.28 0.25 0.23 0.22]\n",
      " [0.39 0.35 0.31 0.28 0.26 0.24 0.22]\n",
      " [0.4  0.36 0.32 0.29 0.27 0.24 0.23]\n",
      " [0.41 0.36 0.33 0.3  0.27 0.25 0.23]\n",
      " [0.42 0.37 0.33 0.3  0.28 0.26 0.24]\n",
      " [0.43 0.38 0.34 0.31 0.28 0.26 0.24]\n",
      " [0.44 0.39 0.35 0.32 0.29 0.27 0.25]\n",
      " [0.44 0.4  0.35 0.32 0.29 0.27 0.25]\n",
      " [0.45 0.4  0.36 0.33 0.3  0.28 0.26]\n",
      " [0.46 0.41 0.37 0.33 0.31 0.28 0.26]\n",
      " [0.47 0.42 0.38 0.34 0.31 0.29 0.27]\n",
      " [0.48 0.43 0.38 0.35 0.32 0.29 0.27]\n",
      " [0.49 0.43 0.39 0.35 0.32 0.3  0.28]\n",
      " [0.5  0.44 0.4  0.36 0.33 0.3  0.28]\n",
      " [0.51 0.45 0.4  0.37 0.34 0.31 0.29]\n",
      " [0.51 0.46 0.41 0.37 0.34 0.31 0.29]\n",
      " [0.52 0.46 0.42 0.38 0.35 0.32 0.3 ]\n",
      " [0.53 0.47 0.42 0.38 0.35 0.33 0.3 ]\n",
      " [0.54 0.48 0.43 0.39 0.36 0.33 0.31]\n",
      " [0.55 0.49 0.44 0.4  0.36 0.34 0.31]\n",
      " [0.56 0.5  0.44 0.4  0.37 0.34 0.32]\n",
      " [0.57 0.5  0.45 0.41 0.38 0.35 0.32]\n",
      " [0.58 0.51 0.46 0.42 0.38 0.35 0.33]\n",
      " [0.58 0.52 0.47 0.42 0.39 0.36 0.33]\n",
      " [0.59 0.53 0.47 0.43 0.39 0.36 0.34]\n",
      " [0.6  0.53 0.48 0.44 0.4  0.37 0.34]\n",
      " [0.61 0.54 0.49 0.44 0.4  0.37 0.35]\n",
      " [0.62 0.55 0.49 0.45 0.41 0.38 0.35]\n",
      " [0.63 0.56 0.5  0.45 0.42 0.38 0.36]\n",
      " [0.64 0.57 0.51 0.46 0.42 0.39 0.36]\n",
      " [0.65 0.57 0.51 0.47 0.43 0.4  0.36]\n",
      " [0.65 0.58 0.52 0.47 0.43 0.4  0.37]\n",
      " [0.66 0.59 0.53 0.48 0.44 0.4  0.38]\n",
      " [0.67 0.6  0.53 0.49 0.44 0.41 0.38]\n",
      " [0.68 0.6  0.54 0.49 0.45 0.42 0.38]\n",
      " [0.69 0.61 0.55 0.5  0.46 0.42 0.39]\n",
      " [0.7  0.62 0.56 0.5  0.46 0.43 0.4 ]\n",
      " [0.71 0.63 0.56 0.51 0.47 0.43 0.4 ]\n",
      " [0.72 0.63 0.57 0.52 0.47 0.44 0.4 ]\n",
      " [0.72 0.64 0.58 0.52 0.48 0.44 0.41]\n",
      " [0.73 0.65 0.58 0.53 0.48 0.45 0.42]\n",
      " [0.74 0.66 0.59 0.54 0.49 0.45 0.42]\n",
      " [0.75 0.67 0.6  0.54 0.5  0.46 0.42]\n",
      " [0.76 0.67 0.6  0.55 0.5  0.46 0.43]\n",
      " [0.77 0.68 0.61 0.55 0.51 0.47 0.44]\n",
      " [0.78 0.69 0.62 0.56 0.51 0.47 0.44]\n",
      " [0.79 0.7  0.63 0.57 0.52 0.48 0.44]\n",
      " [0.79 0.7  0.63 0.57 0.53 0.48 0.45]\n",
      " [0.8  0.71 0.64 0.58 0.53 0.49 0.46]\n",
      " [0.81 0.72 0.65 0.59 0.54 0.5  0.46]\n",
      " [0.82 0.73 0.65 0.59 0.54 0.5  0.46]\n",
      " [0.83 0.74 0.66 0.6  0.55 0.51 0.47]\n",
      " [0.84 0.74 0.67 0.61 0.55 0.51 0.48]\n",
      " [0.85 0.75 0.67 0.61 0.56 0.52 0.48]\n",
      " [0.86 0.76 0.68 0.62 0.57 0.52 0.48]\n",
      " [0.86 0.77 0.69 0.62 0.57 0.53 0.49]\n",
      " [0.87 0.77 0.7  0.63 0.58 0.53 0.49]]\n",
      "VT-2:\n",
      " [[-8.10080590e+04 -8.10161181e+04 -8.10241771e+04 -8.10322362e+04\n",
      "  -8.10402952e+04 -8.10483543e+04 -8.10564133e+04]\n",
      " [-7.29313152e+04 -7.29336177e+04 -7.29359203e+04 -7.29382229e+04\n",
      "  -7.29405255e+04 -7.29428281e+04 -7.29451307e+04]\n",
      " [-1.80522671e+01 -2.03548522e+01 -2.26574373e+01 -2.49600224e+01\n",
      "  -2.72626075e+01 -2.95651926e+01 -3.18677777e+01]\n",
      " [-1.67240843e+01 -1.90266694e+01 -2.13292545e+01 -2.35737280e+01\n",
      "  -2.55297395e+01 -2.74857511e+01 -2.94417626e+01]\n",
      " [-1.56766026e+01 -1.79791877e+01 -2.02817728e+01 -2.22455453e+01\n",
      "  -2.42015568e+01 -2.61575683e+01 -2.80226347e+01]\n",
      " [-1.49038096e+01 -1.72063947e+01 -1.92420520e+01 -2.11980635e+01\n",
      "  -2.31540750e+01 -2.49411729e+01 -2.66944519e+01]\n",
      " [-1.42780030e+01 -1.65132475e+01 -1.84692590e+01 -2.03871333e+01\n",
      "  -2.21404122e+01 -2.38936912e+01 -2.56469701e+01]\n",
      " [-1.37423698e+01 -1.58874409e+01 -1.78434524e+01 -1.96143403e+01\n",
      "  -2.13676192e+01 -2.30306450e+01 -2.46400829e+01]\n",
      " [-1.32843345e+01 -1.53518077e+01 -1.72352547e+01 -1.89885337e+01\n",
      "  -2.06484140e+01 -2.22578519e+01 -2.38590804e+01]\n",
      " [-1.28776432e+01 -1.48937724e+01 -1.66996215e+01 -1.84131696e+01\n",
      "  -2.00226075e+01 -2.15884213e+01 -2.30862874e+01]\n",
      " [-1.25189462e+01 -1.44870811e+01 -1.62415862e+01 -1.78775363e+01\n",
      "  -1.94647486e+01 -2.09626147e+01 -2.24481620e+01]\n",
      " [-1.21723726e+01 -1.40816160e+01 -1.58100631e+01 -1.74195011e+01\n",
      "  -1.89291153e+01 -2.04156501e+01 -2.18223554e+01]\n",
      " [-1.18434907e+01 -1.37229190e+01 -1.54033718e+01 -1.69732139e+01\n",
      "  -1.84710801e+01 -1.98800168e+01 -2.12828280e+01]\n",
      " [-1.15474233e+01 -1.33940371e+01 -1.50446748e+01 -1.65665226e+01\n",
      "  -1.80152762e+01 -1.94175648e+01 -2.07471948e+01]\n",
      " [-1.12716667e+01 -1.30979696e+01 -1.47099595e+01 -1.62018795e+01\n",
      "  -1.76085849e+01 -1.89595295e+01 -2.02798349e+01]\n",
      " [-1.10183151e+01 -1.28102876e+01 -1.43810776e+01 -1.58431825e+01\n",
      "  -1.72232082e+01 -1.85528382e+01 -1.98217997e+01]\n",
      " [-1.07807329e+01 -1.25345310e+01 -1.40850102e+01 -1.55143007e+01\n",
      "  -1.68645112e+01 -1.81522440e+01 -1.94095590e+01]\n",
      " [-1.05615569e+01 -1.22811794e+01 -1.38092536e+01 -1.52059993e+01\n",
      "  -1.65306827e+01 -1.77935470e+01 -1.90028677e+01]\n",
      " [-1.03519038e+01 -1.20435973e+01 -1.35357712e+01 -1.49099318e+01\n",
      "  -1.62018008e+01 -1.74401979e+01 -1.86341059e+01]\n",
      " [-1.01491712e+01 -1.18204537e+01 -1.32824197e+01 -1.46341752e+01\n",
      "  -1.59057334e+01 -1.71113161e+01 -1.82754089e+01]\n",
      " [-9.95643320e+00 -1.16012777e+01 -1.30448375e+01 -1.43671124e+01\n",
      "  -1.56112758e+01 -1.67952345e+01 -1.79418233e+01]\n",
      " [-9.76863353e+00 -1.13916246e+01 -1.28136115e+01 -1.41137609e+01\n",
      "  -1.53355192e+01 -1.64991670e+01 -1.76129414e+01]\n",
      " [-9.59512482e+00 -1.11988865e+01 -1.25944354e+01 -1.38761787e+01\n",
      "  -1.50721179e+01 -1.62132365e+01 -1.73084016e+01]\n",
      " [-9.42680683e+00 -1.10110868e+01 -1.23847824e+01 -1.36406127e+01\n",
      "  -1.48187664e+01 -1.59374799e+01 -1.70123341e+01]\n",
      " [-9.26786484e+00 -1.08287653e+01 -1.21844853e+01 -1.34214366e+01\n",
      "  -1.45804909e+01 -1.56764458e+01 -1.67321847e+01]\n",
      " [-9.11588210e+00 -1.06552566e+01 -1.19917472e+01 -1.32107156e+01\n",
      "  -1.43429087e+01 -1.54230942e+01 -1.64564280e+01]\n",
      " [-8.96978343e+00 -1.04869386e+01 -1.18039475e+01 -1.30010625e+01\n",
      "  -1.41237327e+01 -1.51829661e+01 -1.61970501e+01]\n",
      " [-8.82594240e+00 -1.03279966e+01 -1.16272730e+01 -1.28083244e+01\n",
      "  -1.39062042e+01 -1.49453839e+01 -1.59436986e+01]\n",
      " [-8.68682341e+00 -1.01738459e+01 -1.14537643e+01 -1.26177041e+01\n",
      "  -1.36965511e+01 -1.47230600e+01 -1.57022236e+01]\n",
      " [-8.55203592e+00 -1.00218632e+01 -1.12854463e+01 -1.24299044e+01\n",
      "  -1.34964444e+01 -1.45038839e+01 -1.54646414e+01]\n",
      " [-8.42298848e+00 -9.87576452e+00 -1.11265043e+01 -1.22558816e+01\n",
      "  -1.33037063e+01 -1.42942309e+01 -1.52387566e+01]\n",
      " [-8.29874398e+00 -9.73664553e+00 -1.09684635e+01 -1.20823729e+01\n",
      "  -1.31159066e+01 -1.40872523e+01 -1.50195805e+01]\n",
      " [-8.17836085e+00 -9.60185805e+00 -1.08164808e+01 -1.19140550e+01\n",
      "  -1.29306367e+01 -1.38936367e+01 -1.48073943e+01]\n",
      " [-8.06286944e+00 -9.46832665e+00 -1.06703821e+01 -1.17539695e+01\n",
      "  -1.27571280e+01 -1.37008986e+01 -1.45977412e+01]\n",
      " [-7.95027763e+00 -9.33927922e+00 -1.05274169e+01 -1.15950276e+01\n",
      "  -1.25846458e+01 -1.35130990e+01 -1.43976868e+01]\n",
      " [-7.83870586e+00 -9.21503471e+00 -1.03882979e+01 -1.14430448e+01\n",
      "  -1.24163278e+01 -1.33312251e+01 -1.42049488e+01]\n",
      " [-7.73045087e+00 -9.09465158e+00 -1.02535104e+01 -1.12948289e+01\n",
      "  -1.22549815e+01 -1.31577164e+01 -1.40157135e+01]\n",
      " [-7.62497819e+00 -8.97686854e+00 -1.01229933e+01 -1.11487302e+01\n",
      "  -1.20960396e+01 -1.29862412e+01 -1.38279138e+01]\n",
      " [-7.52283056e+00 -8.86137714e+00 -9.99394588e+00 -1.10096112e+01\n",
      "  -1.19440568e+01 -1.28179232e+01 -1.36483873e+01]\n",
      " [-7.42392444e+00 -8.74878533e+00 -9.86970137e+00 -1.08716255e+01\n",
      "  -1.17924953e+01 -1.26557215e+01 -1.34748786e+01]\n",
      " [-7.32719744e+00 -8.64053034e+00 -9.74931824e+00 -1.07368380e+01\n",
      "  -1.16463966e+01 -1.24967795e+01 -1.33041130e+01]\n",
      " [-7.23404487e+00 -8.53505766e+00 -9.62925418e+00 -1.06077609e+01\n",
      "  -1.15035006e+01 -1.23428996e+01 -1.31357950e+01]\n",
      " [-7.14216579e+00 -8.42969715e+00 -9.51376277e+00 -1.04787135e+01\n",
      "  -1.13643816e+01 -1.21909169e+01 -1.29729749e+01]\n",
      " [-7.05100501e+00 -8.32754952e+00 -9.40117096e+00 -1.03544690e+01\n",
      "  -1.12292135e+01 -1.20445464e+01 -1.28140330e+01]\n",
      " [-6.96266847e+00 -8.22864340e+00 -9.29000900e+00 -1.02332197e+01\n",
      "  -1.10944260e+01 -1.18984477e+01 -1.26584518e+01]\n",
      " [-6.87556645e+00 -8.13191640e+00 -9.18175402e+00 -1.01128366e+01\n",
      "  -1.09653786e+01 -1.17588877e+01 -1.25064691e+01]\n",
      " [-6.79147253e+00 -8.03660622e+00 -9.07628134e+00 -9.99734522e+00\n",
      "  -1.08371454e+01 -1.16197687e+01 -1.23575104e+01]\n",
      " [-6.70880103e+00 -7.94345364e+00 -8.97279203e+00 -9.88302839e+00\n",
      "  -1.07129008e+01 -1.14849812e+01 -1.22114117e+01]\n",
      " [-6.62848102e+00 -7.85157457e+00 -8.87064440e+00 -9.77043658e+00\n",
      "  -1.05909254e+01 -1.13516259e+01 -1.20685347e+01]\n",
      " [-6.54976425e+00 -7.76323803e+00 -8.77173828e+00 -9.66218159e+00\n",
      "  -1.04705423e+01 -1.12225785e+01 -1.19294158e+01]\n",
      " [-6.47268891e+00 -7.67613601e+00 -8.67493050e+00 -9.55404715e+00\n",
      "  -1.03542423e+01 -1.10948996e+01 -1.17921433e+01]\n",
      " [-6.39584534e+00 -7.58912463e+00 -8.57820350e+00 -9.44857447e+00\n",
      "  -1.02387509e+01 -1.09706551e+01 -1.16573558e+01]\n",
      " [-6.32053641e+00 -7.50503070e+00 -8.48505093e+00 -9.34598788e+00\n",
      "  -1.01261591e+01 -1.08481891e+01 -1.15252646e+01]\n",
      " [-6.24711921e+00 -7.42235921e+00 -8.39317185e+00 -9.24384025e+00\n",
      "  -1.00150296e+01 -1.07278060e+01 -1.13962172e+01]\n",
      " [-6.17492785e+00 -7.34203920e+00 -8.30223492e+00 -9.14493413e+00\n",
      "  -9.90677466e+00 -1.06101439e+01 -1.12689304e+01]\n",
      " [-6.10465044e+00 -7.26199649e+00 -8.21389838e+00 -9.04735380e+00\n",
      "  -9.80037562e+00 -1.04946525e+01 -1.11446859e+01]\n",
      " [-6.03536935e+00 -7.18327972e+00 -8.12679636e+00 -8.95062680e+00\n",
      "  -9.69490294e+00 -1.03814315e+01 -1.10218663e+01]\n",
      " [-5.96762183e+00 -7.10643615e+00 -8.04105874e+00 -8.85747423e+00\n",
      "  -9.59275532e+00 -1.02688397e+01 -1.09014832e+01]\n",
      " [-5.90085613e+00 -7.03112722e+00 -7.95696481e+00 -8.76443420e+00\n",
      "  -9.49070033e+00 -1.01597367e+01 -1.07828277e+01]\n",
      " [-5.83461910e+00 -6.95701925e+00 -7.87429332e+00 -8.67255512e+00\n",
      "  -9.39179421e+00 -1.00514818e+01 -1.06673363e+01]\n",
      " [-5.76920072e+00 -6.88360204e+00 -7.79319248e+00 -8.58365160e+00\n",
      "  -9.29374242e+00 -9.94600908e+00 -1.05525720e+01]\n",
      " [-5.70561803e+00 -6.81141069e+00 -7.71287248e+00 -8.49531505e+00\n",
      "  -9.19701543e+00 -9.84073512e+00 -1.04399802e+01]\n",
      " [-5.64251930e+00 -6.74113328e+00 -7.63415570e+00 -8.40821303e+00\n",
      "  -9.10266461e+00 -9.73858749e+00 -1.03288597e+01]\n",
      " [-5.58125500e+00 -6.67185219e+00 -7.55721576e+00 -8.32309381e+00\n",
      "  -9.00951203e+00 -9.63688284e+00 -1.02206047e+01]\n",
      " [-5.52037570e+00 -6.60285931e+00 -7.48037219e+00 -8.23899988e+00\n",
      "  -8.91763296e+00 -9.53797672e+00 -1.01129039e+01]\n",
      " [-5.46113777e+00 -6.53511179e+00 -7.40506326e+00 -8.15632838e+00\n",
      "  -8.82671384e+00 -9.43960725e+00 -1.00074312e+01]\n",
      " [-5.40224625e+00 -6.46887477e+00 -7.33164606e+00 -8.07468440e+00\n",
      "  -8.73837730e+00 -9.34288025e+00 -9.90294587e+00]\n",
      " [-5.34355396e+00 -6.40345638e+00 -7.25846081e+00 -7.99436439e+00\n",
      "  -8.65064900e+00 -9.24763416e+00 -9.80079824e+00]\n",
      " [-5.28622901e+00 -6.33891786e+00 -7.18626946e+00 -7.91564761e+00\n",
      "  -8.56354698e+00 -9.15448158e+00 -9.69934186e+00]\n",
      " [-5.22963051e+00 -6.27533517e+00 -7.11599204e+00 -7.83720619e+00\n",
      "  -8.47879311e+00 -9.06216660e+00 -9.60043574e+00]\n",
      " [-5.17398247e+00 -6.21223644e+00 -7.04621202e+00 -7.76036261e+00\n",
      "  -8.39469918e+00 -8.97028753e+00 -9.50183767e+00]\n",
      " [-5.11931763e+00 -6.15097214e+00 -6.97693093e+00 -7.68488196e+00\n",
      "  -8.31202768e+00 -8.88072864e+00 -9.40511067e+00]\n",
      " [-5.06537262e+00 -6.09009284e+00 -6.90918341e+00 -7.60957303e+00\n",
      "  -8.23005313e+00 -8.79239210e+00 -9.30921426e+00]\n",
      " [-5.01239874e+00 -6.02946822e+00 -6.84250576e+00 -7.53615583e+00\n",
      "  -8.14973312e+00 -8.70529008e+00 -9.21587540e+00]\n",
      " [-4.95971848e+00 -5.97023029e+00 -6.77626874e+00 -7.46342054e+00\n",
      "  -8.07036137e+00 -8.61832747e+00 -9.12272282e+00]\n",
      " [-4.90749135e+00 -5.91153799e+00 -6.71085035e+00 -7.39122918e+00\n",
      "  -7.99164460e+00 -8.53381484e+00 -9.03084375e+00]\n",
      " [-4.85604642e+00 -5.85421305e+00 -6.64701093e+00 -7.32095177e+00\n",
      "  -7.91471545e+00 -8.44972091e+00 -8.93992954e+00]\n",
      " [-4.80542029e+00 -5.79705464e+00 -6.58342824e+00 -7.25076913e+00\n",
      "  -7.83787188e+00 -8.36704942e+00 -8.85131722e+00]\n",
      " [-4.75545201e+00 -5.74045614e+00 -6.52032951e+00 -7.18148804e+00\n",
      "  -7.76256295e+00 -8.28485249e+00 -8.76298068e+00]\n",
      " [-4.70619574e+00 -5.68480809e+00 -6.45906521e+00 -7.11368494e+00\n",
      "  -7.68793055e+00 -8.20453249e+00 -8.67587866e+00]\n",
      " [-4.65776432e+00 -5.63014325e+00 -6.39783222e+00 -7.04593742e+00\n",
      "  -7.61451334e+00 -8.12452774e+00 -8.58945451e+00]\n",
      " [-4.60982641e+00 -5.57607603e+00 -6.33695292e+00 -6.97970039e+00\n",
      "  -7.54204450e+00 -8.04581097e+00 -8.50511308e+00]\n",
      " [-4.56217132e+00 -5.52213102e+00 -6.27771498e+00 -6.91412075e+00\n",
      "  -7.46985314e+00 -7.96788451e+00 -8.42101915e+00]\n",
      " [-4.51513814e+00 -5.46915714e+00 -6.21888392e+00 -6.84870236e+00\n",
      "  -7.39942595e+00 -7.89104094e+00 -8.33834766e+00]\n",
      " [-4.46847879e+00 -5.41693002e+00 -6.16019162e+00 -6.78511967e+00\n",
      "  -7.32914854e+00 -7.81508751e+00 -8.25599092e+00]\n",
      " [-4.42268565e+00 -5.36548508e+00 -6.10286668e+00 -6.72162228e+00\n",
      "  -7.25986745e+00 -7.73977859e+00 -8.17552761e+00]\n",
      " [-4.37730945e+00 -5.31419179e+00 -6.04625619e+00 -6.65852354e+00\n",
      "  -7.19137001e+00 -7.66570075e+00 -8.09520760e+00]\n",
      " [-4.33264574e+00 -5.26356565e+00 -5.98965769e+00 -6.59698023e+00\n",
      "  -7.12362249e+00 -7.59228355e+00 -8.01649082e+00]\n",
      " [-4.28848125e+00 -5.21359738e+00 -5.93400965e+00 -6.53571593e+00\n",
      "  -7.05695187e+00 -7.51999089e+00 -7.93783583e+00]\n",
      " [-4.24490905e+00 -5.16434111e+00 -5.87934480e+00 -6.47483663e+00\n",
      "  -6.99071485e+00 -7.44779954e+00 -7.86090966e+00]\n",
      " [-4.20140336e+00 -5.11555094e+00 -5.82479333e+00 -6.41513070e+00\n",
      "  -6.92529646e+00 -7.37720804e+00 -7.78406608e+00]\n",
      " [-4.15840739e+00 -5.06711952e+00 -5.77084833e+00 -6.35589277e+00\n",
      "  -6.86035775e+00 -7.30693063e+00 -7.70875716e+00]\n",
      " [-4.11588508e+00 -5.01918161e+00 -5.71787445e+00 -6.29720047e+00\n",
      "  -6.79677506e+00 -7.23764954e+00 -7.63348544e+00]\n",
      " [-4.07390736e+00 -4.97214843e+00 -5.66523747e+00 -6.23922540e+00\n",
      "  -6.73348054e+00 -7.16868099e+00 -7.55979850e+00]\n",
      " [-4.03246622e+00 -4.92548908e+00 -5.61301034e+00 -6.18190046e+00\n",
      "  -6.67038181e+00 -7.10093347e+00 -7.48638130e+00]\n",
      " [-3.99148064e+00 -4.87896906e+00 -5.56156541e+00 -6.12530196e+00\n",
      "  -6.60865028e+00 -7.03351490e+00 -7.41418995e+00]\n",
      " [-3.95106079e+00 -4.83317592e+00 -5.51071308e+00 -6.06896021e+00\n",
      "  -6.54738598e+00 -6.96727787e+00 -7.34202244e+00]\n",
      " [-3.91098914e+00 -4.78779973e+00 -5.46008695e+00 -6.01331216e+00\n",
      "  -6.48650667e+00 -6.90134115e+00 -7.27131297e+00]\n",
      " [-3.87096778e+00 -4.74313602e+00 -5.41011867e+00 -5.95851421e+00\n",
      "  -6.42626280e+00 -6.83592277e+00 -7.20103555e+00]\n",
      " [-3.83150616e+00 -4.69868425e+00 -5.36086240e+00 -5.90384937e+00\n",
      "  -6.36702486e+00 -6.77140415e+00 -7.13172636e+00]]\n",
      "The new distance is: 37222039599.196625\n"
     ]
    }
   ],
   "source": [
    "V_prime0 = np.matmul(V_T_minus_1_sto, Gamma.reshape(M,1))\n",
    "\n",
    "V_prime = np.tile(V_prime0.reshape((1,N)), (N,1))\n",
    "V_prime[~c_pos] = -9e+4\n",
    "\n",
    "V_T_minus_2_sto = []\n",
    "W_prime_sto = []\n",
    "for e in epsilon:\n",
    "    V_T_minus_2_sto0 = (e*u_mat_sto + beta * V_prime).max(axis = 1)\n",
    "    arg = (e*u_mat + beta * V_prime).argmax(axis = 1)\n",
    "    W_prime0 = 0.01*(arg+1)\n",
    "    V_T_minus_2_sto.append(V_T_minus_2_sto0)\n",
    "    W_prime_sto.append(W_prime0)\n",
    "W_prime_sto = np.transpose(np.array(W_prime_sto))\n",
    "V_T_minus_2_sto = np.transpose(np.array(V_T_minus_2_sto))    \n",
    "delta_T_minus_2_sto = dist(V_T_minus_2_sto,V_T_minus_1_sto)\n",
    "print(\"W':\\n\", W_prime_sto)\n",
    "print(\"VT-2:\\n\", V_T_minus_2_sto)\n",
    "print(\"The new distance is:\",delta_T_minus_2_sto)"
   ]
  },
  {
   "cell_type": "markdown",
   "metadata": {},
   "source": [
    "## 5.21"
   ]
  },
  {
   "cell_type": "code",
   "execution_count": 21,
   "metadata": {},
   "outputs": [
    {
     "name": "stdout",
     "output_type": "stream",
     "text": [
      "The iteration converges at i = 150\n"
     ]
    }
   ],
   "source": [
    "V_0 = V_T\n",
    "i = 0\n",
    "\n",
    "\n",
    "while True:\n",
    "    EV_0 = sum([V_0[i]*Gamma[i] for i in range(M)])\n",
    "    Eps_U_list = [eps*u+beta*EV_0 for eps in epsilon]\n",
    "    V_new = [np.nanmax(C, axis=1) for C in Eps_U_list]\n",
    "    delta_val = dist_sto(V_new,V_0)\n",
    "    if delta_val < 1e-9: \n",
    "        Phi = np.array([(np.nanargmax(C,axis=1)+1)/N for C in Eps_U_list])\n",
    "        break\n",
    "    else:\n",
    "        V_0 = V_new\n",
    "        i += 1\n",
    "\n",
    "print(\"The iteration converges at i =\",i)"
   ]
  },
  {
   "cell_type": "markdown",
   "metadata": {},
   "source": [
    "## 5.22"
   ]
  },
  {
   "cell_type": "code",
   "execution_count": 22,
   "metadata": {},
   "outputs": [
    {
     "data": {
      "image/png": "[encoded data removed]",
      "text/plain": [
       "<Figure size 720x576 with 1 Axes>"
      ]
     },
     "metadata": {
      "needs_background": "light"
     },
     "output_type": "display_data"
    }
   ],
   "source": [
    "from mpl_toolkits import mplot3d\n",
    "X, Y = np.meshgrid(W_vec, epsilon)\n",
    "fig = plt.figure(figsize=(10, 8))\n",
    "ax = fig.add_subplot(1,1,1, projection='3d')\n",
    "ax.plot_surface(X.T, Y.T, W_prime_sto)\n",
    "ax.set_xlabel('Today\\'s Cake')\n",
    "ax.set_ylabel('Taste Shock')\n",
    "ax.set_zlabel('Policy Function')\n",
    "ax.view_init(elev=30,azim=30)\n",
    "plt.show()"
   ]
  },
  {
   "cell_type": "code",
   "execution_count": null,
   "metadata": {
    "collapsed": true,
    "jupyter": {
     "outputs_hidden": true
    }
   },
   "outputs": [],
   "source": []
  }
 ],
 "metadata": {
  "kernelspec": {
   "display_name": "Python 3",
   "language": "python",
   "name": "python3"
  },
  "language_info": {
   "codemirror_mode": {
    "name": "ipython",
    "version": 3
   },
   "file_extension": ".py",
   "mimetype": "text/x-python",
   "name": "python",
   "nbconvert_exporter": "python",
   "pygments_lexer": "ipython3",
   "version": "3.7.3"
  }
 },
 "nbformat": 4,
 "nbformat_minor": 4
}
