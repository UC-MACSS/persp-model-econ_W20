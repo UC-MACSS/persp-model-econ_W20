{
 "cells": [
  {
   "cell_type": "markdown",
   "metadata": {},
   "source": [
    "### Exercise 1"
   ]
  },
  {
   "cell_type": "code",
   "execution_count": 1,
   "metadata": {},
   "outputs": [
    {
     "data": {
      "text/latex": [
       "For $T = 1$ the optimal decision for the individual is to eat the whole cake. Her maximiation problem is:\n"
      ],
      "text/plain": [
       "<IPython.core.display.Latex object>"
      ]
     },
     "metadata": {},
     "output_type": "display_data"
    }
   ],
   "source": [
    "%%latex\n",
    "For $T = 1$ the optimal decision for the individual is to eat the whole cake. Her maximiation problem is:"
   ]
  },
  {
   "cell_type": "code",
   "execution_count": 2,
   "metadata": {},
   "outputs": [
    {
     "data": {
      "text/latex": [
       "\n",
       "\\begin{align*}\n",
       "    \\max_{W_2\\in[0,W_1]} u(W_1 - W_2)\n",
       "\\end{align*}\n"
      ],
      "text/plain": [
       "<IPython.core.display.Latex object>"
      ]
     },
     "metadata": {},
     "output_type": "display_data"
    }
   ],
   "source": [
    "%%latex\n",
    "\n",
    "\\begin{align*}\n",
    "    \\max_{W_2\\in[0,W_1]} u(W_1 - W_2)\n",
    "\\end{align*}"
   ]
  },
  {
   "cell_type": "code",
   "execution_count": 3,
   "metadata": {},
   "outputs": [
    {
     "data": {
      "text/latex": [
       "The optimal $W_2$ is 0.\n"
      ],
      "text/plain": [
       "<IPython.core.display.Latex object>"
      ]
     },
     "metadata": {},
     "output_type": "display_data"
    }
   ],
   "source": [
    "%%latex\n",
    "The optimal $W_2$ is 0."
   ]
  },
  {
   "cell_type": "markdown",
   "metadata": {},
   "source": [
    "### Exercise 2"
   ]
  },
  {
   "cell_type": "code",
   "execution_count": 4,
   "metadata": {},
   "outputs": [
    {
     "data": {
      "text/latex": [
       "The optimal condition that characterizes $W_3$ in period 2 is:\n"
      ],
      "text/plain": [
       "<IPython.core.display.Latex object>"
      ]
     },
     "metadata": {},
     "output_type": "display_data"
    }
   ],
   "source": [
    "%%latex\n",
    "The optimal condition that characterizes $W_3$ in period 2 is:"
   ]
  },
  {
   "cell_type": "code",
   "execution_count": 5,
   "metadata": {},
   "outputs": [
    {
     "data": {
      "text/latex": [
       "\\begin{align*}\n",
       "    \\max_{W_3\\in[0,W_2]} u(W_2 - W_3)\n",
       "\\end{align*}\n"
      ],
      "text/plain": [
       "<IPython.core.display.Latex object>"
      ]
     },
     "metadata": {},
     "output_type": "display_data"
    }
   ],
   "source": [
    "%%latex\n",
    "\\begin{align*}\n",
    "    \\max_{W_3\\in[0,W_2]} u(W_2 - W_3)\n",
    "\\end{align*}"
   ]
  },
  {
   "cell_type": "code",
   "execution_count": 6,
   "metadata": {},
   "outputs": [
    {
     "data": {
      "text/latex": [
       "The optimal condition that characterizes $W_2$ in period 1 is:\n"
      ],
      "text/plain": [
       "<IPython.core.display.Latex object>"
      ]
     },
     "metadata": {},
     "output_type": "display_data"
    }
   ],
   "source": [
    "%%latex\n",
    "The optimal condition that characterizes $W_2$ in period 1 is:"
   ]
  },
  {
   "cell_type": "code",
   "execution_count": 7,
   "metadata": {},
   "outputs": [
    {
     "data": {
      "text/latex": [
       "\\begin{align*}\n",
       "    \\max_{W_2\\in[0,W_1]} [u(W_1 - W_2) + \\max_{W_3\\in[0,W_2]}\\beta u(W_2-W_3)]\n",
       "\\end{align*}\n"
      ],
      "text/plain": [
       "<IPython.core.display.Latex object>"
      ]
     },
     "metadata": {},
     "output_type": "display_data"
    }
   ],
   "source": [
    "%%latex\n",
    "\\begin{align*}\n",
    "    \\max_{W_2\\in[0,W_1]} [u(W_1 - W_2) + \\max_{W_3\\in[0,W_2]}\\beta u(W_2-W_3)]\n",
    "\\end{align*}"
   ]
  },
  {
   "cell_type": "markdown",
   "metadata": {},
   "source": [
    "### Exercise 3"
   ]
  },
  {
   "cell_type": "code",
   "execution_count": 8,
   "metadata": {},
   "outputs": [
    {
     "data": {
      "text/latex": [
       "The conditions that characterize the optimal amount of cake to leave for the next period\n"
      ],
      "text/plain": [
       "<IPython.core.display.Latex object>"
      ]
     },
     "metadata": {},
     "output_type": "display_data"
    }
   ],
   "source": [
    "%%latex\n",
    "The conditions that characterize the optimal amount of cake to leave for the next period"
   ]
  },
  {
   "cell_type": "code",
   "execution_count": 9,
   "metadata": {},
   "outputs": [
    {
     "data": {
      "text/latex": [
       "In period 3, we have:\n",
       "\\begin{align*}\n",
       "    \\max_{W_4\\in[0,W_3]} u(W_3 - W_4)\n",
       "\\end{align*}\n"
      ],
      "text/plain": [
       "<IPython.core.display.Latex object>"
      ]
     },
     "metadata": {},
     "output_type": "display_data"
    }
   ],
   "source": [
    "%%latex\n",
    "In period 3, we have:\n",
    "\\begin{align*}\n",
    "    \\max_{W_4\\in[0,W_3]} u(W_3 - W_4)\n",
    "\\end{align*}"
   ]
  },
  {
   "cell_type": "code",
   "execution_count": 10,
   "metadata": {},
   "outputs": [
    {
     "data": {
      "text/latex": [
       "In period 2, we have:\n",
       "\\begin{align*}\n",
       "    \\max_{W_3\\in[0,W_2]} [u(W_2 - W_3) + \\max_{W_4\\in[0,W_3]}\\beta u(W_3-W_4)]\n",
       "\\end{align*}\n"
      ],
      "text/plain": [
       "<IPython.core.display.Latex object>"
      ]
     },
     "metadata": {},
     "output_type": "display_data"
    }
   ],
   "source": [
    "%%latex\n",
    "In period 2, we have:\n",
    "\\begin{align*}\n",
    "    \\max_{W_3\\in[0,W_2]} [u(W_2 - W_3) + \\max_{W_4\\in[0,W_3]}\\beta u(W_3-W_4)]\n",
    "\\end{align*}"
   ]
  },
  {
   "cell_type": "code",
   "execution_count": 11,
   "metadata": {},
   "outputs": [
    {
     "data": {
      "text/latex": [
       "In period 1, we have:\n",
       "\\begin{align*}\n",
       "    \\max_{W_2\\in[0,W_1]}\\{u(W_1-W_2)+\\max_{W_3\\in[0,W_2]} [u(W_2 - W_3) + \\max_{W_4\\in[0,W_3]}\\beta u(W_3-W_4)]\\}\n",
       "\\end{align*}\n"
      ],
      "text/plain": [
       "<IPython.core.display.Latex object>"
      ]
     },
     "metadata": {},
     "output_type": "display_data"
    }
   ],
   "source": [
    "%%latex\n",
    "In period 1, we have:\n",
    "\\begin{align*}\n",
    "    \\max_{W_2\\in[0,W_1]}\\{u(W_1-W_2)+\\max_{W_3\\in[0,W_2]} [u(W_2 - W_3) + \\max_{W_4\\in[0,W_3]}\\beta u(W_3-W_4)]\\}\n",
    "\\end{align*}"
   ]
  },
  {
   "cell_type": "code",
   "execution_count": 12,
   "metadata": {},
   "outputs": [
    {
     "data": {
      "text/latex": [
       "With $\\beta = 0.9$, we take derivatives backward. First, with problem of period 3, we have $W_4 = 0$. Then in period 2, we have $W_3 = 0.3$. In period 1, $W_2 = 0.63$. We also have $W_1 = 1$. \n"
      ],
      "text/plain": [
       "<IPython.core.display.Latex object>"
      ]
     },
     "metadata": {},
     "output_type": "display_data"
    }
   ],
   "source": [
    "%%latex\n",
    "With $\\beta = 0.9$, we take derivatives backward. First, with problem of period 3, we have $W_4 = 0$. Then in period 2, we have $W_3 = 0.3$. In period 1, $W_2 = 0.63$. We also have $W_1 = 1$. "
   ]
  },
  {
   "cell_type": "code",
   "execution_count": 13,
   "metadata": {},
   "outputs": [],
   "source": [
    "import matplotlib.pyplot as plt\n",
    "\n",
    "W1,W2,W3,W4=1,0.63,0.30,0\n",
    "c1=W1-W2\n",
    "c2=W2-W3\n",
    "c3=W3-W4\n",
    "W=[W1,W2,W3,W4]\n",
    "c=[c1,c2,c3]\n",
    "T=[0,1,2,3]"
   ]
  },
  {
   "cell_type": "code",
   "execution_count": 14,
   "metadata": {},
   "outputs": [
    {
     "data": {
      "image/png": "[encoded data removed]",
      "text/plain": [
       "<Figure size 432x288 with 1 Axes>"
      ]
     },
     "metadata": {
      "needs_background": "light"
     },
     "output_type": "display_data"
    },
    {
     "data": {
      "image/png": "[encoded data removed]",
      "text/plain": [
       "<Figure size 432x288 with 1 Axes>"
      ]
     },
     "metadata": {
      "needs_background": "light"
     },
     "output_type": "display_data"
    }
   ],
   "source": [
    "plt.plot(T,W)\n",
    "plt.title(\"How W evolves over three periods\")\n",
    "plt.xlabel(\"T\")\n",
    "plt.ylabel(\"W\")\n",
    "plt.show()\n",
    "\n",
    "plt.plot(T[1:],c)\n",
    "plt.title(\"How C evolves over three periods\")\n",
    "plt.xlabel(\"T\")\n",
    "plt.ylabel(\"C\")\n",
    "plt.show()"
   ]
  },
  {
   "cell_type": "markdown",
   "metadata": {},
   "source": [
    "### Exercise 4"
   ]
  },
  {
   "cell_type": "code",
   "execution_count": 15,
   "metadata": {},
   "outputs": [
    {
     "data": {
      "text/latex": [
       "We have the following relationship:\n"
      ],
      "text/plain": [
       "<IPython.core.display.Latex object>"
      ]
     },
     "metadata": {},
     "output_type": "display_data"
    }
   ],
   "source": [
    "%%latex\n",
    "We have the following relationship:"
   ]
  },
  {
   "cell_type": "code",
   "execution_count": 16,
   "metadata": {},
   "outputs": [
    {
     "data": {
      "text/latex": [
       "\\begin{equation}\n",
       "    V_{T-1}(W_{T-1})\\equiv \\max_{W_T} u(W_{T-1}-W_T) + \\beta u(W_T)\n",
       "\\end{equation}\n"
      ],
      "text/plain": [
       "<IPython.core.display.Latex object>"
      ]
     },
     "metadata": {},
     "output_type": "display_data"
    }
   ],
   "source": [
    "%%latex\n",
    "\\begin{equation}\n",
    "    V_{T-1}(W_{T-1})\\equiv \\max_{W_T} u(W_{T-1}-W_T) + \\beta u(W_T)\n",
    "\\end{equation}"
   ]
  },
  {
   "cell_type": "code",
   "execution_count": 17,
   "metadata": {},
   "outputs": [
    {
     "data": {
      "text/latex": [
       "Taking first order derivative:\n"
      ],
      "text/plain": [
       "<IPython.core.display.Latex object>"
      ]
     },
     "metadata": {},
     "output_type": "display_data"
    }
   ],
   "source": [
    "%%latex\n",
    "Taking first order derivative:"
   ]
  },
  {
   "cell_type": "code",
   "execution_count": 18,
   "metadata": {},
   "outputs": [
    {
     "data": {
      "text/latex": [
       "\\begin{equation}\n",
       "    -u'(W_{T-1}-\\psi_{T-1}(W_{T-1})) + \\beta u'(\\psi_{T-1}(W_{T_1})) = 0\n",
       "\\end{equation}\n"
      ],
      "text/plain": [
       "<IPython.core.display.Latex object>"
      ]
     },
     "metadata": {},
     "output_type": "display_data"
    }
   ],
   "source": [
    "%%latex\n",
    "\\begin{equation}\n",
    "    -u'(W_{T-1}-\\psi_{T-1}(W_{T-1})) + \\beta u'(\\psi_{T-1}(W_{T_1})) = 0\n",
    "\\end{equation}"
   ]
  },
  {
   "cell_type": "code",
   "execution_count": 19,
   "metadata": {},
   "outputs": [
    {
     "data": {
      "text/latex": [
       "Therefore, $V_{T_1}$ could be expressed as:\n"
      ],
      "text/plain": [
       "<IPython.core.display.Latex object>"
      ]
     },
     "metadata": {},
     "output_type": "display_data"
    }
   ],
   "source": [
    "%%latex\n",
    "Therefore, $V_{T_1}$ could be expressed as:"
   ]
  },
  {
   "cell_type": "code",
   "execution_count": 20,
   "metadata": {},
   "outputs": [
    {
     "data": {
      "text/latex": [
       "\\begin{equation}\n",
       "    V_{T-1}(W_{T-1}) = u(W_{T-1}-\\psi_{T-1}(W_{T-1}))+ \\beta u(\\psi_{T-1}(W_{T-1}))\n",
       "\\end{equation}\n"
      ],
      "text/plain": [
       "<IPython.core.display.Latex object>"
      ]
     },
     "metadata": {},
     "output_type": "display_data"
    }
   ],
   "source": [
    "%%latex\n",
    "\\begin{equation}\n",
    "    V_{T-1}(W_{T-1}) = u(W_{T-1}-\\psi_{T-1}(W_{T-1}))+ \\beta u(\\psi_{T-1}(W_{T-1}))\n",
    "\\end{equation}"
   ]
  },
  {
   "cell_type": "markdown",
   "metadata": {},
   "source": [
    "### Exercise 5"
   ]
  },
  {
   "cell_type": "code",
   "execution_count": 21,
   "metadata": {},
   "outputs": [
    {
     "data": {
      "text/latex": [
       "Firstly, since $T$ is the last period of life, we have $\\psi_{T}(\\bar{W}) = 0$\n"
      ],
      "text/plain": [
       "<IPython.core.display.Latex object>"
      ]
     },
     "metadata": {},
     "output_type": "display_data"
    }
   ],
   "source": [
    "%%latex\n",
    "Firstly, since $T$ is the last period of life, we have $\\psi_{T}(\\bar{W}) = 0$"
   ]
  },
  {
   "cell_type": "code",
   "execution_count": 22,
   "metadata": {},
   "outputs": [
    {
     "data": {
      "text/latex": [
       "If $u(c) = ln(c)$, we have: $V_T = ln(\\bar{W})$\n"
      ],
      "text/plain": [
       "<IPython.core.display.Latex object>"
      ]
     },
     "metadata": {},
     "output_type": "display_data"
    }
   ],
   "source": [
    "%%latex\n",
    "If $u(c) = ln(c)$, we have: $V_T = ln(\\bar{W})$"
   ]
  },
  {
   "cell_type": "code",
   "execution_count": 23,
   "metadata": {},
   "outputs": [
    {
     "data": {
      "text/latex": [
       "Solving for the first order condition, we have:\n",
       "\\begin{equation}\n",
       "    \\psi_{T-1}(\\bar{W}) = \\frac{\\beta\\bar{W}}{\\beta+1}\n",
       "\\end{equation}\n"
      ],
      "text/plain": [
       "<IPython.core.display.Latex object>"
      ]
     },
     "metadata": {},
     "output_type": "display_data"
    }
   ],
   "source": [
    "%%latex\n",
    "Solving for the first order condition, we have:\n",
    "\\begin{equation}\n",
    "    \\psi_{T-1}(\\bar{W}) = \\frac{\\beta\\bar{W}}{\\beta+1}\n",
    "\\end{equation}"
   ]
  },
  {
   "cell_type": "code",
   "execution_count": 24,
   "metadata": {},
   "outputs": [
    {
     "data": {
      "text/latex": [
       "Therefore:\n",
       "\\begin{equation}\n",
       "    V_{T-1} = \\beta ln(\\frac{\\beta\\bar{W}}{\\beta+1}) + ln(\\frac{\\bar{W}}{1+\\beta})\n",
       "\\end{equation}\n"
      ],
      "text/plain": [
       "<IPython.core.display.Latex object>"
      ]
     },
     "metadata": {},
     "output_type": "display_data"
    }
   ],
   "source": [
    "%%latex\n",
    "Therefore:\n",
    "\\begin{equation}\n",
    "    V_{T-1} = \\beta ln(\\frac{\\beta\\bar{W}}{\\beta+1}) + ln(\\frac{\\bar{W}}{1+\\beta})\n",
    "\\end{equation}"
   ]
  },
  {
   "cell_type": "code",
   "execution_count": 25,
   "metadata": {},
   "outputs": [
    {
     "data": {
      "text/latex": [
       "We can conclude that $V_{T}(\\bar{W})\\neq V_{T-1}(\\bar{W})$ and $\\psi_{T}(\\bar{W})\\neq \\psi_{T-1}(\\bar{W})$\n"
      ],
      "text/plain": [
       "<IPython.core.display.Latex object>"
      ]
     },
     "metadata": {},
     "output_type": "display_data"
    }
   ],
   "source": [
    "%%latex\n",
    "We can conclude that $V_{T}(\\bar{W})\\neq V_{T-1}(\\bar{W})$ and $\\psi_{T}(\\bar{W})\\neq \\psi_{T-1}(\\bar{W})$"
   ]
  },
  {
   "cell_type": "markdown",
   "metadata": {},
   "source": [
    "### Exercise 6"
   ]
  },
  {
   "cell_type": "code",
   "execution_count": 26,
   "metadata": {},
   "outputs": [
    {
     "data": {
      "text/latex": [
       "The Bellman equation at time period $T-2$ is:\n"
      ],
      "text/plain": [
       "<IPython.core.display.Latex object>"
      ]
     },
     "metadata": {},
     "output_type": "display_data"
    }
   ],
   "source": [
    "%%latex\n",
    "The Bellman equation at time period $T-2$ is:"
   ]
  },
  {
   "cell_type": "code",
   "execution_count": 27,
   "metadata": {},
   "outputs": [
    {
     "data": {
      "text/latex": [
       "$$\n",
       "    V_{T-2}(W_{T-2}) = \\max_{W_{T-1}}ln(W_{T-2}-W_{T-1}) + \\beta V_T(W_{T-1})\n",
       "$$\n"
      ],
      "text/plain": [
       "<IPython.core.display.Latex object>"
      ]
     },
     "metadata": {},
     "output_type": "display_data"
    }
   ],
   "source": [
    "%%latex\n",
    "$$\n",
    "    V_{T-2}(W_{T-2}) = \\max_{W_{T-1}}ln(W_{T-2}-W_{T-1}) + \\beta V_T(W_{T-1})\n",
    "$$"
   ]
  },
  {
   "cell_type": "code",
   "execution_count": 28,
   "metadata": {},
   "outputs": [
    {
     "data": {
      "text/latex": [
       "Using the envelope theorem to obtain FOC, we can get:\n",
       "\\begin{equation}\n",
       "    -\\frac{1}{W_{T-2}-\\psi_{T-2}(W_{T-2})} + \\beta \\frac{1+\\beta}{\\psi_{T-2}(W_{T-2})}= 0\n",
       "\\end{equation}\n"
      ],
      "text/plain": [
       "<IPython.core.display.Latex object>"
      ]
     },
     "metadata": {},
     "output_type": "display_data"
    }
   ],
   "source": [
    "%%latex\n",
    "Using the envelope theorem to obtain FOC, we can get:\n",
    "\\begin{equation}\n",
    "    -\\frac{1}{W_{T-2}-\\psi_{T-2}(W_{T-2})} + \\beta \\frac{1+\\beta}{\\psi_{T-2}(W_{T-2})}= 0\n",
    "\\end{equation}"
   ]
  },
  {
   "cell_type": "code",
   "execution_count": 29,
   "metadata": {},
   "outputs": [
    {
     "data": {
      "text/latex": [
       "The analytical expression of $\\psi_{T-2}(W_{T-2})$ is:\n",
       "$$\n",
       "    \\psi_{T-2}(W_{T-2}) = \\frac{(\\beta^2+\\beta) W_{T-2}}{1+\\beta+\\beta^2}\n",
       "$$\n"
      ],
      "text/plain": [
       "<IPython.core.display.Latex object>"
      ]
     },
     "metadata": {},
     "output_type": "display_data"
    }
   ],
   "source": [
    "%%latex\n",
    "The analytical expression of $\\psi_{T-2}(W_{T-2})$ is:\n",
    "$$\n",
    "    \\psi_{T-2}(W_{T-2}) = \\frac{(\\beta^2+\\beta) W_{T-2}}{1+\\beta+\\beta^2}\n",
    "$$"
   ]
  },
  {
   "cell_type": "code",
   "execution_count": 30,
   "metadata": {},
   "outputs": [
    {
     "data": {
      "text/latex": [
       "Substitute the expression into $V_{T-2}(W_{T-2})$, we have:\n",
       "\\begin{equation}\n",
       "    V_{T-2}(W_{T-2}) = \\ln\\frac{W_{T-2}}{1+\\beta+\\beta^2} + \\beta\\ln\\frac{\\beta W_{T-2}}{1+\\beta+\\beta^2} + \\beta^2\\ln\\frac{\\beta^2 W_{T-2}}{1+\\beta+\\beta^2}\n",
       "\\end{equation}\n"
      ],
      "text/plain": [
       "<IPython.core.display.Latex object>"
      ]
     },
     "metadata": {},
     "output_type": "display_data"
    }
   ],
   "source": [
    "%%latex\n",
    "Substitute the expression into $V_{T-2}(W_{T-2})$, we have:\n",
    "\\begin{equation}\n",
    "    V_{T-2}(W_{T-2}) = \\ln\\frac{W_{T-2}}{1+\\beta+\\beta^2} + \\beta\\ln\\frac{\\beta W_{T-2}}{1+\\beta+\\beta^2} + \\beta^2\\ln\\frac{\\beta^2 W_{T-2}}{1+\\beta+\\beta^2}\n",
    "\\end{equation}"
   ]
  },
  {
   "cell_type": "markdown",
   "metadata": {},
   "source": [
    "### Exercise 7"
   ]
  },
  {
   "cell_type": "code",
   "execution_count": 31,
   "metadata": {},
   "outputs": [
    {
     "data": {
      "text/latex": [
       "The analytical solutions for $\\psi_{T-s}(W_{T-s})$ are:\n",
       "\\begin{equation}\n",
       "    \\psi_{T-s}(W_{T-s}) = \\frac{W_{T-s}\\sum_{i=1}^s \\beta^i}{\\sum_{i=0}^s \\beta^i}\n",
       "\\end{equation}\n"
      ],
      "text/plain": [
       "<IPython.core.display.Latex object>"
      ]
     },
     "metadata": {},
     "output_type": "display_data"
    }
   ],
   "source": [
    "%%latex\n",
    "The analytical solutions for $\\psi_{T-s}(W_{T-s})$ are:\n",
    "\\begin{equation}\n",
    "    \\psi_{T-s}(W_{T-s}) = \\frac{W_{T-s}\\sum_{i=1}^s \\beta^i}{\\sum_{i=0}^s \\beta^i}\n",
    "\\end{equation}"
   ]
  },
  {
   "cell_type": "code",
   "execution_count": 32,
   "metadata": {},
   "outputs": [
    {
     "data": {
      "text/latex": [
       "The analytical solutions for $V_{T-s}(W_{T-s})$ are:\n",
       "\\begin{equation}\n",
       "    V_{T-s}(W_{T-s}) = \\sum_{i=1}^s\\beta^i \\ln(\\frac{\\beta^i W_{T-s}}{\\sum_{j=0}^s \\beta^j})\n",
       "\\end{equation}\n"
      ],
      "text/plain": [
       "<IPython.core.display.Latex object>"
      ]
     },
     "metadata": {},
     "output_type": "display_data"
    }
   ],
   "source": [
    "%%latex\n",
    "The analytical solutions for $V_{T-s}(W_{T-s})$ are:\n",
    "\\begin{equation}\n",
    "    V_{T-s}(W_{T-s}) = \\sum_{i=1}^s\\beta^i \\ln(\\frac{\\beta^i W_{T-s}}{\\sum_{j=0}^s \\beta^j})\n",
    "\\end{equation}"
   ]
  },
  {
   "cell_type": "code",
   "execution_count": 33,
   "metadata": {},
   "outputs": [
    {
     "data": {
      "text/latex": [
       "Take the limit $s\\rightarrow \\infty$:\n",
       "\\begin{align}\n",
       "    &\\lim_{s\\rightarrow\\infty} \\psi_{T-s}(W_{T-s}) = \\beta W_{T-s}\\\\\n",
       "    &\\lim_{s\\rightarrow\\infty} V_{T-s}(W_{T-s}) = \\frac{\\beta\\ln\\beta}{(1-\\beta)^2}+\\frac{1}{1-\\beta}\\ln((1-\\beta)W_{T-s})\n",
       "\\end{align}\n"
      ],
      "text/plain": [
       "<IPython.core.display.Latex object>"
      ]
     },
     "metadata": {},
     "output_type": "display_data"
    }
   ],
   "source": [
    "%%latex\n",
    "Take the limit $s\\rightarrow \\infty$:\n",
    "\\begin{align}\n",
    "    &\\lim_{s\\rightarrow\\infty} \\psi_{T-s}(W_{T-s}) = \\beta W_{T-s}\\\\\n",
    "    &\\lim_{s\\rightarrow\\infty} V_{T-s}(W_{T-s}) = \\frac{\\beta\\ln\\beta}{(1-\\beta)^2}+\\frac{1}{1-\\beta}\\ln((1-\\beta)W_{T-s})\n",
    "\\end{align}"
   ]
  },
  {
   "cell_type": "markdown",
   "metadata": {},
   "source": [
    "### Exercise 8"
   ]
  },
  {
   "cell_type": "code",
   "execution_count": 34,
   "metadata": {},
   "outputs": [
    {
     "data": {
      "text/latex": [
       "When the horizon is infinite, the Bellman equation is:\n",
       "\\begin{equation}\n",
       "    V(W) = \\max_{W' \\in [0,W]} u(W-W') + \\beta V(W')\n",
       "\\end{equation}\n"
      ],
      "text/plain": [
       "<IPython.core.display.Latex object>"
      ]
     },
     "metadata": {},
     "output_type": "display_data"
    }
   ],
   "source": [
    "%%latex\n",
    "When the horizon is infinite, the Bellman equation is:\n",
    "\\begin{equation}\n",
    "    V(W) = \\max_{W' \\in [0,W]} u(W-W') + \\beta V(W')\n",
    "\\end{equation}"
   ]
  },
  {
   "cell_type": "code",
   "execution_count": 35,
   "metadata": {},
   "outputs": [
    {
     "data": {
      "text/latex": [
       "where $W'$ is the amount of cake for the next period\n"
      ],
      "text/plain": [
       "<IPython.core.display.Latex object>"
      ]
     },
     "metadata": {},
     "output_type": "display_data"
    }
   ],
   "source": [
    "%%latex\n",
    "where $W'$ is the amount of cake for the next period"
   ]
  },
  {
   "cell_type": "markdown",
   "metadata": {},
   "source": [
    "### Exercise 9"
   ]
  },
  {
   "cell_type": "code",
   "execution_count": 36,
   "metadata": {},
   "outputs": [
    {
     "data": {
      "text/plain": [
       "array([0.01, 0.02, 0.03, 0.04, 0.05, 0.06, 0.07, 0.08, 0.09, 0.1 , 0.11,\n",
       "       0.12, 0.13, 0.14, 0.15, 0.16, 0.17, 0.18, 0.19, 0.2 , 0.21, 0.22,\n",
       "       0.23, 0.24, 0.25, 0.26, 0.27, 0.28, 0.29, 0.3 , 0.31, 0.32, 0.33,\n",
       "       0.34, 0.35, 0.36, 0.37, 0.38, 0.39, 0.4 , 0.41, 0.42, 0.43, 0.44,\n",
       "       0.45, 0.46, 0.47, 0.48, 0.49, 0.5 , 0.51, 0.52, 0.53, 0.54, 0.55,\n",
       "       0.56, 0.57, 0.58, 0.59, 0.6 , 0.61, 0.62, 0.63, 0.64, 0.65, 0.66,\n",
       "       0.67, 0.68, 0.69, 0.7 , 0.71, 0.72, 0.73, 0.74, 0.75, 0.76, 0.77,\n",
       "       0.78, 0.79, 0.8 , 0.81, 0.82, 0.83, 0.84, 0.85, 0.86, 0.87, 0.88,\n",
       "       0.89, 0.9 , 0.91, 0.92, 0.93, 0.94, 0.95, 0.96, 0.97, 0.98, 0.99,\n",
       "       1.  ])"
      ]
     },
     "execution_count": 36,
     "metadata": {},
     "output_type": "execute_result"
    }
   ],
   "source": [
    "import numpy as np\n",
    "W_min = 0.01\n",
    "W_max = 1\n",
    "N = 100\n",
    "W = np.linspace(W_min, W_max, N)\n",
    "W"
   ]
  },
  {
   "cell_type": "markdown",
   "metadata": {},
   "source": [
    "### Exercise 10"
   ]
  },
  {
   "cell_type": "code",
   "execution_count": 53,
   "metadata": {},
   "outputs": [
    {
     "name": "stdout",
     "output_type": "stream",
     "text": [
      "Value Function\n",
      "[-1.00000000e+05 -4.60517019e+00 -3.91202301e+00 -3.50655790e+00\n",
      " -3.21887582e+00 -2.99573227e+00 -2.81341072e+00 -2.65926004e+00\n",
      " -2.52572864e+00 -2.40794561e+00 -2.30258509e+00 -2.20727491e+00\n",
      " -2.12026354e+00 -2.04022083e+00 -1.96611286e+00 -1.89711998e+00\n",
      " -1.83258146e+00 -1.77195684e+00 -1.71479843e+00 -1.66073121e+00\n",
      " -1.60943791e+00 -1.56064775e+00 -1.51412773e+00 -1.46967597e+00\n",
      " -1.42711636e+00 -1.38629436e+00 -1.34707365e+00 -1.30933332e+00\n",
      " -1.27296568e+00 -1.23787436e+00 -1.20397280e+00 -1.17118298e+00\n",
      " -1.13943428e+00 -1.10866262e+00 -1.07880966e+00 -1.04982212e+00\n",
      " -1.02165125e+00 -9.94252273e-01 -9.67584026e-01 -9.41608540e-01\n",
      " -9.16290732e-01 -8.91598119e-01 -8.67500568e-01 -8.43970070e-01\n",
      " -8.20980552e-01 -7.98507696e-01 -7.76528789e-01 -7.55022584e-01\n",
      " -7.33969175e-01 -7.13349888e-01 -6.93147181e-01 -6.73344553e-01\n",
      " -6.53926467e-01 -6.34878272e-01 -6.16186139e-01 -5.97837001e-01\n",
      " -5.79818495e-01 -5.62118918e-01 -5.44727175e-01 -5.27632742e-01\n",
      " -5.10825624e-01 -4.94296322e-01 -4.78035801e-01 -4.62035460e-01\n",
      " -4.46287103e-01 -4.30782916e-01 -4.15515444e-01 -4.00477567e-01\n",
      " -3.85662481e-01 -3.71063681e-01 -3.56674944e-01 -3.42490309e-01\n",
      " -3.28504067e-01 -3.14710745e-01 -3.01105093e-01 -2.87682072e-01\n",
      " -2.74436846e-01 -2.61364764e-01 -2.48461359e-01 -2.35722334e-01\n",
      " -2.23143551e-01 -2.10721031e-01 -1.98450939e-01 -1.86329578e-01\n",
      " -1.74353387e-01 -1.62518929e-01 -1.50822890e-01 -1.39262067e-01\n",
      " -1.27833372e-01 -1.16533816e-01 -1.05360516e-01 -9.43106795e-02\n",
      " -8.33816089e-02 -7.25706928e-02 -6.18754037e-02 -5.12932944e-02\n",
      " -4.08219945e-02 -3.04592075e-02 -2.02027073e-02 -1.00503359e-02]\n",
      "Policy Function\n",
      "[0.01 0.01 0.01 0.01 0.01 0.01 0.01 0.01 0.01 0.01 0.01 0.01 0.01 0.01\n",
      " 0.01 0.01 0.01 0.01 0.01 0.01 0.01 0.01 0.01 0.01 0.01 0.01 0.01 0.01\n",
      " 0.01 0.01 0.01 0.01 0.01 0.01 0.01 0.01 0.01 0.01 0.01 0.01 0.01 0.01\n",
      " 0.01 0.01 0.01 0.01 0.01 0.01 0.01 0.01 0.01 0.01 0.01 0.01 0.01 0.01\n",
      " 0.01 0.01 0.01 0.01 0.01 0.01 0.01 0.01 0.01 0.01 0.01 0.01 0.01 0.01\n",
      " 0.01 0.01 0.01 0.01 0.01 0.01 0.01 0.01 0.01 0.01 0.01 0.01 0.01 0.01\n",
      " 0.01 0.01 0.01 0.01 0.01 0.01 0.01 0.01 0.01 0.01 0.01 0.01 0.01 0.01\n",
      " 0.01 0.01]\n"
     ]
    }
   ],
   "source": [
    "# Create utility matrix\n",
    "from math import inf\n",
    "def u(c):\n",
    "    c_leq0 = c <= 0\n",
    "    util = np.zeros_like(c)\n",
    "    util[c_leq0] = -1e5\n",
    "    util[~c_leq0] = np.log(c[~c_leq0])\n",
    "    \n",
    "    return util\n",
    "\n",
    "beta = 0.9\n",
    "\n",
    "# V_T+1(W) is a column vector of zeros \n",
    "VW_prime = np.tile(np.zeros(N),(N,1))\n",
    "\n",
    "V_init = u(W)\n",
    "c_mat = (np.tile(W.reshape((N,1)),(1,N))) - (np.tile(W.reshape((1,N)),(N,1)))\n",
    "c_leq0 = c_mat <= 0\n",
    "# c_mat[c_leq0] = 1e-5\n",
    "u_mat = u(c_mat)\n",
    "# VW_prime[c_leq0] = -9e4\n",
    "# Construct period T value function for W and W'\n",
    "VW = u_mat + beta*VW_prime\n",
    "# Maximization\n",
    "V_max = VW.max(axis = 1)\n",
    "id = np.argmax(u_mat+beta*VW_prime,axis=1)\n",
    "# Value function\n",
    "print('Value Function')\n",
    "print(V_max)\n",
    "# Policy function\n",
    "print('Policy Function')\n",
    "print(W[id])"
   ]
  },
  {
   "cell_type": "code",
   "execution_count": 54,
   "metadata": {},
   "outputs": [
    {
     "data": {
      "image/png": "[encoded data removed]",
      "text/plain": [
       "<Figure size 432x288 with 1 Axes>"
      ]
     },
     "metadata": {
      "needs_background": "light"
     },
     "output_type": "display_data"
    }
   ],
   "source": [
    "plt.plot(V_max[1:])\n",
    "plt.title(\"Value function\")\n",
    "plt.show()"
   ]
  },
  {
   "cell_type": "code",
   "execution_count": 55,
   "metadata": {},
   "outputs": [
    {
     "data": {
      "image/png": "[encoded data removed]",
      "text/plain": [
       "<Figure size 432x288 with 1 Axes>"
      ]
     },
     "metadata": {
      "needs_background": "light"
     },
     "output_type": "display_data"
    }
   ],
   "source": [
    "plt.plot(W,W[id])\n",
    "plt.title(\"Policy function\")\n",
    "plt.show()"
   ]
  },
  {
   "cell_type": "markdown",
   "metadata": {},
   "source": [
    "### Exercise 11"
   ]
  },
  {
   "cell_type": "code",
   "execution_count": 56,
   "metadata": {},
   "outputs": [
    {
     "data": {
      "text/plain": [
       "9999078988.137583"
      ]
     },
     "execution_count": 56,
     "metadata": {},
     "output_type": "execute_result"
    }
   ],
   "source": [
    "def L2(v1,v2):\n",
    "    return np.sum((v1-v2)**2)\n",
    "L2(V_max, V_init)"
   ]
  },
  {
   "cell_type": "markdown",
   "metadata": {},
   "source": [
    "### Exercise 12"
   ]
  },
  {
   "cell_type": "code",
   "execution_count": 57,
   "metadata": {},
   "outputs": [
    {
     "data": {
      "text/plain": [
       "array([1.  , 0.01, 0.02, 0.02, 0.03, 0.03, 0.04, 0.04, 0.05, 0.05, 0.06,\n",
       "       0.06, 0.07, 0.07, 0.08, 0.08, 0.09, 0.09, 0.1 , 0.1 , 0.1 , 0.11,\n",
       "       0.11, 0.12, 0.12, 0.13, 0.13, 0.14, 0.14, 0.15, 0.15, 0.16, 0.16,\n",
       "       0.17, 0.17, 0.18, 0.18, 0.19, 0.19, 0.19, 0.2 , 0.2 , 0.21, 0.21,\n",
       "       0.22, 0.22, 0.23, 0.23, 0.24, 0.24, 0.25, 0.25, 0.26, 0.26, 0.27,\n",
       "       0.27, 0.28, 0.28, 0.28, 0.29, 0.29, 0.3 , 0.3 , 0.31, 0.31, 0.32,\n",
       "       0.32, 0.33, 0.33, 0.34, 0.34, 0.35, 0.35, 0.36, 0.36, 0.37, 0.37,\n",
       "       0.37, 0.38, 0.38, 0.39, 0.39, 0.4 , 0.4 , 0.41, 0.41, 0.42, 0.42,\n",
       "       0.43, 0.43, 0.44, 0.44, 0.45, 0.45, 0.46, 0.46, 0.46, 0.47, 0.47,\n",
       "       0.48])"
      ]
     },
     "execution_count": 57,
     "metadata": {},
     "output_type": "execute_result"
    }
   ],
   "source": [
    "V_prime = V_max\n",
    "VW = u_mat + beta*V_prime\n",
    "V_Tm1 = VW.max(axis = 1)\n",
    "id = np.argmax(VW, axis = 1)\n",
    "W[id]"
   ]
  },
  {
   "cell_type": "code",
   "execution_count": 58,
   "metadata": {},
   "outputs": [
    {
     "data": {
      "image/png": "[encoded data removed]",
      "text/plain": [
       "<Figure size 432x288 with 1 Axes>"
      ]
     },
     "metadata": {
      "needs_background": "light"
     },
     "output_type": "display_data"
    }
   ],
   "source": [
    "plt.plot(W[1:],W[id[1:]])\n",
    "plt.title(\"Policy function\")\n",
    "plt.show()"
   ]
  },
  {
   "cell_type": "code",
   "execution_count": 60,
   "metadata": {},
   "outputs": [
    {
     "data": {
      "image/png": "[encoded data removed]",
      "text/plain": [
       "<Figure size 432x288 with 1 Axes>"
      ]
     },
     "metadata": {
      "needs_background": "light"
     },
     "output_type": "display_data"
    }
   ],
   "source": [
    "plt.plot(V_Tm1[2:])\n",
    "plt.title(\"Value function\")\n",
    "plt.show()"
   ]
  },
  {
   "cell_type": "code",
   "execution_count": 61,
   "metadata": {},
   "outputs": [
    {
     "name": "stdout",
     "output_type": "stream",
     "text": [
      "Distance at T: 9999078988.137583\n",
      "Distance at T-1: 8100000516.328223\n",
      "Distance of two value functions goes down as T goes down.\n"
     ]
    }
   ],
   "source": [
    "# Distance between the two value functions\n",
    "dist1= L2(V_Tm1,V_max)\n",
    "dist = L2(V_max, V_init)\n",
    "print(\"Distance at T:\",dist)\n",
    "print(\"Distance at T-1:\",dist1)\n",
    "print(\"Distance of two value functions goes down as T goes down.\")"
   ]
  },
  {
   "cell_type": "markdown",
   "metadata": {},
   "source": [
    "### Exercise 13"
   ]
  },
  {
   "cell_type": "code",
   "execution_count": 62,
   "metadata": {},
   "outputs": [],
   "source": [
    "V_prime = V_Tm1\n",
    "VW = u_mat + beta*V_prime\n",
    "V_Tm2 = VW.max(axis = 1)\n",
    "id = np.argmax(VW, axis = 1)"
   ]
  },
  {
   "cell_type": "code",
   "execution_count": 63,
   "metadata": {},
   "outputs": [
    {
     "data": {
      "image/png": "[encoded data removed]",
      "text/plain": [
       "<Figure size 432x288 with 1 Axes>"
      ]
     },
     "metadata": {
      "needs_background": "light"
     },
     "output_type": "display_data"
    }
   ],
   "source": [
    "plt.plot(W[1:],W[id[1:]])\n",
    "plt.title(\"Policy function\")\n",
    "plt.show()"
   ]
  },
  {
   "cell_type": "code",
   "execution_count": 66,
   "metadata": {},
   "outputs": [
    {
     "data": {
      "image/png": "[encoded data removed]",
      "text/plain": [
       "<Figure size 432x288 with 1 Axes>"
      ]
     },
     "metadata": {
      "needs_background": "light"
     },
     "output_type": "display_data"
    }
   ],
   "source": [
    "plt.plot(V_Tm2[3:])\n",
    "plt.title(\"Value function\")\n",
    "plt.show()"
   ]
  },
  {
   "cell_type": "code",
   "execution_count": 67,
   "metadata": {},
   "outputs": [
    {
     "name": "stdout",
     "output_type": "stream",
     "text": [
      "Distance at T: 9999078988.137583\n",
      "Distance at T-1: 8100000516.328223\n",
      "Distance at T-2: 6561000597.600642\n",
      "Distance goes down from T-1 to T-2.\n"
     ]
    }
   ],
   "source": [
    "dist2 = L2(V_Tm1, V_Tm2)\n",
    "print(\"Distance at T:\",dist)\n",
    "print(\"Distance at T-1:\",dist1)\n",
    "print(\"Distance at T-2:\",dist2)\n",
    "print(\"Distance goes down from T-1 to T-2.\")"
   ]
  },
  {
   "cell_type": "markdown",
   "metadata": {},
   "source": [
    "### Exercise 14"
   ]
  },
  {
   "cell_type": "code",
   "execution_count": 68,
   "metadata": {},
   "outputs": [
    {
     "name": "stdout",
     "output_type": "stream",
     "text": [
      "Iter= 1 ,distance= 9999079505.22618\n",
      "Iter= 2 ,distance= 8099254579.921344\n",
      "Iter= 3 ,distance= 6560396323.159075\n",
      "Iter= 4 ,distance= 5313921099.033839\n",
      "Iter= 5 ,distance= 4304276145.447445\n",
      "Iter= 6 ,distance= 3486463718.427287\n",
      "Iter= 7 ,distance= 2824035642.4749246\n",
      "Iter= 8 ,distance= 2287468893.853212\n",
      "Iter= 9 ,distance= 1852849822.2411861\n",
      "Iter= 10 ,distance= 1500808370.3937166\n",
      "Iter= 11 ,distance= 1215654791.4801192\n",
      "Iter= 12 ,distance= 984680390.3967055\n",
      "Iter= 13 ,distance= 797591123.7829449\n",
      "Iter= 14 ,distance= 646048816.5555314\n",
      "Iter= 15 ,distance= 523299546.6787375\n",
      "Iter= 16 ,distance= 423872637.2475898\n",
      "Iter= 17 ,distance= 343336840.03582424\n",
      "Iter= 18 ,distance= 278102843.8023206\n",
      "Iter= 19 ,distance= 225263306.4211071\n",
      "Iter= 20 ,distance= 182463280.78289768\n",
      "Iter= 21 ,distance= 147795259.80907753\n",
      "Iter= 22 ,distance= 119714162.65446839\n",
      "Iter= 23 ,distance= 96968473.81057897\n",
      "Iter= 24 ,distance= 78544465.71363583\n",
      "Iter= 25 ,distance= 63621019.03548753\n",
      "Iter= 26 ,distance= 51533027.11886448\n",
      "Iter= 27 ,distance= 41741753.5701591\n",
      "Iter= 28 ,distance= 33810821.90942098\n",
      "Iter= 29 ,distance= 27386767.18680003\n",
      "Iter= 30 ,distance= 22183282.79197428\n",
      "Iter= 31 ,distance= 17968460.36978034\n",
      "Iter= 32 ,distance= 14554454.15161366\n",
      "Iter= 33 ,distance= 11789109.064398672\n",
      "Iter= 34 ,distance= 9549179.498274054\n",
      "Iter= 35 ,distance= 7734836.508782099\n",
      "Iter= 36 ,distance= 6265218.650409827\n",
      "Iter= 37 ,distance= 5074828.151902679\n",
      "Iter= 38 ,distance= 4110611.818151854\n",
      "Iter= 39 ,distance= 3329596.5607606466\n",
      "Iter= 40 ,distance= 2696974.177841277\n",
      "Iter= 41 ,distance= 2184550.0254345373\n",
      "Iter= 42 ,distance= 1769486.4418183998\n",
      "Iter= 43 ,distance= 1433284.9207098326\n",
      "Iter= 44 ,distance= 1160961.6718778587\n",
      "Iter= 45 ,distance= 940379.8249982023\n",
      "Iter= 46 ,distance= 761708.5150216424\n",
      "Iter= 47 ,distance= 616984.7411020856\n",
      "Iter= 48 ,distance= 499758.4724499243\n",
      "Iter= 49 ,distance= 404805.1838491356\n",
      "Iter= 50 ,distance= 327893.0099098817\n",
      "Iter= 51 ,distance= 265594.1395027601\n",
      "Iter= 52 ,distance= 215132.04559201887\n",
      "Iter= 53 ,distance= 174257.7410916235\n",
      "Iter= 54 ,distance= 141149.54651127337\n",
      "Iter= 55 ,distance= 114331.90143233805\n",
      "Iter= 56 ,distance= 92609.60167536224\n",
      "Iter= 57 ,distance= 75014.5319661187\n",
      "Iter= 58 ,distance= 60762.51880596963\n",
      "Iter= 59 ,distance= 49218.381694714546\n",
      "Iter= 60 ,distance= 39867.624258590185\n",
      "Iter= 61 ,distance= 32293.50454070549\n",
      "Iter= 62 ,distance= 26158.461297417314\n",
      "Iter= 63 ,distance= 21189.07012681954\n",
      "Iter= 64 ,distance= 17163.857139831056\n",
      "Iter= 65 ,distance= 13903.428553189531\n",
      "Iter= 66 ,distance= 11262.475221335737\n",
      "Iter= 67 ,distance= 9123.296885913738\n",
      "Iter= 68 ,distance= 7390.556041540314\n",
      "Iter= 69 ,distance= 5987.029359674194\n",
      "Iter= 70 ,distance= 4850.166130749905\n",
      "Iter= 71 ,distance= 3929.300069280452\n",
      "Iter= 72 ,distance= 3183.391677322424\n",
      "Iter= 73 ,distance= 2579.1986070226662\n",
      "Iter= 74 ,distance= 2089.7946266718955\n",
      "Iter= 75 ,distance= 1693.3697249656188\n",
      "Iter= 76 ,distance= 1372.2575401008687\n",
      "Iter= 77 ,distance= 1112.1480011765043\n",
      "Iter= 78 ,distance= 901.4501756865085\n",
      "Iter= 79 ,distance= 730.7757031519387\n",
      "Iter= 80 ,distance= 592.5197035807399\n",
      "Iter= 81 ,distance= 480.52183520302015\n",
      "Iter= 82 ,distance= 389.792500902461\n",
      "Iter= 83 ,distance= 316.2904929152914\n",
      "Iter= 84 ,distance= 256.74099674891323\n",
      "Iter= 85 ,distance= 208.492341689279\n",
      "Iter= 86 ,distance= 169.39712719516203\n",
      "Iter= 87 ,distance= 137.71418778760227\n",
      "Iter= 88 ,distance= 112.03432668950789\n",
      "Iter= 89 ,distance= 91.21665414845718\n",
      "Iter= 90 ,distance= 74.33378282255565\n",
      "Iter= 91 ,distance= 60.63771968547275\n",
      "Iter= 92 ,distance= 49.51855864577508\n",
      "Iter= 93 ,distance= 40.39019876593162\n",
      "Iter= 94 ,distance= 32.29692595633502\n",
      "Iter= 95 ,distance= 25.727243181745866\n",
      "Iter= 96 ,distance= 19.97975165546995\n",
      "Iter= 97 ,distance= 15.37589939922664\n",
      "Iter= 98 ,distance= 11.412701422948965\n",
      "Iter= 99 ,distance= 8.286820271470278\n",
      "Iter= 100 ,distance= 5.647717525184643\n",
      "Iter= 101 ,distance= 4.574651198488803\n",
      "Iter= 102 ,distance= 3.7054674732209714\n",
      "Iter= 103 ,distance= 3.0014286551986142\n",
      "Iter= 104 ,distance= 2.4311572121977973\n",
      "Iter= 105 ,distance= 1.9692373431158854\n",
      "Iter= 106 ,distance= 1.5950822488879577\n",
      "Iter= 107 ,distance= 1.292016622400456\n",
      "Iter= 108 ,distance= 1.0465334648128466\n",
      "Iter= 109 ,distance= 0.8476921070075363\n",
      "Iter= 110 ,distance= 0.6866306071035256\n",
      "Iter= 111 ,distance= 0.5561707921228263\n",
      "Iter= 112 ,distance= 0.4504983419153933\n",
      "Iter= 113 ,distance= 0.3649036571866585\n",
      "Iter= 114 ,distance= 0.29557196250556206\n",
      "Iter= 115 ,distance= 0.239413289775813\n",
      "Iter= 116 ,distance= 0.1939247648424593\n",
      "Iter= 117 ,distance= 0.15707905963213564\n",
      "Iter= 118 ,distance= 0.12723403840236336\n",
      "Iter= 119 ,distance= 0.10305957119709501\n",
      "Iter= 120 ,distance= 0.08347825275374983\n",
      "Iter= 121 ,distance= 0.06761738480875207\n",
      "Iter= 122 ,distance= 0.05477008176798392\n",
      "Iter= 123 ,distance= 0.044363766305782516\n",
      "Iter= 124 ,distance= 0.03593465077733503\n",
      "Iter= 125 ,distance= 0.029107067197510394\n",
      "Iter= 126 ,distance= 0.023576724494865784\n",
      "Iter= 127 ,distance= 0.019097146901295055\n",
      "Iter= 128 ,distance= 0.015468689047429329\n",
      "Iter= 129 ,distance= 0.012529638182174039\n",
      "Iter= 130 ,distance= 0.010149006979117883\n",
      "Iter= 131 ,distance= 0.008220695701957695\n",
      "Iter= 132 ,distance= 0.006658763569172286\n",
      "Iter= 133 ,distance= 0.005393598540219982\n",
      "Iter= 134 ,distance= 0.004368814866929901\n",
      "Iter= 135 ,distance= 0.0035387400908049897\n",
      "Iter= 136 ,distance= 0.0028663795212118064\n",
      "Iter= 137 ,distance= 0.0023217674587609816\n",
      "Iter= 138 ,distance= 0.0018806316868212548\n",
      "Iter= 139 ,distance= 0.00152331171040936\n",
      "Iter= 140 ,distance= 0.0012338825314738898\n",
      "Iter= 141 ,distance= 0.0009994448962493796\n",
      "Iter= 142 ,distance= 0.0008095504129661129\n",
      "Iter= 143 ,distance= 0.0006557358817150032\n",
      "Iter= 144 ,distance= 0.0005311461125542047\n",
      "Iter= 145 ,distance= 0.00043022839959299254\n",
      "Iter= 146 ,distance= 0.00034848505095642267\n",
      "Iter= 147 ,distance= 0.00028227294201503566\n",
      "Iter= 148 ,distance= 0.00022864113288082355\n",
      "Iter= 149 ,distance= 0.00018519936946248227\n",
      "Iter= 150 ,distance= 0.00015001154187242076\n",
      "Iter= 151 ,distance= 0.00012150940342335437\n",
      "Iter= 152 ,distance= 9.842267183355289e-05\n",
      "Iter= 153 ,distance= 7.972242383008823e-05\n",
      "Iter= 154 ,distance= 6.457522348256704e-05\n",
      "Iter= 155 ,distance= 5.2305992644293465e-05\n",
      "Iter= 156 ,distance= 4.236791658061643e-05\n",
      "Iter= 157 ,distance= 3.431807719228554e-05\n",
      "Iter= 158 ,distance= 2.7797708202737446e-05\n",
      "Iter= 159 ,distance= 2.2516215083800243e-05\n",
      "Iter= 160 ,distance= 1.8238210907134368e-05\n",
      "Iter= 161 ,distance= 1.4773027350236394e-05\n",
      "Iter= 162 ,distance= 1.196623401335044e-05\n",
      "Iter= 163 ,distance= 9.69273021799378e-06\n",
      "Iter= 164 ,distance= 7.85119850895446e-06\n",
      "Iter= 165 ,distance= 6.359564364384981e-06\n",
      "Iter= 166 ,distance= 5.15134061766427e-06\n",
      "Iter= 167 ,distance= 4.1726860329040866e-06\n",
      "Iter= 168 ,distance= 3.37998575775143e-06\n",
      "Iter= 169 ,distance= 2.7379045334186133e-06\n",
      "Iter= 170 ,distance= 2.2178208426833305e-06\n",
      "Iter= 171 ,distance= 1.7965591372684336e-06\n",
      "Iter= 172 ,distance= 1.4553482843512827e-06\n",
      "Iter= 173 ,distance= 1.1789749372851317e-06\n",
      "Iter= 174 ,distance= 9.551151630780454e-07\n",
      "Iter= 175 ,distance= 7.738175334878663e-07\n",
      "Iter= 176 ,distance= 6.269732216455271e-07\n",
      "Iter= 177 ,distance= 5.080294246400885e-07\n",
      "Iter= 178 ,distance= 4.1172372568835683e-07\n",
      "Iter= 179 ,distance= 3.337194571392073e-07\n",
      "Iter= 180 ,distance= 2.705361455875337e-07\n",
      "Iter= 181 ,distance= 2.194272158886038e-07\n",
      "Iter= 182 ,distance= 1.7801925948667058e-07\n",
      "Iter= 183 ,distance= 1.445598243776379e-07\n",
      "Iter= 184 ,distance= 1.1746455269281577e-07\n",
      "Iter= 185 ,distance= 9.559580908558825e-08\n",
      "Iter= 186 ,distance= 7.789062212644013e-08\n",
      "Iter= 187 ,distance= 6.366092510736138e-08\n",
      "Iter= 188 ,distance= 5.231546758841882e-08\n",
      "Iter= 189 ,distance= 4.330663182011821e-08\n",
      "Iter= 190 ,distance= 3.6285911058597865e-08\n",
      "Iter= 191 ,distance= 3.0882280932435224e-08\n",
      "Iter= 192 ,distance= 4.1608920621994696e-08\n",
      "Iter= 193 ,distance= 3.318628328909576e-08\n",
      "Iter= 194 ,distance= 2.6242760886368884e-08\n",
      "Iter= 195 ,distance= 2.0468896478222424e-08\n",
      "Iter= 196 ,distance= 9.2562438549089e-09\n",
      "Iter= 197 ,distance= 7.497556806821321e-09\n",
      "Iter= 198 ,distance= 6.073020310748464e-09\n",
      "Iter= 199 ,distance= 4.919146271976435e-09\n",
      "Iter= 200 ,distance= 3.984508039226232e-09\n",
      "Iter= 201 ,distance= 3.227450504007791e-09\n",
      "Iter= 202 ,distance= 2.6142347905108324e-09\n",
      "Iter= 203 ,distance= 2.117530306849753e-09\n",
      "Iter= 204 ,distance= 1.7151995867171274e-09\n",
      "Iter= 205 ,distance= 1.3893119645304408e-09\n",
      "Iter= 206 ,distance= 1.125342207405153e-09\n",
      "Iter= 207 ,distance= 9.115275467639488e-10\n",
      "The convergence takes 207 iterations\n"
     ]
    }
   ],
   "source": [
    "max_iter = 1000\n",
    "tol = 1e-9\n",
    "\n",
    "V_init = u(W)\n",
    "\n",
    "i = 0\n",
    "while dist > tol and i < max_iter:\n",
    "    i += 1\n",
    "    VW = u_mat + beta*V_init\n",
    "    V_new = VW.max(axis = 1)\n",
    "    id = np.argmax(VW, axis = 1)\n",
    "    dist = L2(V_new, V_init)\n",
    "    print(\"Iter=\",i,\",distance=\",dist)\n",
    "    V_init = V_new\n",
    "print(\"The convergence takes\",i,\"iterations\")"
   ]
  },
  {
   "cell_type": "code",
   "execution_count": 69,
   "metadata": {},
   "outputs": [
    {
     "data": {
      "image/png": "[encoded data removed]",
      "text/plain": [
       "<Figure size 432x288 with 1 Axes>"
      ]
     },
     "metadata": {
      "needs_background": "light"
     },
     "output_type": "display_data"
    }
   ],
   "source": [
    "plt.plot(V_new)\n",
    "plt.title(\"Value function\")\n",
    "plt.show()"
   ]
  },
  {
   "cell_type": "markdown",
   "metadata": {},
   "source": [
    "### Exercise 15"
   ]
  },
  {
   "cell_type": "code",
   "execution_count": 72,
   "metadata": {},
   "outputs": [
    {
     "data": {
      "image/png": "[encoded data removed]",
      "text/plain": [
       "<Figure size 432x288 with 1 Axes>"
      ]
     },
     "metadata": {
      "needs_background": "light"
     },
     "output_type": "display_data"
    }
   ],
   "source": [
    "plt.plot(W[1:],W[id[1:]])\n",
    "plt.title(\"Converged Policy function\")\n",
    "plt.xlabel(\"W\")\n",
    "plt.ylabel(\"W prime\")\n",
    "plt.show()"
   ]
  },
  {
   "cell_type": "markdown",
   "metadata": {},
   "source": [
    "### Exercise 16"
   ]
  },
  {
   "cell_type": "code",
   "execution_count": 21,
   "metadata": {},
   "outputs": [
    {
     "data": {
      "text/plain": [
       "array([0.5, 1. , 1.5, 2. , 2.5, 3. , 3.5])"
      ]
     },
     "execution_count": 21,
     "metadata": {},
     "output_type": "execute_result"
    }
   ],
   "source": [
    "sigma=0.5\n",
    "mu=4*sigma\n",
    "M=7\n",
    "epsilon = np.linspace(mu-3*sigma,mu+3*sigma,M)\n",
    "epsilon"
   ]
  },
  {
   "cell_type": "code",
   "execution_count": 22,
   "metadata": {},
   "outputs": [
    {
     "name": "stdout",
     "output_type": "stream",
     "text": [
      "epsilon:\n",
      " [0.5 1.  1.5 2.  2.5 3.  3.5]\n",
      "gamma:\n",
      " [0.0088637  0.10798193 0.48394145 0.79788456 0.48394145 0.10798193\n",
      " 0.0088637 ]\n"
     ]
    }
   ],
   "source": [
    "import scipy.stats\n",
    "\n",
    "gamma=np.array([0.0]*M)\n",
    "for i in range(M):\n",
    "    gamma[i]=scipy.stats.norm.pdf(epsilon[i],mu,sigma)\n",
    "\n",
    "print('epsilon:\\n',epsilon)\n",
    "print('gamma:\\n',gamma)"
   ]
  },
  {
   "cell_type": "code",
   "execution_count": 23,
   "metadata": {},
   "outputs": [
    {
     "data": {
      "image/png": "[encoded data removed]",
      "text/plain": [
       "<Figure size 432x288 with 1 Axes>"
      ]
     },
     "metadata": {
      "needs_background": "light"
     },
     "output_type": "display_data"
    }
   ],
   "source": [
    "#Probability Distribution over epsilon\n",
    "plt.plot(epsilon,gamma)\n",
    "plt.show()"
   ]
  },
  {
   "cell_type": "markdown",
   "metadata": {},
   "source": [
    "### Exercise 17"
   ]
  },
  {
   "cell_type": "code",
   "execution_count": 24,
   "metadata": {},
   "outputs": [
    {
     "name": "stdout",
     "output_type": "stream",
     "text": [
      "The policy function corresponding to different epsilon is:\n",
      "[[0.01 0.01 0.01 0.01 0.01 0.01 0.01]\n",
      " [0.01 0.01 0.01 0.01 0.01 0.01 0.01]\n",
      " [0.01 0.01 0.01 0.01 0.01 0.01 0.01]\n",
      " [0.01 0.01 0.01 0.01 0.01 0.01 0.01]\n",
      " [0.01 0.01 0.01 0.01 0.01 0.01 0.01]\n",
      " [0.01 0.01 0.01 0.01 0.01 0.01 0.01]\n",
      " [0.01 0.01 0.01 0.01 0.01 0.01 0.01]\n",
      " [0.01 0.01 0.01 0.01 0.01 0.01 0.01]\n",
      " [0.01 0.01 0.01 0.01 0.01 0.01 0.01]\n",
      " [0.01 0.01 0.01 0.01 0.01 0.01 0.01]\n",
      " [0.01 0.01 0.01 0.01 0.01 0.01 0.01]\n",
      " [0.01 0.01 0.01 0.01 0.01 0.01 0.01]\n",
      " [0.01 0.01 0.01 0.01 0.01 0.01 0.01]\n",
      " [0.01 0.01 0.01 0.01 0.01 0.01 0.01]\n",
      " [0.01 0.01 0.01 0.01 0.01 0.01 0.01]\n",
      " [0.01 0.01 0.01 0.01 0.01 0.01 0.01]\n",
      " [0.01 0.01 0.01 0.01 0.01 0.01 0.01]\n",
      " [0.01 0.01 0.01 0.01 0.01 0.01 0.01]\n",
      " [0.01 0.01 0.01 0.01 0.01 0.01 0.01]\n",
      " [0.01 0.01 0.01 0.01 0.01 0.01 0.01]\n",
      " [0.01 0.01 0.01 0.01 0.01 0.01 0.01]\n",
      " [0.01 0.01 0.01 0.01 0.01 0.01 0.01]\n",
      " [0.01 0.01 0.01 0.01 0.01 0.01 0.01]\n",
      " [0.01 0.01 0.01 0.01 0.01 0.01 0.01]\n",
      " [0.01 0.01 0.01 0.01 0.01 0.01 0.01]\n",
      " [0.01 0.01 0.01 0.01 0.01 0.01 0.01]\n",
      " [0.01 0.01 0.01 0.01 0.01 0.01 0.01]\n",
      " [0.01 0.01 0.01 0.01 0.01 0.01 0.01]\n",
      " [0.01 0.01 0.01 0.01 0.01 0.01 0.01]\n",
      " [0.01 0.01 0.01 0.01 0.01 0.01 0.01]\n",
      " [0.01 0.01 0.01 0.01 0.01 0.01 0.01]\n",
      " [0.01 0.01 0.01 0.01 0.01 0.01 0.01]\n",
      " [0.01 0.01 0.01 0.01 0.01 0.01 0.01]\n",
      " [0.01 0.01 0.01 0.01 0.01 0.01 0.01]\n",
      " [0.01 0.01 0.01 0.01 0.01 0.01 0.01]\n",
      " [0.01 0.01 0.01 0.01 0.01 0.01 0.01]\n",
      " [0.01 0.01 0.01 0.01 0.01 0.01 0.01]\n",
      " [0.01 0.01 0.01 0.01 0.01 0.01 0.01]\n",
      " [0.01 0.01 0.01 0.01 0.01 0.01 0.01]\n",
      " [0.01 0.01 0.01 0.01 0.01 0.01 0.01]\n",
      " [0.01 0.01 0.01 0.01 0.01 0.01 0.01]\n",
      " [0.01 0.01 0.01 0.01 0.01 0.01 0.01]\n",
      " [0.01 0.01 0.01 0.01 0.01 0.01 0.01]\n",
      " [0.01 0.01 0.01 0.01 0.01 0.01 0.01]\n",
      " [0.01 0.01 0.01 0.01 0.01 0.01 0.01]\n",
      " [0.01 0.01 0.01 0.01 0.01 0.01 0.01]\n",
      " [0.01 0.01 0.01 0.01 0.01 0.01 0.01]\n",
      " [0.01 0.01 0.01 0.01 0.01 0.01 0.01]\n",
      " [0.01 0.01 0.01 0.01 0.01 0.01 0.01]\n",
      " [0.01 0.01 0.01 0.01 0.01 0.01 0.01]\n",
      " [0.01 0.01 0.01 0.01 0.01 0.01 0.01]\n",
      " [0.01 0.01 0.01 0.01 0.01 0.01 0.01]\n",
      " [0.01 0.01 0.01 0.01 0.01 0.01 0.01]\n",
      " [0.01 0.01 0.01 0.01 0.01 0.01 0.01]\n",
      " [0.01 0.01 0.01 0.01 0.01 0.01 0.01]\n",
      " [0.01 0.01 0.01 0.01 0.01 0.01 0.01]\n",
      " [0.01 0.01 0.01 0.01 0.01 0.01 0.01]\n",
      " [0.01 0.01 0.01 0.01 0.01 0.01 0.01]\n",
      " [0.01 0.01 0.01 0.01 0.01 0.01 0.01]\n",
      " [0.01 0.01 0.01 0.01 0.01 0.01 0.01]\n",
      " [0.01 0.01 0.01 0.01 0.01 0.01 0.01]\n",
      " [0.01 0.01 0.01 0.01 0.01 0.01 0.01]\n",
      " [0.01 0.01 0.01 0.01 0.01 0.01 0.01]\n",
      " [0.01 0.01 0.01 0.01 0.01 0.01 0.01]\n",
      " [0.01 0.01 0.01 0.01 0.01 0.01 0.01]\n",
      " [0.01 0.01 0.01 0.01 0.01 0.01 0.01]\n",
      " [0.01 0.01 0.01 0.01 0.01 0.01 0.01]\n",
      " [0.01 0.01 0.01 0.01 0.01 0.01 0.01]\n",
      " [0.01 0.01 0.01 0.01 0.01 0.01 0.01]\n",
      " [0.01 0.01 0.01 0.01 0.01 0.01 0.01]\n",
      " [0.01 0.01 0.01 0.01 0.01 0.01 0.01]\n",
      " [0.01 0.01 0.01 0.01 0.01 0.01 0.01]\n",
      " [0.01 0.01 0.01 0.01 0.01 0.01 0.01]\n",
      " [0.01 0.01 0.01 0.01 0.01 0.01 0.01]\n",
      " [0.01 0.01 0.01 0.01 0.01 0.01 0.01]\n",
      " [0.01 0.01 0.01 0.01 0.01 0.01 0.01]\n",
      " [0.01 0.01 0.01 0.01 0.01 0.01 0.01]\n",
      " [0.01 0.01 0.01 0.01 0.01 0.01 0.01]\n",
      " [0.01 0.01 0.01 0.01 0.01 0.01 0.01]\n",
      " [0.01 0.01 0.01 0.01 0.01 0.01 0.01]\n",
      " [0.01 0.01 0.01 0.01 0.01 0.01 0.01]\n",
      " [0.01 0.01 0.01 0.01 0.01 0.01 0.01]\n",
      " [0.01 0.01 0.01 0.01 0.01 0.01 0.01]\n",
      " [0.01 0.01 0.01 0.01 0.01 0.01 0.01]\n",
      " [0.01 0.01 0.01 0.01 0.01 0.01 0.01]\n",
      " [0.01 0.01 0.01 0.01 0.01 0.01 0.01]\n",
      " [0.01 0.01 0.01 0.01 0.01 0.01 0.01]\n",
      " [0.01 0.01 0.01 0.01 0.01 0.01 0.01]\n",
      " [0.01 0.01 0.01 0.01 0.01 0.01 0.01]\n",
      " [0.01 0.01 0.01 0.01 0.01 0.01 0.01]\n",
      " [0.01 0.01 0.01 0.01 0.01 0.01 0.01]\n",
      " [0.01 0.01 0.01 0.01 0.01 0.01 0.01]\n",
      " [0.01 0.01 0.01 0.01 0.01 0.01 0.01]\n",
      " [0.01 0.01 0.01 0.01 0.01 0.01 0.01]\n",
      " [0.01 0.01 0.01 0.01 0.01 0.01 0.01]\n",
      " [0.01 0.01 0.01 0.01 0.01 0.01 0.01]\n",
      " [0.01 0.01 0.01 0.01 0.01 0.01 0.01]\n",
      " [0.01 0.01 0.01 0.01 0.01 0.01 0.01]\n",
      " [0.01 0.01 0.01 0.01 0.01 0.01 0.01]\n",
      " [0.01 0.01 0.01 0.01 0.01 0.01 0.01]]\n",
      "The value function corresponding to different epsilon is:\n",
      "[[-8.10115129e+04 -8.10230259e+04 -8.10345388e+04 -8.10460517e+04\n",
      "  -8.10575646e+04 -8.10690776e+04 -8.10805905e+04]\n",
      " [-2.30258509e+00 -4.60517019e+00 -6.90775528e+00 -9.21034037e+00\n",
      "  -1.15129255e+01 -1.38155106e+01 -1.61180957e+01]\n",
      " [-1.95601150e+00 -3.91202301e+00 -5.86803451e+00 -7.82404601e+00\n",
      "  -9.78005751e+00 -1.17360690e+01 -1.36920805e+01]\n",
      " [-1.75327895e+00 -3.50655790e+00 -5.25983685e+00 -7.01311579e+00\n",
      "  -8.76639474e+00 -1.05196737e+01 -1.22729526e+01]\n",
      " [-1.60943791e+00 -3.21887582e+00 -4.82831374e+00 -6.43775165e+00\n",
      "  -8.04718956e+00 -9.65662747e+00 -1.12660654e+01]\n",
      " [-1.49786614e+00 -2.99573227e+00 -4.49359841e+00 -5.99146455e+00\n",
      "  -7.48933068e+00 -8.98719682e+00 -1.04850630e+01]\n",
      " [-1.40670536e+00 -2.81341072e+00 -4.22011608e+00 -5.62682143e+00\n",
      "  -7.03352679e+00 -8.44023215e+00 -9.84693751e+00]\n",
      " [-1.32963002e+00 -2.65926004e+00 -3.98889006e+00 -5.31852007e+00\n",
      "  -6.64815009e+00 -7.97778011e+00 -9.30741013e+00]\n",
      " [-1.26286432e+00 -2.52572864e+00 -3.78859297e+00 -5.05145729e+00\n",
      "  -6.31432161e+00 -7.57718593e+00 -8.84005026e+00]\n",
      " [-1.20397280e+00 -2.40794561e+00 -3.61191841e+00 -4.81589122e+00\n",
      "  -6.01986402e+00 -7.22383683e+00 -8.42780963e+00]\n",
      " [-1.15129255e+00 -2.30258509e+00 -3.45387764e+00 -4.60517019e+00\n",
      "  -5.75646273e+00 -6.90775528e+00 -8.05904783e+00]\n",
      " [-1.10363746e+00 -2.20727491e+00 -3.31091237e+00 -4.41454983e+00\n",
      "  -5.51818728e+00 -6.62182474e+00 -7.72546220e+00]\n",
      " [-1.06013177e+00 -2.12026354e+00 -3.18039530e+00 -4.24052707e+00\n",
      "  -5.30065884e+00 -6.36079061e+00 -7.42092238e+00]\n",
      " [-1.02011041e+00 -2.04022083e+00 -3.06033124e+00 -4.08044166e+00\n",
      "  -5.10055207e+00 -6.12066249e+00 -7.14077290e+00]\n",
      " [-9.83056428e-01 -1.96611286e+00 -2.94916928e+00 -3.93222571e+00\n",
      "  -4.91528214e+00 -5.89833857e+00 -6.88139500e+00]\n",
      " [-9.48559992e-01 -1.89711998e+00 -2.84567998e+00 -3.79423997e+00\n",
      "  -4.74279996e+00 -5.69135995e+00 -6.63991995e+00]\n",
      " [-9.16290732e-01 -1.83258146e+00 -2.74887220e+00 -3.66516293e+00\n",
      "  -4.58145366e+00 -5.49774439e+00 -6.41403512e+00]\n",
      " [-8.85978421e-01 -1.77195684e+00 -2.65793526e+00 -3.54391368e+00\n",
      "  -4.42989210e+00 -5.31587053e+00 -6.20184895e+00]\n",
      " [-8.57399214e-01 -1.71479843e+00 -2.57219764e+00 -3.42959686e+00\n",
      "  -4.28699607e+00 -5.14439528e+00 -6.00179450e+00]\n",
      " [-8.30365603e-01 -1.66073121e+00 -2.49109681e+00 -3.32146241e+00\n",
      "  -4.15182802e+00 -4.98219362e+00 -5.81255922e+00]\n",
      " [-8.04718956e-01 -1.60943791e+00 -2.41415687e+00 -3.21887582e+00\n",
      "  -4.02359478e+00 -4.82831374e+00 -5.63303269e+00]\n",
      " [-7.80323874e-01 -1.56064775e+00 -2.34097162e+00 -3.12129550e+00\n",
      "  -3.90161937e+00 -4.68194324e+00 -5.46226712e+00]\n",
      " [-7.57063866e-01 -1.51412773e+00 -2.27119160e+00 -3.02825547e+00\n",
      "  -3.78531933e+00 -4.54238320e+00 -5.29944706e+00]\n",
      " [-7.34837985e-01 -1.46967597e+00 -2.20451396e+00 -2.93935194e+00\n",
      "  -3.67418993e+00 -4.40902791e+00 -5.14386590e+00]\n",
      " [-7.13558178e-01 -1.42711636e+00 -2.14067453e+00 -2.85423271e+00\n",
      "  -3.56779089e+00 -4.28134907e+00 -4.99490724e+00]\n",
      " [-6.93147181e-01 -1.38629436e+00 -2.07944154e+00 -2.77258872e+00\n",
      "  -3.46573590e+00 -4.15888308e+00 -4.85203026e+00]\n",
      " [-6.73536824e-01 -1.34707365e+00 -2.02061047e+00 -2.69414730e+00\n",
      "  -3.36768412e+00 -4.04122094e+00 -4.71475777e+00]\n",
      " [-6.54666660e-01 -1.30933332e+00 -1.96399998e+00 -2.61866664e+00\n",
      "  -3.27333330e+00 -3.92799996e+00 -4.58266662e+00]\n",
      " [-6.36482838e-01 -1.27296568e+00 -1.90944851e+00 -2.54593135e+00\n",
      "  -3.18241419e+00 -3.81889703e+00 -4.45537987e+00]\n",
      " [-6.18937178e-01 -1.23787436e+00 -1.85681153e+00 -2.47574871e+00\n",
      "  -3.09468589e+00 -3.71362307e+00 -4.33256025e+00]\n",
      " [-6.01986402e-01 -1.20397280e+00 -1.80595921e+00 -2.40794561e+00\n",
      "  -3.00993201e+00 -3.61191841e+00 -4.21390482e+00]\n",
      " [-5.85591491e-01 -1.17118298e+00 -1.75677447e+00 -2.34236596e+00\n",
      "  -2.92795745e+00 -3.51354894e+00 -4.09914044e+00]\n",
      " [-5.69717142e-01 -1.13943428e+00 -1.70915142e+00 -2.27886857e+00\n",
      "  -2.84858571e+00 -3.41830285e+00 -3.98801999e+00]\n",
      " [-5.54331312e-01 -1.10866262e+00 -1.66299394e+00 -2.21732525e+00\n",
      "  -2.77165656e+00 -3.32598787e+00 -3.88031919e+00]\n",
      " [-5.39404831e-01 -1.07880966e+00 -1.61821449e+00 -2.15761932e+00\n",
      "  -2.69702415e+00 -3.23642898e+00 -3.77583381e+00]\n",
      " [-5.24911062e-01 -1.04982212e+00 -1.57473319e+00 -2.09964425e+00\n",
      "  -2.62455531e+00 -3.14946637e+00 -3.67437744e+00]\n",
      " [-5.10825624e-01 -1.02165125e+00 -1.53247687e+00 -2.04330250e+00\n",
      "  -2.55412812e+00 -3.06495374e+00 -3.57577937e+00]\n",
      " [-4.97126137e-01 -9.94252273e-01 -1.49137841e+00 -1.98850455e+00\n",
      "  -2.48563068e+00 -2.98275682e+00 -3.47988296e+00]\n",
      " [-4.83792013e-01 -9.67584026e-01 -1.45137604e+00 -1.93516805e+00\n",
      "  -2.41896007e+00 -2.90275208e+00 -3.38654409e+00]\n",
      " [-4.70804270e-01 -9.41608540e-01 -1.41241281e+00 -1.88321708e+00\n",
      "  -2.35402135e+00 -2.82482562e+00 -3.29562989e+00]\n",
      " [-4.58145366e-01 -9.16290732e-01 -1.37443610e+00 -1.83258146e+00\n",
      "  -2.29072683e+00 -2.74887220e+00 -3.20701756e+00]\n",
      " [-4.45799060e-01 -8.91598119e-01 -1.33739718e+00 -1.78319624e+00\n",
      "  -2.22899530e+00 -2.67479436e+00 -3.12059342e+00]\n",
      " [-4.33750284e-01 -8.67500568e-01 -1.30125085e+00 -1.73500114e+00\n",
      "  -2.16875142e+00 -2.60250170e+00 -3.03625199e+00]\n",
      " [-4.21985035e-01 -8.43970070e-01 -1.26595511e+00 -1.68794014e+00\n",
      "  -2.10992518e+00 -2.53191021e+00 -2.95389525e+00]\n",
      " [-4.10490276e-01 -8.20980552e-01 -1.23147083e+00 -1.64196110e+00\n",
      "  -2.05245138e+00 -2.46294166e+00 -2.87343193e+00]\n",
      " [-3.99253848e-01 -7.98507696e-01 -1.19776154e+00 -1.59701539e+00\n",
      "  -1.99626924e+00 -2.39552309e+00 -2.79477694e+00]\n",
      " [-3.88264395e-01 -7.76528789e-01 -1.16479318e+00 -1.55305758e+00\n",
      "  -1.94132197e+00 -2.32958637e+00 -2.71785076e+00]\n",
      " [-3.77511292e-01 -7.55022584e-01 -1.13253388e+00 -1.51004517e+00\n",
      "  -1.88755646e+00 -2.26506775e+00 -2.64257904e+00]\n",
      " [-3.66984588e-01 -7.33969175e-01 -1.10095376e+00 -1.46793835e+00\n",
      "  -1.83492294e+00 -2.20190753e+00 -2.56889211e+00]\n",
      " [-3.56674944e-01 -7.13349888e-01 -1.07002483e+00 -1.42669978e+00\n",
      "  -1.78337472e+00 -2.14004966e+00 -2.49672461e+00]\n",
      " [-3.46573590e-01 -6.93147181e-01 -1.03972077e+00 -1.38629436e+00\n",
      "  -1.73286795e+00 -2.07944154e+00 -2.42601513e+00]\n",
      " [-3.36672277e-01 -6.73344553e-01 -1.01001683e+00 -1.34668911e+00\n",
      "  -1.68336138e+00 -2.02003366e+00 -2.35670594e+00]\n",
      " [-3.26963234e-01 -6.53926467e-01 -9.80889701e-01 -1.30785293e+00\n",
      "  -1.63481617e+00 -1.96177940e+00 -2.28874264e+00]\n",
      " [-3.17439136e-01 -6.34878272e-01 -9.52317409e-01 -1.26975654e+00\n",
      "  -1.58719568e+00 -1.90463482e+00 -2.22207395e+00]\n",
      " [-3.08093070e-01 -6.16186139e-01 -9.24279209e-01 -1.23237228e+00\n",
      "  -1.54046535e+00 -1.84855842e+00 -2.15665149e+00]\n",
      " [-2.98918500e-01 -5.97837001e-01 -8.96755501e-01 -1.19567400e+00\n",
      "  -1.49459250e+00 -1.79351100e+00 -2.09242950e+00]\n",
      " [-2.89909248e-01 -5.79818495e-01 -8.69727743e-01 -1.15963699e+00\n",
      "  -1.44954624e+00 -1.73945549e+00 -2.02936473e+00]\n",
      " [-2.81059459e-01 -5.62118918e-01 -8.43178377e-01 -1.12423784e+00\n",
      "  -1.40529730e+00 -1.68635675e+00 -1.96741621e+00]\n",
      " [-2.72363588e-01 -5.44727175e-01 -8.17090763e-01 -1.08945435e+00\n",
      "  -1.36181794e+00 -1.63418153e+00 -1.90654511e+00]\n",
      " [-2.63816371e-01 -5.27632742e-01 -7.91449113e-01 -1.05526548e+00\n",
      "  -1.31908186e+00 -1.58289823e+00 -1.84671460e+00]\n",
      " [-2.55412812e-01 -5.10825624e-01 -7.66238436e-01 -1.02165125e+00\n",
      "  -1.27706406e+00 -1.53247687e+00 -1.78788968e+00]\n",
      " [-2.47148161e-01 -4.94296322e-01 -7.41444483e-01 -9.88592644e-01\n",
      "  -1.23574080e+00 -1.48288897e+00 -1.73003713e+00]\n",
      " [-2.39017900e-01 -4.78035801e-01 -7.17053701e-01 -9.56071602e-01\n",
      "  -1.19508950e+00 -1.43410740e+00 -1.67312530e+00]\n",
      " [-2.31017730e-01 -4.62035460e-01 -6.93053189e-01 -9.24070919e-01\n",
      "  -1.15508865e+00 -1.38610638e+00 -1.61712411e+00]\n",
      " [-2.23143551e-01 -4.46287103e-01 -6.69430654e-01 -8.92574205e-01\n",
      "  -1.11571776e+00 -1.33886131e+00 -1.56200486e+00]\n",
      " [-2.15391458e-01 -4.30782916e-01 -6.46174374e-01 -8.61565832e-01\n",
      "  -1.07695729e+00 -1.29234875e+00 -1.50774021e+00]\n",
      " [-2.07757722e-01 -4.15515444e-01 -6.23273166e-01 -8.31030888e-01\n",
      "  -1.03878861e+00 -1.24654633e+00 -1.45430405e+00]\n",
      " [-2.00238783e-01 -4.00477567e-01 -6.00716350e-01 -8.00955133e-01\n",
      "  -1.00119392e+00 -1.20143270e+00 -1.40167148e+00]\n",
      " [-1.92831240e-01 -3.85662481e-01 -5.78493721e-01 -7.71324962e-01\n",
      "  -9.64156202e-01 -1.15698744e+00 -1.34981868e+00]\n",
      " [-1.85531841e-01 -3.71063681e-01 -5.56595522e-01 -7.42127363e-01\n",
      "  -9.27659203e-01 -1.11319104e+00 -1.29872288e+00]\n",
      " [-1.78337472e-01 -3.56674944e-01 -5.35012416e-01 -7.13349888e-01\n",
      "  -8.91687360e-01 -1.07002483e+00 -1.24836230e+00]\n",
      " [-1.71245154e-01 -3.42490309e-01 -5.13735463e-01 -6.84980618e-01\n",
      "  -8.56225772e-01 -1.02747093e+00 -1.19871608e+00]\n",
      " [-1.64252033e-01 -3.28504067e-01 -4.92756100e-01 -6.57008134e-01\n",
      "  -8.21260167e-01 -9.85512201e-01 -1.14976423e+00]\n",
      " [-1.57355372e-01 -3.14710745e-01 -4.72066117e-01 -6.29421490e-01\n",
      "  -7.86776862e-01 -9.44132235e-01 -1.10148761e+00]\n",
      " [-1.50552546e-01 -3.01105093e-01 -4.51657639e-01 -6.02210186e-01\n",
      "  -7.52762732e-01 -9.03315278e-01 -1.05386782e+00]\n",
      " [-1.43841036e-01 -2.87682072e-01 -4.31523109e-01 -5.75364145e-01\n",
      "  -7.19205181e-01 -8.63046217e-01 -1.00688725e+00]\n",
      " [-1.37218423e-01 -2.74436846e-01 -4.11655269e-01 -5.48873691e-01\n",
      "  -6.86092114e-01 -8.23310537e-01 -9.60528960e-01]\n",
      " [-1.30682382e-01 -2.61364764e-01 -3.92047146e-01 -5.22729528e-01\n",
      "  -6.53411910e-01 -7.84094292e-01 -9.14776674e-01]\n",
      " [-1.24230680e-01 -2.48461359e-01 -3.72692039e-01 -4.96922719e-01\n",
      "  -6.21153398e-01 -7.45384078e-01 -8.69614758e-01]\n",
      " [-1.17861167e-01 -2.35722334e-01 -3.53583500e-01 -4.71444667e-01\n",
      "  -5.89305834e-01 -7.07167001e-01 -8.25028167e-01]\n",
      " [-1.11571776e-01 -2.23143551e-01 -3.34715327e-01 -4.46287103e-01\n",
      "  -5.57858878e-01 -6.69430654e-01 -7.81002430e-01]\n",
      " [-1.05360516e-01 -2.10721031e-01 -3.16081547e-01 -4.21442063e-01\n",
      "  -5.26802578e-01 -6.32163094e-01 -7.37523610e-01]\n",
      " [-9.92254694e-02 -1.98450939e-01 -2.97676408e-01 -3.96901877e-01\n",
      "  -4.96127347e-01 -5.95352816e-01 -6.94578286e-01]\n",
      " [-9.31647891e-02 -1.86329578e-01 -2.79494367e-01 -3.72659156e-01\n",
      "  -4.65823945e-01 -5.58988735e-01 -6.52153524e-01]\n",
      " [-8.71766936e-02 -1.74353387e-01 -2.61530081e-01 -3.48706774e-01\n",
      "  -4.35883468e-01 -5.23060161e-01 -6.10236855e-01]\n",
      " [-8.12594647e-02 -1.62518929e-01 -2.43778394e-01 -3.25037859e-01\n",
      "  -4.06297324e-01 -4.87556788e-01 -5.68816253e-01]\n",
      " [-7.54114449e-02 -1.50822890e-01 -2.26234335e-01 -3.01645779e-01\n",
      "  -3.77057224e-01 -4.52468669e-01 -5.27880114e-01]\n",
      " [-6.96310337e-02 -1.39262067e-01 -2.08893101e-01 -2.78524135e-01\n",
      "  -3.48155168e-01 -4.17786202e-01 -4.87417236e-01]\n",
      " [-6.39166858e-02 -1.27833372e-01 -1.91750057e-01 -2.55666743e-01\n",
      "  -3.19583429e-01 -3.83500115e-01 -4.47416800e-01]\n",
      " [-5.82669081e-02 -1.16533816e-01 -1.74800724e-01 -2.33067633e-01\n",
      "  -2.91334541e-01 -3.49601449e-01 -4.07868357e-01]\n",
      " [-5.26802578e-02 -1.05360516e-01 -1.58040773e-01 -2.10721031e-01\n",
      "  -2.63401289e-01 -3.16081547e-01 -3.68761805e-01]\n",
      " [-4.71553397e-02 -9.43106795e-02 -1.41466019e-01 -1.88621359e-01\n",
      "  -2.35776699e-01 -2.82932038e-01 -3.30087378e-01]\n",
      " [-4.16908045e-02 -8.33816089e-02 -1.25072413e-01 -1.66763218e-01\n",
      "  -2.08454022e-01 -2.50144827e-01 -2.91835631e-01]\n",
      " [-3.62853464e-02 -7.25706928e-02 -1.08856039e-01 -1.45141386e-01\n",
      "  -1.81426732e-01 -2.17712079e-01 -2.53997425e-01]\n",
      " [-3.09377019e-02 -6.18754037e-02 -9.28131056e-02 -1.23750807e-01\n",
      "  -1.54688509e-01 -1.85626211e-01 -2.16563913e-01]\n",
      " [-2.56466472e-02 -5.12932944e-02 -7.69399416e-02 -1.02586589e-01\n",
      "  -1.28233236e-01 -1.53879883e-01 -1.79526530e-01]\n",
      " [-2.04109973e-02 -4.08219945e-02 -6.12329918e-02 -8.16439890e-02\n",
      "  -1.02054986e-01 -1.22465984e-01 -1.42876981e-01]\n",
      " [-1.52296037e-02 -3.04592075e-02 -4.56888112e-02 -6.09184150e-02\n",
      "  -7.61480187e-02 -9.13776225e-02 -1.06607226e-01]\n",
      " [-1.01013537e-02 -2.02027073e-02 -3.03040610e-02 -4.04054146e-02\n",
      "  -5.05067683e-02 -6.06081220e-02 -7.07094756e-02]\n",
      " [-5.02516793e-03 -1.00503359e-02 -1.50755038e-02 -2.01006717e-02\n",
      "  -2.51258396e-02 -3.01510076e-02 -3.51761755e-02]]\n"
     ]
    }
   ],
   "source": [
    "# Creating utility cube\n",
    "beta = 0.9\n",
    "c_mat=np.tile(W.reshape((N,1)), (1,N)) - np.tile(W.reshape((1,N)), (N,1))\n",
    "c_pos=c_mat>0\n",
    "c_mat[~c_pos]=1e-10\n",
    "u_mat = u(c_mat)\n",
    "cube = np.array([u_mat*e for e in epsilon])\n",
    "\n",
    "# Creating EV_cube\n",
    "V_init = np.zeros((N,M))\n",
    "EV = V_init @ gamma.reshape((M,1))\n",
    "EV_mat = np.tile(EV.reshape((1,N)), (N,1))\n",
    "EV_mat[~c_pos] = -9e+4\n",
    "EV_cube = np.array([EV_mat for i in range(M)])\n",
    "\n",
    "VT = cube + beta*EV_cube\n",
    "VTprime = np.zeros((N,M))\n",
    "Wprime = np.zeros((N,M))\n",
    "for i in range(N):\n",
    "    VT_W = VT[:,i,:]\n",
    "    VTprime[i] = VT_W.max(axis = 1)\n",
    "    id = np.argmax(VT_W, axis = 1)\n",
    "    Wprime[i] = W[id]\n",
    "print('The policy function corresponding to different epsilon is:')\n",
    "print(Wprime)\n",
    "print('The value function corresponding to different epsilon is:')\n",
    "print(VTprime)"
   ]
  },
  {
   "cell_type": "markdown",
   "metadata": {},
   "source": [
    "### Exercise 18"
   ]
  },
  {
   "cell_type": "code",
   "execution_count": 25,
   "metadata": {},
   "outputs": [
    {
     "data": {
      "text/plain": [
       "45979247448.96637"
      ]
     },
     "execution_count": 25,
     "metadata": {},
     "output_type": "execute_result"
    }
   ],
   "source": [
    "def L2_sto(v1, v2):\n",
    "    return np.sum((v1-v2)**2)\n",
    "dist = L2_sto(V_init, VTprime)\n",
    "dist"
   ]
  },
  {
   "cell_type": "markdown",
   "metadata": {},
   "source": [
    "### Exercise 19"
   ]
  },
  {
   "cell_type": "code",
   "execution_count": 26,
   "metadata": {},
   "outputs": [
    {
     "name": "stdout",
     "output_type": "stream",
     "text": [
      "The policy function corresponding to different epsilon is:\n",
      "[[0.01 0.01 0.01 0.01 0.01 0.01 0.01]\n",
      " [0.02 0.02 0.02 0.02 0.02 0.02 0.02]\n",
      " [0.02 0.02 0.02 0.02 0.02 0.02 0.02]\n",
      " [0.03 0.03 0.03 0.03 0.03 0.03 0.03]\n",
      " [0.04 0.04 0.04 0.04 0.03 0.03 0.03]\n",
      " [0.05 0.05 0.04 0.04 0.04 0.04 0.04]\n",
      " [0.06 0.06 0.05 0.05 0.05 0.04 0.04]\n",
      " [0.07 0.06 0.06 0.05 0.05 0.05 0.05]\n",
      " [0.08 0.07 0.07 0.06 0.06 0.05 0.05]\n",
      " [0.09 0.08 0.07 0.07 0.06 0.06 0.06]\n",
      " [0.1  0.09 0.08 0.07 0.07 0.06 0.06]\n",
      " [0.11 0.1  0.09 0.08 0.07 0.07 0.07]\n",
      " [0.11 0.1  0.09 0.09 0.08 0.08 0.07]\n",
      " [0.12 0.11 0.1  0.09 0.09 0.08 0.08]\n",
      " [0.13 0.12 0.11 0.1  0.09 0.09 0.08]\n",
      " [0.14 0.13 0.12 0.11 0.1  0.09 0.09]\n",
      " [0.15 0.14 0.12 0.11 0.1  0.1  0.09]\n",
      " [0.16 0.14 0.13 0.12 0.11 0.1  0.1 ]\n",
      " [0.17 0.15 0.14 0.13 0.12 0.11 0.1 ]\n",
      " [0.18 0.16 0.14 0.13 0.12 0.11 0.11]\n",
      " [0.19 0.17 0.15 0.14 0.13 0.12 0.11]\n",
      " [0.19 0.17 0.16 0.14 0.13 0.12 0.12]\n",
      " [0.2  0.18 0.17 0.15 0.14 0.13 0.12]\n",
      " [0.21 0.19 0.17 0.16 0.15 0.14 0.13]\n",
      " [0.22 0.2  0.18 0.16 0.15 0.14 0.13]\n",
      " [0.23 0.21 0.19 0.17 0.16 0.15 0.14]\n",
      " [0.24 0.21 0.19 0.18 0.16 0.15 0.14]\n",
      " [0.25 0.22 0.2  0.18 0.17 0.16 0.15]\n",
      " [0.26 0.23 0.21 0.19 0.18 0.16 0.15]\n",
      " [0.26 0.24 0.21 0.2  0.18 0.17 0.16]\n",
      " [0.27 0.24 0.22 0.2  0.19 0.17 0.16]\n",
      " [0.28 0.25 0.23 0.21 0.19 0.18 0.17]\n",
      " [0.29 0.26 0.24 0.22 0.2  0.18 0.17]\n",
      " [0.3  0.27 0.24 0.22 0.2  0.19 0.18]\n",
      " [0.31 0.28 0.25 0.23 0.21 0.2  0.18]\n",
      " [0.32 0.28 0.26 0.23 0.22 0.2  0.19]\n",
      " [0.33 0.29 0.26 0.24 0.22 0.21 0.19]\n",
      " [0.33 0.3  0.27 0.25 0.23 0.21 0.2 ]\n",
      " [0.34 0.31 0.28 0.25 0.23 0.22 0.2 ]\n",
      " [0.35 0.32 0.29 0.26 0.24 0.22 0.21]\n",
      " [0.36 0.32 0.29 0.27 0.25 0.23 0.21]\n",
      " [0.37 0.33 0.3  0.27 0.25 0.23 0.22]\n",
      " [0.38 0.34 0.31 0.28 0.26 0.24 0.22]\n",
      " [0.39 0.35 0.31 0.29 0.26 0.24 0.23]\n",
      " [0.4  0.35 0.32 0.29 0.27 0.25 0.23]\n",
      " [0.4  0.36 0.33 0.3  0.28 0.26 0.24]\n",
      " [0.41 0.37 0.33 0.31 0.28 0.26 0.24]\n",
      " [0.42 0.38 0.34 0.31 0.29 0.27 0.25]\n",
      " [0.43 0.39 0.35 0.32 0.29 0.27 0.25]\n",
      " [0.44 0.39 0.36 0.32 0.3  0.28 0.26]\n",
      " [0.45 0.4  0.36 0.33 0.31 0.28 0.26]\n",
      " [0.46 0.41 0.37 0.34 0.31 0.29 0.27]\n",
      " [0.47 0.42 0.38 0.34 0.32 0.29 0.27]\n",
      " [0.48 0.42 0.38 0.35 0.32 0.3  0.28]\n",
      " [0.48 0.43 0.39 0.36 0.33 0.3  0.28]\n",
      " [0.49 0.44 0.4  0.36 0.33 0.31 0.29]\n",
      " [0.5  0.45 0.41 0.37 0.34 0.32 0.29]\n",
      " [0.51 0.46 0.41 0.38 0.35 0.32 0.3 ]\n",
      " [0.52 0.46 0.42 0.38 0.35 0.33 0.3 ]\n",
      " [0.53 0.47 0.43 0.39 0.36 0.33 0.31]\n",
      " [0.54 0.48 0.43 0.4  0.36 0.34 0.31]\n",
      " [0.55 0.49 0.44 0.4  0.37 0.34 0.32]\n",
      " [0.55 0.5  0.45 0.41 0.38 0.35 0.32]\n",
      " [0.56 0.5  0.45 0.41 0.38 0.35 0.33]\n",
      " [0.57 0.51 0.46 0.42 0.39 0.36 0.33]\n",
      " [0.58 0.52 0.47 0.43 0.39 0.36 0.34]\n",
      " [0.59 0.53 0.48 0.43 0.4  0.37 0.34]\n",
      " [0.6  0.53 0.48 0.44 0.41 0.38 0.35]\n",
      " [0.61 0.54 0.49 0.45 0.41 0.38 0.35]\n",
      " [0.62 0.55 0.5  0.45 0.42 0.39 0.36]\n",
      " [0.62 0.56 0.5  0.46 0.42 0.39 0.36]\n",
      " [0.63 0.57 0.51 0.47 0.43 0.4  0.37]\n",
      " [0.64 0.57 0.52 0.47 0.43 0.4  0.38]\n",
      " [0.65 0.58 0.53 0.48 0.44 0.41 0.38]\n",
      " [0.66 0.59 0.53 0.49 0.45 0.41 0.39]\n",
      " [0.67 0.6  0.54 0.49 0.45 0.42 0.39]\n",
      " [0.68 0.6  0.55 0.5  0.46 0.42 0.4 ]\n",
      " [0.69 0.61 0.55 0.5  0.46 0.43 0.4 ]\n",
      " [0.69 0.62 0.56 0.51 0.47 0.44 0.41]\n",
      " [0.7  0.63 0.57 0.52 0.48 0.44 0.41]\n",
      " [0.71 0.64 0.57 0.52 0.48 0.45 0.42]\n",
      " [0.72 0.64 0.58 0.53 0.49 0.45 0.42]\n",
      " [0.73 0.65 0.59 0.54 0.49 0.46 0.43]\n",
      " [0.74 0.66 0.6  0.54 0.5  0.46 0.43]\n",
      " [0.75 0.67 0.6  0.55 0.51 0.47 0.44]\n",
      " [0.76 0.68 0.61 0.56 0.51 0.47 0.44]\n",
      " [0.77 0.68 0.62 0.56 0.52 0.48 0.45]\n",
      " [0.77 0.69 0.62 0.57 0.52 0.48 0.45]\n",
      " [0.78 0.7  0.63 0.58 0.53 0.49 0.46]\n",
      " [0.79 0.71 0.64 0.58 0.54 0.5  0.46]\n",
      " [0.8  0.71 0.65 0.59 0.54 0.5  0.47]\n",
      " [0.81 0.72 0.65 0.59 0.55 0.51 0.47]\n",
      " [0.82 0.73 0.66 0.6  0.55 0.51 0.48]\n",
      " [0.83 0.74 0.67 0.61 0.56 0.52 0.48]\n",
      " [0.84 0.75 0.67 0.61 0.56 0.52 0.49]\n",
      " [0.84 0.75 0.68 0.62 0.57 0.53 0.49]\n",
      " [0.85 0.76 0.69 0.63 0.58 0.53 0.5 ]\n",
      " [0.86 0.77 0.69 0.63 0.58 0.54 0.5 ]\n",
      " [0.87 0.78 0.7  0.64 0.59 0.54 0.51]\n",
      " [0.88 0.78 0.71 0.65 0.59 0.55 0.51]]\n",
      "The value function corresponding to different epsilon is:\n",
      "[[-8.10115129e+04 -8.10230259e+04 -8.10345388e+04 -8.10460517e+04\n",
      "  -8.10575646e+04 -8.10690776e+04 -8.10805905e+04]\n",
      " [-8.10115129e+04 -8.10230259e+04 -8.10345388e+04 -8.10460517e+04\n",
      "  -8.10575646e+04 -8.10690776e+04 -8.10805905e+04]\n",
      " [-1.88767109e+01 -2.11792960e+01 -2.34818811e+01 -2.57844662e+01\n",
      "  -2.80870513e+01 -3.03896364e+01 -3.26922215e+01]\n",
      " [-1.63820564e+01 -1.86846415e+01 -2.09872266e+01 -2.32898117e+01\n",
      "  -2.55923968e+01 -2.78949819e+01 -3.01975670e+01]\n",
      " [-1.49227771e+01 -1.72253622e+01 -1.95279472e+01 -2.18305323e+01\n",
      "  -2.38595288e+01 -2.58155403e+01 -2.77715518e+01]\n",
      " [-1.38874019e+01 -1.61899870e+01 -1.84882265e+01 -2.04442380e+01\n",
      "  -2.24002495e+01 -2.43562610e+01 -2.63122725e+01]\n",
      " [-1.30843025e+01 -1.53868876e+01 -1.74528513e+01 -1.94088628e+01\n",
      "  -2.13648743e+01 -2.31398657e+01 -2.48931446e+01]\n",
      " [-1.24281225e+01 -1.46937404e+01 -1.66497519e+01 -1.85979326e+01\n",
      "  -2.03512115e+01 -2.21044905e+01 -2.38577694e+01]\n",
      " [-1.18733303e+01 -1.40375605e+01 -1.59935720e+01 -1.77948332e+01\n",
      "  -1.95481122e+01 -2.12414443e+01 -2.28508822e+01]\n",
      " [-1.13927474e+01 -1.34827682e+01 -1.53853743e+01 -1.71386533e+01\n",
      "  -1.88289070e+01 -2.04383449e+01 -2.20477828e+01]\n",
      " [-1.09688432e+01 -1.30021853e+01 -1.48305820e+01 -1.65632891e+01\n",
      "  -1.81727270e+01 -1.97689142e+01 -2.12667804e+01]\n",
      " [-1.05896480e+01 -1.25782811e+01 -1.43499991e+01 -1.60084968e+01\n",
      "  -1.76148681e+01 -1.91127343e+01 -2.06106004e+01]\n",
      " [-1.02430744e+01 -1.21728160e+01 -1.39184760e+01 -1.55279139e+01\n",
      "  -1.70600759e+01 -1.85579420e+01 -1.99724750e+01]\n",
      " [-9.90005063e+00 -1.17936208e+01 -1.34945719e+01 -1.50816268e+01\n",
      "  -1.65794930e+01 -1.80109773e+01 -1.94176827e+01]\n",
      " [-9.58689445e+00 -1.14505970e+01 -1.31153766e+01 -1.46577227e+01\n",
      "  -1.61236891e+01 -1.75303944e+01 -1.88781553e+01]\n",
      " [-9.29881868e+00 -1.11374408e+01 -1.27723529e+01 -1.42785275e+01\n",
      "  -1.56997849e+01 -1.70679424e+01 -1.83975724e+01]\n",
      " [-9.03210219e+00 -1.08493651e+01 -1.24376375e+01 -1.39138843e+01\n",
      "  -1.53144082e+01 -1.66440382e+01 -1.79302125e+01]\n",
      " [-8.78379507e+00 -1.05616830e+01 -1.21244814e+01 -1.35708606e+01\n",
      "  -1.49352130e+01 -1.62434440e+01 -1.75063084e+01]\n",
      " [-8.55151928e+00 -1.02949665e+01 -1.18364056e+01 -1.32577044e+01\n",
      "  -1.45921892e+01 -1.58642488e+01 -1.70940677e+01]\n",
      " [-8.33332970e+00 -1.00466594e+01 -1.15629233e+01 -1.29494030e+01\n",
      "  -1.42583607e+01 -1.55108997e+01 -1.67148725e+01]\n",
      " [-8.12761510e+00 -9.81438360e+00 -1.12962068e+01 -1.26613273e+01\n",
      "  -1.39452046e+01 -1.51678760e+01 -1.63461107e+01]\n",
      " [-7.92488255e+00 -9.59124005e+00 -1.10478996e+01 -1.23942645e+01\n",
      "  -1.36507470e+01 -1.48517944e+01 -1.60030870e+01]\n",
      " [-7.73029323e+00 -9.37305048e+00 -1.08156238e+01 -1.21275480e+01\n",
      "  -1.33626712e+01 -1.45386382e+01 -1.56695013e+01]\n",
      " [-7.54568735e+00 -9.16733588e+00 -1.05843978e+01 -1.18792409e+01\n",
      "  -1.30959547e+01 -1.42505625e+01 -1.53563451e+01]\n",
      " [-7.37009029e+00 -8.97274656e+00 -1.03662083e+01 -1.16436748e+01\n",
      "  -1.28325534e+01 -1.39646319e+01 -1.50518053e+01]\n",
      " [-7.20266356e+00 -8.78814067e+00 -1.01604937e+01 -1.14113990e+01\n",
      "  -1.25842463e+01 -1.36979154e+01 -1.47637296e+01]\n",
      " [-7.04268053e+00 -8.60581912e+00 -9.96019657e+00 -1.11932094e+01\n",
      "  -1.23459709e+01 -1.34368813e+01 -1.44835801e+01]\n",
      " [-6.88950738e+00 -8.43022206e+00 -9.76560725e+00 -1.09824884e+01\n",
      "  -1.21136951e+01 -1.31885742e+01 -1.42168636e+01]\n",
      " [-6.74258797e+00 -8.26279533e+00 -9.58100137e+00 -1.07767738e+01\n",
      "  -1.18955055e+01 -1.29484461e+01 -1.39574857e+01]\n",
      " [-6.59874694e+00 -8.10281229e+00 -9.40432681e+00 -1.05821845e+01\n",
      "  -1.16779770e+01 -1.27161703e+01 -1.37091786e+01]\n",
      " [-6.45759058e+00 -7.94866161e+00 -9.22872976e+00 -1.03915641e+01\n",
      "  -1.14722624e+01 -1.24938463e+01 -1.34677035e+01]\n",
      " [-6.32176217e+00 -7.79548847e+00 -9.06130303e+00 -1.02069582e+01\n",
      "  -1.12721557e+01 -1.22756568e+01 -1.32354277e+01]\n",
      " [-6.19087409e+00 -7.64856906e+00 -8.90131999e+00 -1.00313612e+01\n",
      "  -1.10775664e+01 -1.20686782e+01 -1.30095429e+01]\n",
      " [-6.06457952e+00 -7.50741271e+00 -8.74327922e+00 -9.85733842e+00\n",
      "  -1.08922964e+01 -1.18629636e+01 -1.27913533e+01]\n",
      " [-5.94256697e+00 -7.37158430e+00 -8.59010607e+00 -9.68991169e+00\n",
      "  -1.07076905e+01 -1.16683742e+01 -1.25791671e+01]\n",
      " [-5.82455555e+00 -7.23805290e+00 -8.44318666e+00 -9.52982627e+00\n",
      "  -1.05320935e+01 -1.14747587e+01 -1.23734525e+01]\n",
      " [-5.71029117e+00 -7.10716482e+00 -8.30022139e+00 -9.36984323e+00\n",
      "  -1.03596113e+01 -1.12901528e+01 -1.21733981e+01]\n",
      " [-5.59871940e+00 -6.98087026e+00 -8.15906504e+00 -9.21667009e+00\n",
      "  -1.01921846e+01 -1.11082789e+01 -1.19788088e+01]\n",
      " [-5.48797141e+00 -6.85885770e+00 -8.02323663e+00 -9.06845414e+00\n",
      "  -1.00308383e+01 -1.09326819e+01 -1.17895735e+01]\n",
      " [-5.38052983e+00 -6.74084629e+00 -7.89234854e+00 -8.92153474e+00\n",
      "  -9.87085524e+00 -1.07612066e+01 -1.16049676e+01]\n",
      " [-5.27620294e+00 -6.62306325e+00 -7.76183148e+00 -8.78037838e+00\n",
      "  -9.71768209e+00 -1.05937799e+01 -1.14254411e+01]\n",
      " [-5.17481523e+00 -6.50879887e+00 -7.63553692e+00 -8.64239264e+00\n",
      "  -9.56612054e+00 -1.04315782e+01 -1.12498440e+01]\n",
      " [-5.07620561e+00 -6.39805088e+00 -7.51352436e+00 -8.50656423e+00\n",
      "  -9.41920113e+00 -1.02715952e+01 -1.10790785e+01]\n",
      " [-4.98022591e+00 -6.29060930e+00 -7.39346030e+00 -8.37567614e+00\n",
      "  -9.27630509e+00 -1.01177153e+01 -1.09116517e+01]\n",
      " [-4.88673946e+00 -6.18524878e+00 -7.27544888e+00 -8.24659910e+00\n",
      "  -9.13514874e+00 -9.96454217e+00 -1.07488317e+01]\n",
      " [-4.79557869e+00 -6.08092189e+00 -7.16118450e+00 -8.12030454e+00\n",
      "  -8.99932033e+00 -9.81762276e+00 -1.05888486e+01]\n",
      " [-4.70445925e+00 -5.97953418e+00 -7.05002255e+00 -7.99829198e+00\n",
      "  -8.86415228e+00 -9.67125227e+00 -1.04332675e+01]\n",
      " [-4.61558990e+00 -5.88092457e+00 -6.93927456e+00 -7.87704274e+00\n",
      "  -8.73326419e+00 -9.53009591e+00 -1.02800943e+01]\n",
      " [-4.52886219e+00 -5.78494486e+00 -6.83183297e+00 -7.75903133e+00\n",
      "  -8.60503096e+00 -9.39053587e+00 -1.01311357e+01]\n",
      " [-4.44417533e+00 -5.68963468e+00 -6.72750608e+00 -7.64471450e+00\n",
      "  -8.47873639e+00 -9.25470746e+00 -9.98421627e+00]\n",
      " [-4.36143546e+00 -5.59614824e+00 -6.62401678e+00 -7.53045012e+00\n",
      "  -8.35672384e+00 -9.12135217e+00 -9.84133929e+00]\n",
      " [-4.28055507e+00 -5.50502880e+00 -6.52262907e+00 -7.41970213e+00\n",
      "  -8.23474843e+00 -8.99046408e+00 -9.70018293e+00]\n",
      " [-4.20145242e+00 -5.41615945e+00 -6.42401945e+00 -7.31156768e+00\n",
      "  -8.11673701e+00 -8.86278524e+00 -9.56291044e+00]\n",
      " [-4.12405104e+00 -5.32914808e+00 -6.32721167e+00 -7.20412610e+00\n",
      "  -8.00043697e+00 -8.73649068e+00 -9.42708203e+00]\n",
      " [-4.04697570e+00 -5.24242037e+00 -6.23123197e+00 -7.09979921e+00\n",
      "  -7.88617259e+00 -8.61402470e+00 -9.29499088e+00]\n",
      " [-3.97120394e+00 -5.15773350e+00 -6.13774552e+00 -6.99721262e+00\n",
      "  -7.77504319e+00 -8.49201214e+00 -9.16410279e+00]\n",
      " [-3.89699459e+00 -5.07499364e+00 -6.04662608e+00 -6.89582491e+00\n",
      "  -7.66429520e+00 -8.37400073e+00 -9.03681604e+00]\n",
      " [-3.82428453e+00 -4.99411325e+00 -5.95568915e+00 -6.79721530e+00\n",
      "  -7.55685361e+00 -8.25633859e+00 -8.91052148e+00]\n",
      " [-3.75301437e+00 -4.91407054e+00 -5.86681980e+00 -6.69963497e+00\n",
      "  -7.45045458e+00 -8.14207421e+00 -8.78770186e+00]\n",
      " [-3.68312818e+00 -4.83496789e+00 -5.78009210e+00 -6.60365527e+00\n",
      "  -7.34612769e+00 -8.02885322e+00 -8.66568930e+00]\n",
      " [-3.61457323e+00 -4.75756651e+00 -5.69435447e+00 -6.51016882e+00\n",
      "  -7.24407270e+00 -7.91810523e+00 -8.54703387e+00]\n",
      " [-3.54729977e+00 -4.68179475e+00 -5.60966761e+00 -6.41712879e+00\n",
      "  -7.14268499e+00 -7.80900230e+00 -8.42902246e+00]\n",
      " [-3.48053407e+00 -4.60758540e+00 -5.52692774e+00 -6.32600935e+00\n",
      "  -7.04407538e+00 -7.70156072e+00 -8.31425808e+00]\n",
      " [-3.41449505e+00 -4.53347743e+00 -5.44582691e+00 -6.23710583e+00\n",
      "  -6.94602360e+00 -7.59628676e+00 -8.19999370e+00]\n",
      " [-3.34964598e+00 -4.46076737e+00 -5.36494653e+00 -6.14823648e+00\n",
      "  -6.85004389e+00 -7.49195987e+00 -8.08887325e+00]\n",
      " [-3.28594475e+00 -4.38949720e+00 -5.28584388e+00 -6.06150877e+00\n",
      "  -6.75569307e+00 -7.39025521e+00 -7.97812526e+00]\n",
      " [-3.22335142e+00 -4.31961101e+00 -5.20844249e+00 -5.97638954e+00\n",
      "  -6.66220663e+00 -7.28886750e+00 -7.87042446e+00]\n",
      " [-3.16182812e+00 -4.25061814e+00 -5.13150255e+00 -5.89170268e+00\n",
      "  -6.57108719e+00 -7.19025789e+00 -7.76298288e+00]\n",
      " [-3.10133887e+00 -4.18206320e+00 -5.05573079e+00 -5.80896281e+00\n",
      "  -6.48016808e+00 -7.09188842e+00 -7.65849750e+00]\n",
      " [-3.04184948e+00 -4.11478973e+00 -4.98152144e+00 -5.72731882e+00\n",
      "  -6.39129873e+00 -6.99590872e+00 -7.55417061e+00]\n",
      " [-2.98295797e+00 -4.04875071e+00 -4.90833620e+00 -5.64643844e+00\n",
      "  -6.30357043e+00 -6.90066262e+00 -7.45271424e+00]\n",
      " [-2.92443593e+00 -3.98390165e+00 -4.83562613e+00 -5.56733579e+00\n",
      "  -6.21684272e+00 -6.80717618e+00 -7.35132653e+00]\n",
      " [-2.86685029e+00 -3.91936313e+00 -4.76435597e+00 -5.48889436e+00\n",
      "  -6.13208884e+00 -6.71486120e+00 -7.25271691e+00]\n",
      " [-2.81017155e+00 -3.85566189e+00 -4.69446978e+00 -5.41149298e+00\n",
      "  -6.04740198e+00 -6.62374176e+00 -7.15411884e+00]\n",
      " [-2.75437159e+00 -3.79306856e+00 -4.62468976e+00 -5.33572122e+00\n",
      "  -5.96466211e+00 -6.53418287e+00 -7.05813914e+00]\n",
      " [-2.69942356e+00 -3.73154526e+00 -4.55613481e+00 -5.26024056e+00\n",
      "  -5.88268755e+00 -6.44531352e+00 -6.96224273e+00]\n",
      " [-2.64530186e+00 -3.67092064e+00 -4.48886135e+00 -5.18603121e+00\n",
      "  -5.80180717e+00 -6.35835091e+00 -6.86875628e+00]\n",
      " [-2.59198198e+00 -3.61043139e+00 -4.42218370e+00 -5.11329593e+00\n",
      "  -5.72243542e+00 -6.27162321e+00 -6.77541742e+00]\n",
      " [-2.53930172e+00 -3.55094200e+00 -4.35614468e+00 -5.04058586e+00\n",
      "  -5.64333277e+00 -6.18693634e+00 -6.68429798e+00]\n",
      " [-2.48676027e+00 -3.49241997e+00 -4.29129562e+00 -4.96931570e+00\n",
      "  -5.56593139e+00 -6.10242371e+00 -6.59338378e+00]\n",
      " [-2.43497483e+00 -3.43483433e+00 -4.22745620e+00 -4.89913306e+00\n",
      "  -5.48900224e+00 -6.01968384e+00 -6.50451443e+00]\n",
      " [-2.38392397e+00 -3.37767592e+00 -4.16375496e+00 -4.82924687e+00\n",
      "  -5.41323048e+00 -5.93748692e+00 -6.41590210e+00]\n",
      " [-2.33358712e+00 -3.32099718e+00 -4.10116163e+00 -4.76069193e+00\n",
      "  -5.33859807e+00 -5.85660654e+00 -6.32917439e+00]\n",
      " [-2.28394460e+00 -3.26519721e+00 -4.03963833e+00 -4.69288882e+00\n",
      "  -5.26438873e+00 -5.77660179e+00 -6.24275025e+00]\n",
      " [-2.23497751e+00 -3.21024919e+00 -3.97840534e+00 -4.62561536e+00\n",
      "  -5.19167867e+00 -5.69749914e+00 -6.15806338e+00]\n",
      " [-2.18666772e+00 -3.15612748e+00 -3.91791609e+00 -4.55957633e+00\n",
      "  -5.11920982e+00 -5.61957268e+00 -6.07372195e+00]\n",
      " [-2.13899781e+00 -3.10206026e+00 -3.85842670e+00 -4.49399669e+00\n",
      "  -5.04793966e+00 -5.54217130e+00 -5.99098209e+00]\n",
      " [-2.09134272e+00 -3.04874038e+00 -3.79959563e+00 -4.42914762e+00\n",
      "  -4.97751247e+00 -5.46621788e+00 -5.90862535e+00]\n",
      " [-2.04429596e+00 -2.99619893e+00 -3.74107360e+00 -4.36544639e+00\n",
      "  -4.90762628e+00 -5.39044611e+00 -5.82774496e+00]\n",
      " [-1.99785627e+00 -2.94441349e+00 -3.68348796e+00 -4.30194900e+00\n",
      "  -4.83907133e+00 -5.31623677e+00 -5.74728165e+00]\n",
      " [-1.95200819e+00 -2.89312020e+00 -3.62680922e+00 -4.23935567e+00\n",
      "  -4.77057390e+00 -5.24215893e+00 -5.66817900e+00]\n",
      " [-1.90673683e+00 -2.84206933e+00 -3.57019873e+00 -4.17781235e+00\n",
      "  -4.70330043e+00 -5.16944887e+00 -5.58952400e+00]\n",
      " [-1.86202786e+00 -2.79173249e+00 -3.51439876e+00 -4.11628904e+00\n",
      "  -4.63662981e+00 -5.09715622e+00 -5.51212262e+00]\n",
      " [-1.81786748e+00 -2.74208997e+00 -3.45945074e+00 -4.05579979e+00\n",
      "  -4.57059079e+00 -5.02588605e+00 -5.43519644e+00]\n",
      " [-1.77424240e+00 -2.69312288e+00 -3.40489927e+00 -3.99609387e+00\n",
      "  -4.50565208e+00 -4.95529456e+00 -5.35942468e+00]\n",
      " [-1.73073671e+00 -2.64433271e+00 -3.35077757e+00 -3.93660449e+00\n",
      "  -4.44080301e+00 -4.88540837e+00 -5.28415296e+00]\n",
      " [-1.68763409e+00 -2.59602292e+00 -3.29745769e+00 -3.87808245e+00\n",
      "  -4.37710178e+00 -4.81643981e+00 -5.20994362e+00]\n",
      " [-1.64504157e+00 -2.54835301e+00 -3.24482071e+00 -3.82010738e+00\n",
      "  -4.31380726e+00 -4.74788487e+00 -5.13625669e+00]\n",
      " [-1.60294722e+00 -2.50130625e+00 -3.19227926e+00 -3.76252174e+00\n",
      "  -4.25121393e+00 -4.68046630e+00 -5.06354662e+00]\n",
      " [-1.56133953e+00 -2.45478623e+00 -3.14049382e+00 -3.70584300e+00\n",
      "  -4.18948240e+00 -4.61319284e+00 -4.99137912e+00]]\n"
     ]
    }
   ],
   "source": [
    "V_init = VTprime\n",
    "EV = V_init @ gamma.reshape((M,1))\n",
    "EV_mat = np.tile(EV.reshape((1,N)), (N,1))\n",
    "EV_mat[~c_pos] = -9e+4\n",
    "EV_cube = np.array([EV_mat for i in range(M)])\n",
    "\n",
    "VT = cube + beta*EV_cube\n",
    "VTprime_1 = np.zeros((N,M))\n",
    "Wprime_1 = np.zeros((N,M))\n",
    "for i in range(N):\n",
    "    VT_W = VT[:,i,:]\n",
    "    VTprime_1[i] = VT_W.max(axis = 1)\n",
    "    id = np.argmax(VT_W, axis = 1)\n",
    "    Wprime_1[i] = W[id]\n",
    "print('The policy function corresponding to different epsilon is:')\n",
    "print(Wprime_1)\n",
    "print('The value function corresponding to different epsilon is:')\n",
    "print(VTprime_1)"
   ]
  },
  {
   "cell_type": "code",
   "execution_count": 27,
   "metadata": {},
   "outputs": [
    {
     "data": {
      "image/png": "[encoded data removed]",
      "text/plain": [
       "<Figure size 432x288 with 1 Axes>"
      ]
     },
     "metadata": {
      "needs_background": "light"
     },
     "output_type": "display_data"
    }
   ],
   "source": [
    "plt.plot(W[2:],np.average(Wprime_1,axis=1)[2:])\n",
    "plt.title(\"Policy function\")\n",
    "plt.show()"
   ]
  },
  {
   "cell_type": "code",
   "execution_count": 28,
   "metadata": {},
   "outputs": [
    {
     "name": "stdout",
     "output_type": "stream",
     "text": [
      "Distance at T: 45979247448.96637\n",
      "Distance at T-1: 45968829677.923256\n",
      "Distance of two value functions goes down.\n"
     ]
    }
   ],
   "source": [
    "dist1 = L2_sto(VTprime, VTprime_1)\n",
    "print(\"Distance at T:\",dist)\n",
    "print(\"Distance at T-1:\",dist1)\n",
    "print(\"Distance of two value functions goes down.\")"
   ]
  },
  {
   "cell_type": "markdown",
   "metadata": {},
   "source": [
    "### Exercise 20"
   ]
  },
  {
   "cell_type": "code",
   "execution_count": 29,
   "metadata": {},
   "outputs": [],
   "source": [
    "V_init = VTprime_1\n",
    "EV = V_init @ gamma.reshape((M,1))\n",
    "EV_mat = np.tile(EV.reshape((1,N)), (N,1))\n",
    "EV_mat[~c_pos] = -9e+4\n",
    "EV_cube = np.array([EV_mat for i in range(M)])\n",
    "\n",
    "VT = cube + beta*EV_cube\n",
    "VTprime_2 = np.zeros((N,M))\n",
    "Wprime_2 = np.zeros((N,M))\n",
    "for i in range(N):\n",
    "    VT_W = VT[:,i,:]\n",
    "    VTprime_2[i] = VT_W.max(axis = 1)\n",
    "    id = np.argmax(VT_W, axis = 1)\n",
    "    Wprime_2[i] = W[id]"
   ]
  },
  {
   "cell_type": "code",
   "execution_count": 30,
   "metadata": {},
   "outputs": [
    {
     "data": {
      "image/png": "[encoded data removed]",
      "text/plain": [
       "<Figure size 432x288 with 1 Axes>"
      ]
     },
     "metadata": {
      "needs_background": "light"
     },
     "output_type": "display_data"
    }
   ],
   "source": [
    "plt.plot(W[3:],np.average(Wprime_2,axis=1)[3:])\n",
    "plt.title(\"Policy function\")\n",
    "plt.show()"
   ]
  },
  {
   "cell_type": "code",
   "execution_count": 31,
   "metadata": {},
   "outputs": [
    {
     "name": "stdout",
     "output_type": "stream",
     "text": [
      "Distance at T: 45979247448.96637\n",
      "Distance at T-1: 45968829677.923256\n",
      "Distance at T-2 45950143416.50976\n",
      "Distance of two value functions goes down.\n"
     ]
    }
   ],
   "source": [
    "dist2 = L2_sto(VTprime_1, VTprime_2)\n",
    "print(\"Distance at T:\",dist)\n",
    "print(\"Distance at T-1:\",dist1)\n",
    "print(\"Distance at T-2\", dist2)\n",
    "\n",
    "print(\"Distance of two value functions goes down.\")"
   ]
  },
  {
   "cell_type": "markdown",
   "metadata": {},
   "source": [
    "### Exercise 21"
   ]
  },
  {
   "cell_type": "code",
   "execution_count": 35,
   "metadata": {},
   "outputs": [
    {
     "name": "stdout",
     "output_type": "stream",
     "text": [
      "Iter= 1 , distance=  45979247448.96637\n",
      "Iter= 2 , distance=  45968829677.923256\n",
      "Iter= 3 , distance=  45950143416.50976\n",
      "Iter= 4 , distance=  45916698826.3178\n",
      "Iter= 5 , distance=  45857095250.14685\n",
      "Iter= 6 , distance=  45751696674.42443\n",
      "Iter= 7 , distance=  45568004744.36678\n",
      "Iter= 8 , distance=  45256707713.7793\n",
      "Iter= 9 , distance=  44758728727.70192\n",
      "Iter= 10 , distance=  44063254831.88393\n",
      "Iter= 11 , distance=  43458738928.76993\n",
      "Iter= 12 , distance=  44457224479.50153\n",
      "Iter= 13 , distance=  52981076462.99516\n",
      "Iter= 14 , distance=  90008703040.51067\n",
      "Iter= 15 , distance=  226562184008.26733\n",
      "Iter= 16 , distance=  457499087150.172\n",
      "Iter= 17 , distance=  192392164686.71265\n",
      "Iter= 18 , distance=  0.0\n",
      "The convergence takes 18 iterations\n"
     ]
    },
    {
     "data": {
      "text/plain": [
       "array([[0.01, 0.01, 0.01, 0.01, 0.01, 0.01, 0.01],\n",
       "       [0.02, 0.02, 0.02, 0.02, 0.02, 0.02, 0.02],\n",
       "       [0.03, 0.03, 0.03, 0.03, 0.03, 0.03, 0.03],\n",
       "       [0.04, 0.04, 0.04, 0.04, 0.04, 0.04, 0.04],\n",
       "       [0.05, 0.05, 0.05, 0.05, 0.05, 0.05, 0.05],\n",
       "       [0.06, 0.06, 0.06, 0.06, 0.06, 0.06, 0.06],\n",
       "       [0.07, 0.07, 0.07, 0.07, 0.07, 0.07, 0.07],\n",
       "       [0.08, 0.08, 0.08, 0.08, 0.08, 0.08, 0.08],\n",
       "       [0.09, 0.09, 0.09, 0.09, 0.09, 0.09, 0.09],\n",
       "       [0.1 , 0.1 , 0.1 , 0.1 , 0.1 , 0.1 , 0.1 ],\n",
       "       [0.11, 0.11, 0.11, 0.11, 0.11, 0.11, 0.11],\n",
       "       [0.12, 0.12, 0.12, 0.12, 0.12, 0.12, 0.12],\n",
       "       [0.13, 0.13, 0.13, 0.13, 0.13, 0.13, 0.13],\n",
       "       [0.14, 0.14, 0.14, 0.14, 0.14, 0.14, 0.14],\n",
       "       [0.15, 0.15, 0.15, 0.15, 0.15, 0.15, 0.15],\n",
       "       [0.16, 0.16, 0.16, 0.16, 0.16, 0.16, 0.16],\n",
       "       [0.17, 0.17, 0.17, 0.17, 0.17, 0.17, 0.17],\n",
       "       [0.18, 0.18, 0.18, 0.18, 0.18, 0.18, 0.18],\n",
       "       [0.19, 0.19, 0.19, 0.19, 0.19, 0.19, 0.19],\n",
       "       [0.2 , 0.2 , 0.2 , 0.2 , 0.2 , 0.2 , 0.2 ],\n",
       "       [0.21, 0.21, 0.21, 0.21, 0.21, 0.21, 0.21],\n",
       "       [0.22, 0.22, 0.22, 0.22, 0.22, 0.22, 0.22],\n",
       "       [0.23, 0.23, 0.23, 0.23, 0.23, 0.23, 0.23],\n",
       "       [0.24, 0.24, 0.24, 0.24, 0.24, 0.24, 0.24],\n",
       "       [0.25, 0.25, 0.25, 0.25, 0.25, 0.25, 0.25],\n",
       "       [0.26, 0.26, 0.26, 0.26, 0.26, 0.26, 0.26],\n",
       "       [0.27, 0.27, 0.27, 0.27, 0.27, 0.27, 0.27],\n",
       "       [0.28, 0.28, 0.28, 0.28, 0.28, 0.28, 0.28],\n",
       "       [0.29, 0.29, 0.29, 0.29, 0.29, 0.29, 0.29],\n",
       "       [0.3 , 0.3 , 0.3 , 0.3 , 0.3 , 0.3 , 0.3 ],\n",
       "       [0.31, 0.31, 0.31, 0.31, 0.31, 0.31, 0.31],\n",
       "       [0.32, 0.32, 0.32, 0.32, 0.32, 0.32, 0.32],\n",
       "       [0.33, 0.33, 0.33, 0.33, 0.33, 0.33, 0.33],\n",
       "       [0.34, 0.34, 0.34, 0.34, 0.34, 0.34, 0.34],\n",
       "       [0.35, 0.35, 0.35, 0.35, 0.35, 0.35, 0.35],\n",
       "       [0.36, 0.36, 0.36, 0.36, 0.36, 0.36, 0.36],\n",
       "       [0.37, 0.37, 0.37, 0.37, 0.37, 0.37, 0.37],\n",
       "       [0.38, 0.38, 0.38, 0.38, 0.38, 0.38, 0.38],\n",
       "       [0.39, 0.39, 0.39, 0.39, 0.39, 0.39, 0.39],\n",
       "       [0.4 , 0.4 , 0.4 , 0.4 , 0.4 , 0.4 , 0.4 ],\n",
       "       [0.41, 0.41, 0.41, 0.41, 0.41, 0.41, 0.41],\n",
       "       [0.42, 0.42, 0.42, 0.42, 0.42, 0.42, 0.42],\n",
       "       [0.43, 0.43, 0.43, 0.43, 0.43, 0.43, 0.43],\n",
       "       [0.44, 0.44, 0.44, 0.44, 0.44, 0.44, 0.44],\n",
       "       [0.45, 0.45, 0.45, 0.45, 0.45, 0.45, 0.45],\n",
       "       [0.46, 0.46, 0.46, 0.46, 0.46, 0.46, 0.46],\n",
       "       [0.47, 0.47, 0.47, 0.47, 0.47, 0.47, 0.47],\n",
       "       [0.48, 0.48, 0.48, 0.48, 0.48, 0.48, 0.48],\n",
       "       [0.49, 0.49, 0.49, 0.49, 0.49, 0.49, 0.49],\n",
       "       [0.5 , 0.5 , 0.5 , 0.5 , 0.5 , 0.5 , 0.5 ],\n",
       "       [0.51, 0.51, 0.51, 0.51, 0.51, 0.51, 0.51],\n",
       "       [0.52, 0.52, 0.52, 0.52, 0.52, 0.52, 0.52],\n",
       "       [0.53, 0.53, 0.53, 0.53, 0.53, 0.53, 0.53],\n",
       "       [0.54, 0.54, 0.54, 0.54, 0.54, 0.54, 0.54],\n",
       "       [0.55, 0.55, 0.55, 0.55, 0.55, 0.55, 0.55],\n",
       "       [0.56, 0.56, 0.56, 0.56, 0.56, 0.56, 0.56],\n",
       "       [0.57, 0.57, 0.57, 0.57, 0.57, 0.57, 0.57],\n",
       "       [0.58, 0.58, 0.58, 0.58, 0.58, 0.58, 0.58],\n",
       "       [0.59, 0.59, 0.59, 0.59, 0.59, 0.59, 0.59],\n",
       "       [0.6 , 0.6 , 0.6 , 0.6 , 0.6 , 0.6 , 0.6 ],\n",
       "       [0.61, 0.61, 0.61, 0.61, 0.61, 0.61, 0.61],\n",
       "       [0.62, 0.62, 0.62, 0.62, 0.62, 0.62, 0.62],\n",
       "       [0.63, 0.63, 0.63, 0.63, 0.63, 0.63, 0.63],\n",
       "       [0.64, 0.64, 0.64, 0.64, 0.64, 0.64, 0.64],\n",
       "       [0.65, 0.65, 0.65, 0.65, 0.65, 0.65, 0.65],\n",
       "       [0.66, 0.66, 0.66, 0.66, 0.66, 0.66, 0.66],\n",
       "       [0.67, 0.67, 0.67, 0.67, 0.67, 0.67, 0.67],\n",
       "       [0.68, 0.68, 0.68, 0.68, 0.68, 0.68, 0.68],\n",
       "       [0.69, 0.69, 0.69, 0.69, 0.69, 0.69, 0.69],\n",
       "       [0.7 , 0.7 , 0.7 , 0.7 , 0.7 , 0.7 , 0.7 ],\n",
       "       [0.71, 0.71, 0.71, 0.71, 0.71, 0.71, 0.71],\n",
       "       [0.72, 0.72, 0.72, 0.72, 0.72, 0.72, 0.72],\n",
       "       [0.73, 0.73, 0.73, 0.73, 0.73, 0.73, 0.73],\n",
       "       [0.74, 0.74, 0.74, 0.74, 0.74, 0.74, 0.74],\n",
       "       [0.75, 0.75, 0.75, 0.75, 0.75, 0.75, 0.75],\n",
       "       [0.76, 0.76, 0.76, 0.76, 0.76, 0.76, 0.76],\n",
       "       [0.77, 0.77, 0.77, 0.77, 0.77, 0.77, 0.77],\n",
       "       [0.78, 0.78, 0.78, 0.78, 0.78, 0.78, 0.78],\n",
       "       [0.79, 0.79, 0.79, 0.79, 0.79, 0.79, 0.79],\n",
       "       [0.8 , 0.8 , 0.8 , 0.8 , 0.8 , 0.8 , 0.8 ],\n",
       "       [0.81, 0.81, 0.81, 0.81, 0.81, 0.81, 0.81],\n",
       "       [0.82, 0.82, 0.82, 0.82, 0.82, 0.82, 0.82],\n",
       "       [0.83, 0.83, 0.83, 0.83, 0.83, 0.83, 0.83],\n",
       "       [0.84, 0.84, 0.84, 0.84, 0.84, 0.84, 0.84],\n",
       "       [0.85, 0.85, 0.85, 0.85, 0.85, 0.85, 0.85],\n",
       "       [0.86, 0.86, 0.86, 0.86, 0.86, 0.86, 0.86],\n",
       "       [0.87, 0.87, 0.87, 0.87, 0.87, 0.87, 0.87],\n",
       "       [0.88, 0.88, 0.88, 0.88, 0.88, 0.88, 0.88],\n",
       "       [0.89, 0.89, 0.89, 0.89, 0.89, 0.89, 0.89],\n",
       "       [0.9 , 0.9 , 0.9 , 0.9 , 0.9 , 0.9 , 0.9 ],\n",
       "       [0.91, 0.91, 0.91, 0.91, 0.91, 0.91, 0.91],\n",
       "       [0.92, 0.92, 0.92, 0.92, 0.92, 0.92, 0.92],\n",
       "       [0.93, 0.93, 0.93, 0.93, 0.93, 0.93, 0.93],\n",
       "       [0.94, 0.94, 0.94, 0.94, 0.94, 0.94, 0.94],\n",
       "       [0.95, 0.95, 0.95, 0.95, 0.95, 0.95, 0.95],\n",
       "       [0.96, 0.96, 0.96, 0.96, 0.96, 0.96, 0.96],\n",
       "       [0.97, 0.97, 0.97, 0.97, 0.97, 0.97, 0.97],\n",
       "       [0.98, 0.98, 0.98, 0.98, 0.98, 0.98, 0.98],\n",
       "       [0.99, 0.99, 0.99, 0.99, 0.99, 0.99, 0.99],\n",
       "       [1.  , 1.  , 1.  , 1.  , 1.  , 1.  , 1.  ]])"
      ]
     },
     "execution_count": 35,
     "metadata": {},
     "output_type": "execute_result"
    }
   ],
   "source": [
    "it = 0\n",
    "V_init = np.zeros((N,M))\n",
    "max_iter = 1000\n",
    "tol = 1e-9\n",
    "dist = 10000\n",
    "\n",
    "while dist > tol and it < max_iter:\n",
    "    it += 1\n",
    "    EV = V_init @ gamma.reshape((M,1))\n",
    "    EV_mat = np.tile(EV.reshape((1,N)), (N,1))\n",
    "    EV_mat[~c_pos] = -9e+4\n",
    "    EV_cube = np.array([EV_mat for i in range(M)])\n",
    "    VT = cube + beta*EV_cube\n",
    "    VTprime = np.zeros((N,M))\n",
    "    Wprime = np.zeros((N,M))\n",
    "    for i in range(N):\n",
    "        VT_W = VT[:,i,:]\n",
    "        VTprime[i] = VT_W.max(axis = 1)\n",
    "        id = np.argmax(VT_W, axis = 1)\n",
    "        Wprime[i] = W[id]\n",
    "    dist = L2_sto(V_init, VTprime)\n",
    "    print('Iter=', it, ', distance= ', dist)\n",
    "    V_init = VTprime\n",
    "print(\"The convergence takes\",it,\"iterations\")\n",
    "Wprime"
   ]
  },
  {
   "cell_type": "markdown",
   "metadata": {},
   "source": [
    "### Exercise 22"
   ]
  },
  {
   "cell_type": "code",
   "execution_count": 52,
   "metadata": {},
   "outputs": [
    {
     "data": {
      "image/png": "[encoded data removed]",
      "text/plain": [
       "<Figure size 720x576 with 1 Axes>"
      ]
     },
     "metadata": {
      "needs_background": "light"
     },
     "output_type": "display_data"
    }
   ],
   "source": [
    "import matplotlib.pyplot as plt\n",
    "from mpl_toolkits.mplot3d import Axes3D \n",
    "\n",
    "ax = fig.gca(projection='3d')\n",
    "X, Y = np.meshgrid(W, epsilon)\n",
    "new_fig = plt.figure(figsize=(10,8))\n",
    "new_ax = new_fig.add_subplot(111, projection='3d')\n",
    "new_ax.plot_surface(X.T, Y.T, Wprime)\n",
    "new_ax.set_xlabel('cake today')\n",
    "new_ax.set_ylabel('taste shock today')\n",
    "new_ax.set_zlabel('cake tommorrow')\n",
    "new_ax.set_title(\"Policy Function for the Converged Problem\") \n",
    "new_ax.view_init(elev=45,azim=98)\n",
    "plt.show()"
   ]
  }
 ],
 "metadata": {
  "kernelspec": {
   "display_name": "Python 3",
   "language": "python",
   "name": "python3"
  },
  "language_info": {
   "codemirror_mode": {
    "name": "ipython",
    "version": 3
   },
   "file_extension": ".py",
   "mimetype": "text/x-python",
   "name": "python",
   "nbconvert_exporter": "python",
   "pygments_lexer": "ipython3",
   "version": "3.7.3"
  }
 },
 "nbformat": 4,
 "nbformat_minor": 2
}
