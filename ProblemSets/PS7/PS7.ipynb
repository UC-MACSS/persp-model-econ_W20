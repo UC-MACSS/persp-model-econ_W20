{
 "cells": [
  {
   "cell_type": "markdown",
   "metadata": {},
   "source": [
    "# Problem Set 7\n",
    "## MACS 30150\n",
    "## Songrun He"
   ]
  },
  {
   "cell_type": "markdown",
   "metadata": {},
   "source": [
    "### Problem 1"
   ]
  },
  {
   "cell_type": "code",
   "execution_count": 2,
   "metadata": {},
   "outputs": [
    {
     "data": {
      "text/html": [
       "<div>\n",
       "<style scoped>\n",
       "    .dataframe tbody tr th:only-of-type {\n",
       "        vertical-align: middle;\n",
       "    }\n",
       "\n",
       "    .dataframe tbody tr th {\n",
       "        vertical-align: top;\n",
       "    }\n",
       "\n",
       "    .dataframe thead th {\n",
       "        text-align: right;\n",
       "    }\n",
       "</style>\n",
       "<table border=\"1\" class=\"dataframe\">\n",
       "  <thead>\n",
       "    <tr style=\"text-align: right;\">\n",
       "      <th></th>\n",
       "      <th>cultivar</th>\n",
       "      <th>alco</th>\n",
       "      <th>malic</th>\n",
       "      <th>ash</th>\n",
       "      <th>alk</th>\n",
       "      <th>magn</th>\n",
       "      <th>tot_phen</th>\n",
       "      <th>flav</th>\n",
       "      <th>nonfl_phen</th>\n",
       "      <th>proanth</th>\n",
       "      <th>color_int</th>\n",
       "      <th>hue</th>\n",
       "      <th>OD280rat</th>\n",
       "      <th>proline</th>\n",
       "    </tr>\n",
       "  </thead>\n",
       "  <tbody>\n",
       "    <tr>\n",
       "      <th>0</th>\n",
       "      <td>1</td>\n",
       "      <td>14.23</td>\n",
       "      <td>1.71</td>\n",
       "      <td>2.43</td>\n",
       "      <td>15.6</td>\n",
       "      <td>127</td>\n",
       "      <td>2.80</td>\n",
       "      <td>3.06</td>\n",
       "      <td>0.28</td>\n",
       "      <td>2.29</td>\n",
       "      <td>5.64</td>\n",
       "      <td>1.04</td>\n",
       "      <td>3.92</td>\n",
       "      <td>1065</td>\n",
       "    </tr>\n",
       "    <tr>\n",
       "      <th>1</th>\n",
       "      <td>1</td>\n",
       "      <td>13.20</td>\n",
       "      <td>1.78</td>\n",
       "      <td>2.14</td>\n",
       "      <td>11.2</td>\n",
       "      <td>100</td>\n",
       "      <td>2.65</td>\n",
       "      <td>2.76</td>\n",
       "      <td>0.26</td>\n",
       "      <td>1.28</td>\n",
       "      <td>4.38</td>\n",
       "      <td>1.05</td>\n",
       "      <td>3.40</td>\n",
       "      <td>1050</td>\n",
       "    </tr>\n",
       "    <tr>\n",
       "      <th>2</th>\n",
       "      <td>1</td>\n",
       "      <td>13.16</td>\n",
       "      <td>2.36</td>\n",
       "      <td>2.67</td>\n",
       "      <td>18.6</td>\n",
       "      <td>101</td>\n",
       "      <td>2.80</td>\n",
       "      <td>3.24</td>\n",
       "      <td>0.30</td>\n",
       "      <td>2.81</td>\n",
       "      <td>5.68</td>\n",
       "      <td>1.03</td>\n",
       "      <td>3.17</td>\n",
       "      <td>1185</td>\n",
       "    </tr>\n",
       "    <tr>\n",
       "      <th>3</th>\n",
       "      <td>1</td>\n",
       "      <td>14.37</td>\n",
       "      <td>1.95</td>\n",
       "      <td>2.50</td>\n",
       "      <td>16.8</td>\n",
       "      <td>113</td>\n",
       "      <td>3.85</td>\n",
       "      <td>3.49</td>\n",
       "      <td>0.24</td>\n",
       "      <td>2.18</td>\n",
       "      <td>7.80</td>\n",
       "      <td>0.86</td>\n",
       "      <td>3.45</td>\n",
       "      <td>1480</td>\n",
       "    </tr>\n",
       "    <tr>\n",
       "      <th>4</th>\n",
       "      <td>1</td>\n",
       "      <td>13.24</td>\n",
       "      <td>2.59</td>\n",
       "      <td>2.87</td>\n",
       "      <td>21.0</td>\n",
       "      <td>118</td>\n",
       "      <td>2.80</td>\n",
       "      <td>2.69</td>\n",
       "      <td>0.39</td>\n",
       "      <td>1.82</td>\n",
       "      <td>4.32</td>\n",
       "      <td>1.04</td>\n",
       "      <td>2.93</td>\n",
       "      <td>735</td>\n",
       "    </tr>\n",
       "  </tbody>\n",
       "</table>\n",
       "</div>"
      ],
      "text/plain": [
       "   cultivar   alco  malic   ash   alk  magn  tot_phen  flav  nonfl_phen  \\\n",
       "0         1  14.23   1.71  2.43  15.6   127      2.80  3.06        0.28   \n",
       "1         1  13.20   1.78  2.14  11.2   100      2.65  2.76        0.26   \n",
       "2         1  13.16   2.36  2.67  18.6   101      2.80  3.24        0.30   \n",
       "3         1  14.37   1.95  2.50  16.8   113      3.85  3.49        0.24   \n",
       "4         1  13.24   2.59  2.87  21.0   118      2.80  2.69        0.39   \n",
       "\n",
       "   proanth  color_int   hue  OD280rat  proline  \n",
       "0     2.29       5.64  1.04      3.92     1065  \n",
       "1     1.28       4.38  1.05      3.40     1050  \n",
       "2     2.81       5.68  1.03      3.17     1185  \n",
       "3     2.18       7.80  0.86      3.45     1480  \n",
       "4     1.82       4.32  1.04      2.93      735  "
      ]
     },
     "execution_count": 2,
     "metadata": {},
     "output_type": "execute_result"
    }
   ],
   "source": [
    "# Read in data and have an overview\n",
    "import pandas as pd\n",
    "\n",
    "df = pd.read_csv('data/strongdrink.txt')\n",
    "df.head()"
   ]
  },
  {
   "cell_type": "code",
   "execution_count": 3,
   "metadata": {},
   "outputs": [
    {
     "data": {
      "text/html": [
       "<div>\n",
       "<style scoped>\n",
       "    .dataframe tbody tr th:only-of-type {\n",
       "        vertical-align: middle;\n",
       "    }\n",
       "\n",
       "    .dataframe tbody tr th {\n",
       "        vertical-align: top;\n",
       "    }\n",
       "\n",
       "    .dataframe thead th {\n",
       "        text-align: right;\n",
       "    }\n",
       "</style>\n",
       "<table border=\"1\" class=\"dataframe\">\n",
       "  <thead>\n",
       "    <tr style=\"text-align: right;\">\n",
       "      <th></th>\n",
       "      <th>cultivar</th>\n",
       "      <th>alco</th>\n",
       "      <th>malic</th>\n",
       "      <th>ash</th>\n",
       "      <th>alk</th>\n",
       "      <th>magn</th>\n",
       "      <th>tot_phen</th>\n",
       "      <th>flav</th>\n",
       "      <th>nonfl_phen</th>\n",
       "      <th>proanth</th>\n",
       "      <th>color_int</th>\n",
       "      <th>hue</th>\n",
       "      <th>OD280rat</th>\n",
       "      <th>proline</th>\n",
       "    </tr>\n",
       "  </thead>\n",
       "  <tbody>\n",
       "    <tr>\n",
       "      <th>count</th>\n",
       "      <td>176.000000</td>\n",
       "      <td>176.000000</td>\n",
       "      <td>176.000000</td>\n",
       "      <td>176.000000</td>\n",
       "      <td>176.000000</td>\n",
       "      <td>176.000000</td>\n",
       "      <td>176.000000</td>\n",
       "      <td>176.000000</td>\n",
       "      <td>176.000000</td>\n",
       "      <td>176.000000</td>\n",
       "      <td>176.000000</td>\n",
       "      <td>176.000000</td>\n",
       "      <td>176.000000</td>\n",
       "      <td>176.000000</td>\n",
       "    </tr>\n",
       "    <tr>\n",
       "      <th>mean</th>\n",
       "      <td>1.926136</td>\n",
       "      <td>13.006534</td>\n",
       "      <td>2.327159</td>\n",
       "      <td>2.367386</td>\n",
       "      <td>19.492045</td>\n",
       "      <td>99.840909</td>\n",
       "      <td>2.298920</td>\n",
       "      <td>2.043352</td>\n",
       "      <td>0.359545</td>\n",
       "      <td>1.597727</td>\n",
       "      <td>5.031761</td>\n",
       "      <td>0.961000</td>\n",
       "      <td>2.623409</td>\n",
       "      <td>748.477273</td>\n",
       "    </tr>\n",
       "    <tr>\n",
       "      <th>std</th>\n",
       "      <td>0.771047</td>\n",
       "      <td>0.814431</td>\n",
       "      <td>1.117747</td>\n",
       "      <td>0.275617</td>\n",
       "      <td>3.355821</td>\n",
       "      <td>14.329499</td>\n",
       "      <td>0.627333</td>\n",
       "      <td>0.995579</td>\n",
       "      <td>0.123046</td>\n",
       "      <td>0.571958</td>\n",
       "      <td>2.317965</td>\n",
       "      <td>0.227225</td>\n",
       "      <td>0.705369</td>\n",
       "      <td>316.208737</td>\n",
       "    </tr>\n",
       "    <tr>\n",
       "      <th>min</th>\n",
       "      <td>1.000000</td>\n",
       "      <td>11.030000</td>\n",
       "      <td>0.740000</td>\n",
       "      <td>1.360000</td>\n",
       "      <td>10.600000</td>\n",
       "      <td>70.000000</td>\n",
       "      <td>0.980000</td>\n",
       "      <td>0.340000</td>\n",
       "      <td>0.130000</td>\n",
       "      <td>0.410000</td>\n",
       "      <td>1.280000</td>\n",
       "      <td>0.480000</td>\n",
       "      <td>1.270000</td>\n",
       "      <td>278.000000</td>\n",
       "    </tr>\n",
       "    <tr>\n",
       "      <th>25%</th>\n",
       "      <td>1.000000</td>\n",
       "      <td>12.362500</td>\n",
       "      <td>1.597500</td>\n",
       "      <td>2.210000</td>\n",
       "      <td>17.175000</td>\n",
       "      <td>88.000000</td>\n",
       "      <td>1.747500</td>\n",
       "      <td>1.242500</td>\n",
       "      <td>0.267500</td>\n",
       "      <td>1.250000</td>\n",
       "      <td>3.200000</td>\n",
       "      <td>0.790000</td>\n",
       "      <td>1.990000</td>\n",
       "      <td>500.000000</td>\n",
       "    </tr>\n",
       "    <tr>\n",
       "      <th>50%</th>\n",
       "      <td>2.000000</td>\n",
       "      <td>13.050000</td>\n",
       "      <td>1.845000</td>\n",
       "      <td>2.360000</td>\n",
       "      <td>19.500000</td>\n",
       "      <td>98.000000</td>\n",
       "      <td>2.380000</td>\n",
       "      <td>2.155000</td>\n",
       "      <td>0.340000</td>\n",
       "      <td>1.560000</td>\n",
       "      <td>4.640000</td>\n",
       "      <td>0.975000</td>\n",
       "      <td>2.780000</td>\n",
       "      <td>673.500000</td>\n",
       "    </tr>\n",
       "    <tr>\n",
       "      <th>75%</th>\n",
       "      <td>3.000000</td>\n",
       "      <td>13.682500</td>\n",
       "      <td>3.047500</td>\n",
       "      <td>2.560000</td>\n",
       "      <td>21.500000</td>\n",
       "      <td>107.250000</td>\n",
       "      <td>2.800000</td>\n",
       "      <td>2.882500</td>\n",
       "      <td>0.430000</td>\n",
       "      <td>1.952500</td>\n",
       "      <td>6.147500</td>\n",
       "      <td>1.120000</td>\n",
       "      <td>3.172500</td>\n",
       "      <td>986.250000</td>\n",
       "    </tr>\n",
       "    <tr>\n",
       "      <th>max</th>\n",
       "      <td>3.000000</td>\n",
       "      <td>14.830000</td>\n",
       "      <td>5.800000</td>\n",
       "      <td>3.230000</td>\n",
       "      <td>30.000000</td>\n",
       "      <td>162.000000</td>\n",
       "      <td>3.880000</td>\n",
       "      <td>5.080000</td>\n",
       "      <td>0.660000</td>\n",
       "      <td>3.580000</td>\n",
       "      <td>13.000000</td>\n",
       "      <td>1.710000</td>\n",
       "      <td>4.000000</td>\n",
       "      <td>1680.000000</td>\n",
       "    </tr>\n",
       "  </tbody>\n",
       "</table>\n",
       "</div>"
      ],
      "text/plain": [
       "         cultivar        alco       malic         ash         alk        magn  \\\n",
       "count  176.000000  176.000000  176.000000  176.000000  176.000000  176.000000   \n",
       "mean     1.926136   13.006534    2.327159    2.367386   19.492045   99.840909   \n",
       "std      0.771047    0.814431    1.117747    0.275617    3.355821   14.329499   \n",
       "min      1.000000   11.030000    0.740000    1.360000   10.600000   70.000000   \n",
       "25%      1.000000   12.362500    1.597500    2.210000   17.175000   88.000000   \n",
       "50%      2.000000   13.050000    1.845000    2.360000   19.500000   98.000000   \n",
       "75%      3.000000   13.682500    3.047500    2.560000   21.500000  107.250000   \n",
       "max      3.000000   14.830000    5.800000    3.230000   30.000000  162.000000   \n",
       "\n",
       "         tot_phen        flav  nonfl_phen     proanth   color_int         hue  \\\n",
       "count  176.000000  176.000000  176.000000  176.000000  176.000000  176.000000   \n",
       "mean     2.298920    2.043352    0.359545    1.597727    5.031761    0.961000   \n",
       "std      0.627333    0.995579    0.123046    0.571958    2.317965    0.227225   \n",
       "min      0.980000    0.340000    0.130000    0.410000    1.280000    0.480000   \n",
       "25%      1.747500    1.242500    0.267500    1.250000    3.200000    0.790000   \n",
       "50%      2.380000    2.155000    0.340000    1.560000    4.640000    0.975000   \n",
       "75%      2.800000    2.882500    0.430000    1.952500    6.147500    1.120000   \n",
       "max      3.880000    5.080000    0.660000    3.580000   13.000000    1.710000   \n",
       "\n",
       "         OD280rat      proline  \n",
       "count  176.000000   176.000000  \n",
       "mean     2.623409   748.477273  \n",
       "std      0.705369   316.208737  \n",
       "min      1.270000   278.000000  \n",
       "25%      1.990000   500.000000  \n",
       "50%      2.780000   673.500000  \n",
       "75%      3.172500   986.250000  \n",
       "max      4.000000  1680.000000  "
      ]
     },
     "execution_count": 3,
     "metadata": {},
     "output_type": "execute_result"
    }
   ],
   "source": [
    "df.describe()"
   ]
  },
  {
   "cell_type": "code",
   "execution_count": 9,
   "metadata": {},
   "outputs": [
    {
     "data": {
      "text/plain": [
       "2    71\n",
       "1    59\n",
       "3    46\n",
       "Name: cultivar, dtype: int64"
      ]
     },
     "execution_count": 9,
     "metadata": {},
     "output_type": "execute_result"
    }
   ],
   "source": [
    "df['cultivar'].value_counts()"
   ]
  },
  {
   "cell_type": "markdown",
   "metadata": {},
   "source": [
    "### (a). a multinomial logistic regression"
   ]
  },
  {
   "cell_type": "code",
   "execution_count": 8,
   "metadata": {},
   "outputs": [],
   "source": [
    "# Traning and test sets split\n",
    "from sklearn.model_selection import train_test_split\n",
    "\n",
    "y = df['cultivar']\n",
    "X = df[['alco', 'malic', 'tot_phen', 'color_int']]\n",
    "X_train, X_test, y_train, y_test = train_test_split(X, y, test_size = 0.25, random_state = 20)"
   ]
  },
  {
   "cell_type": "code",
   "execution_count": 12,
   "metadata": {},
   "outputs": [
    {
     "data": {
      "text/html": [
       "<div>\n",
       "<style scoped>\n",
       "    .dataframe tbody tr th:only-of-type {\n",
       "        vertical-align: middle;\n",
       "    }\n",
       "\n",
       "    .dataframe tbody tr th {\n",
       "        vertical-align: top;\n",
       "    }\n",
       "\n",
       "    .dataframe thead th {\n",
       "        text-align: right;\n",
       "    }\n",
       "</style>\n",
       "<table border=\"1\" class=\"dataframe\">\n",
       "  <thead>\n",
       "    <tr style=\"text-align: right;\">\n",
       "      <th></th>\n",
       "      <th>j=1</th>\n",
       "      <th>j=2</th>\n",
       "    </tr>\n",
       "  </thead>\n",
       "  <tbody>\n",
       "    <tr>\n",
       "      <th>beta0</th>\n",
       "      <td>-24.011332</td>\n",
       "      <td>22.801680</td>\n",
       "    </tr>\n",
       "    <tr>\n",
       "      <th>beta1</th>\n",
       "      <td>1.700433</td>\n",
       "      <td>-1.467985</td>\n",
       "    </tr>\n",
       "    <tr>\n",
       "      <th>beta2</th>\n",
       "      <td>-0.265610</td>\n",
       "      <td>-0.333051</td>\n",
       "    </tr>\n",
       "    <tr>\n",
       "      <th>beta3</th>\n",
       "      <td>1.223894</td>\n",
       "      <td>0.664006</td>\n",
       "    </tr>\n",
       "    <tr>\n",
       "      <th>beta4</th>\n",
       "      <td>0.022748</td>\n",
       "      <td>-0.922709</td>\n",
       "    </tr>\n",
       "  </tbody>\n",
       "</table>\n",
       "</div>"
      ],
      "text/plain": [
       "             j=1        j=2\n",
       "beta0 -24.011332  22.801680\n",
       "beta1   1.700433  -1.467985\n",
       "beta2  -0.265610  -0.333051\n",
       "beta3   1.223894   0.664006\n",
       "beta4   0.022748  -0.922709"
      ]
     },
     "execution_count": 12,
     "metadata": {},
     "output_type": "execute_result"
    }
   ],
   "source": [
    "from sklearn.linear_model import LogisticRegression\n",
    "import numpy as np\n",
    "clf = LogisticRegression(solver = 'newton-cg', multi_class = 'multinomial').fit(X_train, y_train)\n",
    "pd.DataFrame({'j=1':np.append(clf.intercept_[0], clf.coef_[0]),\n",
    "              'j=2':np.append(clf.intercept_[1], clf.coef_[1])},\n",
    "               index = ['beta0', 'beta1', 'beta2', 'beta3', 'beta4'])"
   ]
  },
  {
   "cell_type": "code",
   "execution_count": 13,
   "metadata": {},
   "outputs": [
    {
     "name": "stdout",
     "output_type": "stream",
     "text": [
      "              precision    recall  f1-score   support\n",
      "\n",
      "           1       0.87      1.00      0.93        13\n",
      "           2       1.00      0.90      0.95        21\n",
      "           3       1.00      1.00      1.00        10\n",
      "\n",
      "    accuracy                           0.95        44\n",
      "   macro avg       0.96      0.97      0.96        44\n",
      "weighted avg       0.96      0.95      0.96        44\n",
      "\n"
     ]
    }
   ],
   "source": [
    "from sklearn.metrics import classification_report\n",
    "y_pred = clf.predict(X_test)\n",
    "print(classification_report(y_test, y_pred))"
   ]
  },
  {
   "cell_type": "markdown",
   "metadata": {},
   "source": [
    "The error rate for category 1, 2 and 3 are: 0.13, 0 and 0.\n",
    "\n",
    "The model predicts category 3 best, because it has highest precision, recall, and f1-score."
   ]
  },
  {
   "cell_type": "code",
   "execution_count": 15,
   "metadata": {},
   "outputs": [
    {
     "name": "stdout",
     "output_type": "stream",
     "text": [
      "The number of observations with cultivar =1: 59\n",
      "The number of observations with cultivar =2: 71\n",
      "The number of observations with cultivar =3: 46\n",
      "The number of observations with cultivar =1 in the training set: 46\n",
      "The number of observations with cultivar =2 in the training set: 50\n",
      "The number of observations with cultivar =3 in the training set: 36\n"
     ]
    }
   ],
   "source": [
    "print('The number of observations with cultivar =1:',np.sum(df['cultivar']==1))\n",
    "print('The number of observations with cultivar =2:',np.sum(df['cultivar']==2))\n",
    "print('The number of observations with cultivar =3:',np.sum(df['cultivar']==3))\n",
    "print('The number of observations with cultivar =1 in the training set:',sum(y_train==1))\n",
    "print('The number of observations with cultivar =2 in the training set:',sum(y_train==2))\n",
    "print('The number of observations with cultivar =3 in the training set:',sum(y_train==3))"
   ]
  },
  {
   "cell_type": "markdown",
   "metadata": {},
   "source": [
    "Therefore, the most accurately predicted category is not the one with the most observations. Actually, we can see that category 3 has the least number of observations among the three."
   ]
  },
  {
   "cell_type": "code",
   "execution_count": 17,
   "metadata": {},
   "outputs": [
    {
     "name": "stdout",
     "output_type": "stream",
     "text": [
      "The MSE from the test set is:  0.045454545454545456\n"
     ]
    }
   ],
   "source": [
    "MSE = np.sum((y_test != y_pred))/len(y_pred)\n",
    "print('The MSE from the test set is: ', MSE)"
   ]
  },
  {
   "cell_type": "markdown",
   "metadata": {},
   "source": [
    "### (b) LOOCV"
   ]
  },
  {
   "cell_type": "code",
   "execution_count": 18,
   "metadata": {},
   "outputs": [],
   "source": [
    "from sklearn.model_selection import LeaveOneOut\n",
    "\n",
    "Xv = X.values\n",
    "yv = y.values\n",
    "N_loo = len(Xv)\n",
    "loo = LeaveOneOut()\n",
    "loo.get_n_splits(Xv)\n",
    "MSE_vec = np.zeros(N_loo)"
   ]
  },
  {
   "cell_type": "code",
   "execution_count": 21,
   "metadata": {},
   "outputs": [],
   "source": [
    "yp = []\n",
    "yt = []\n",
    "for train_index, test_index in loo.split(Xv):\n",
    "    X_train, X_test = Xv[train_index], Xv[test_index]\n",
    "    y_train, y_test = yv[train_index], yv[test_index]\n",
    "    LogReg = LogisticRegression(multi_class = 'multinomial', solver = 'newton-cg')\n",
    "    LogReg.fit(X_train, y_train)\n",
    "    y_pred = LogReg.predict(X_test)\n",
    "    yp.append(y_pred)\n",
    "    yt.append(y_test)\n",
    "    MSE_vec[test_index] = (y_test != y_pred)**2"
   ]
  },
  {
   "cell_type": "code",
   "execution_count": 22,
   "metadata": {},
   "outputs": [
    {
     "name": "stdout",
     "output_type": "stream",
     "text": [
      "              precision    recall  f1-score   support\n",
      "\n",
      "           1       0.90      0.93      0.92        59\n",
      "           2       0.91      0.90      0.91        71\n",
      "           3       0.96      0.93      0.95        46\n",
      "\n",
      "    accuracy                           0.92       176\n",
      "   macro avg       0.92      0.92      0.92       176\n",
      "weighted avg       0.92      0.92      0.92       176\n",
      "\n"
     ]
    }
   ],
   "source": [
    "print(classification_report(yt, yp))"
   ]
  },
  {
   "cell_type": "markdown",
   "metadata": {},
   "source": [
    "The error rate for category 1, 2 and 3 are: 0.10, 0.09 and 0.04.\n",
    "\n",
    "Same as part (a), category 3 has the smallest error rate. However, the error rate for category 2 and category 3 is larger than that in part (a). The error rate for category 1 is smaller than that in part (a)."
   ]
  },
  {
   "cell_type": "code",
   "execution_count": 27,
   "metadata": {},
   "outputs": [
    {
     "name": "stdout",
     "output_type": "stream",
     "text": [
      "The LOOCV estimate for the test MSE is:  0.07954545454545454\n"
     ]
    }
   ],
   "source": [
    "MSE_loo = MSE_vec.mean()\n",
    "print('The LOOCV estimate for the test MSE is: ', MSE_loo)"
   ]
  },
  {
   "cell_type": "markdown",
   "metadata": {},
   "source": [
    "### (c) K-fold cross validation"
   ]
  },
  {
   "cell_type": "code",
   "execution_count": 35,
   "metadata": {},
   "outputs": [
    {
     "name": "stdout",
     "output_type": "stream",
     "text": [
      "              precision    recall  f1-score   support\n",
      "\n",
      "           1       0.87      0.93      0.90        59\n",
      "           2       0.91      0.87      0.89        71\n",
      "           3       0.96      0.93      0.95        46\n",
      "\n",
      "    accuracy                           0.91       176\n",
      "   macro avg       0.91      0.91      0.91       176\n",
      "weighted avg       0.91      0.91      0.91       176\n",
      "\n"
     ]
    }
   ],
   "source": [
    "from sklearn.model_selection import KFold\n",
    "\n",
    "k = 4\n",
    "kf = KFold(n_splits=4, shuffle=True, random_state=10)\n",
    "kf.get_n_splits(Xv)\n",
    "MSE_vec_kf = np.zeros(k)\n",
    "k_ind = int(0)\n",
    "ypk = []\n",
    "ytk = []\n",
    "\n",
    "for train_index, test_index in kf.split(Xv):\n",
    "    X_train, X_test = Xv[train_index], Xv[test_index]\n",
    "    y_train, y_test = yv[train_index], yv[test_index]\n",
    "    LogReg = LogisticRegression(multi_class='multinomial',solver='newton-cg')\n",
    "    LogReg.fit(X_train, y_train)\n",
    "    y_pred = LogReg.predict(X_test)\n",
    "    MSE_vec_kf[k_ind] = ((y_test != y_pred)**2).mean()\n",
    "    k_ind += 1\n",
    "    ypk.extend(y_pred)\n",
    "    ytk.extend(y_test)\n",
    "print(classification_report(ytk, ypk))"
   ]
  },
  {
   "cell_type": "markdown",
   "metadata": {},
   "source": [
    "The error rate for category 1, 2 and 3 are: 0.13, 0.09 and 0.04.\n",
    "\n",
    "Compared to part (a), error rates for category 2 and 3 increase. Error rate for category 1 remains the same. Compared to part (b), error rate for category 1 increases. Error rates for category 2 and 3 remain the same. "
   ]
  },
  {
   "cell_type": "code",
   "execution_count": 36,
   "metadata": {},
   "outputs": [
    {
     "name": "stdout",
     "output_type": "stream",
     "text": [
      "The k-fold estimate for the test MSE is:  0.09090909090909091\n"
     ]
    }
   ],
   "source": [
    "MSE_kf = MSE_vec_kf.mean()\n",
    "print('The k-fold estimate for the test MSE is: ', MSE_kf)"
   ]
  },
  {
   "cell_type": "markdown",
   "metadata": {},
   "source": [
    "### Problem 2"
   ]
  },
  {
   "cell_type": "code",
   "execution_count": 37,
   "metadata": {},
   "outputs": [
    {
     "data": {
      "text/html": [
       "<div>\n",
       "<style scoped>\n",
       "    .dataframe tbody tr th:only-of-type {\n",
       "        vertical-align: middle;\n",
       "    }\n",
       "\n",
       "    .dataframe tbody tr th {\n",
       "        vertical-align: top;\n",
       "    }\n",
       "\n",
       "    .dataframe thead th {\n",
       "        text-align: right;\n",
       "    }\n",
       "</style>\n",
       "<table border=\"1\" class=\"dataframe\">\n",
       "  <thead>\n",
       "    <tr style=\"text-align: right;\">\n",
       "      <th></th>\n",
       "      <th>Age</th>\n",
       "      <th>Cool</th>\n",
       "    </tr>\n",
       "  </thead>\n",
       "  <tbody>\n",
       "    <tr>\n",
       "      <th>0</th>\n",
       "      <td>11.0</td>\n",
       "      <td>10.981602</td>\n",
       "    </tr>\n",
       "    <tr>\n",
       "      <th>1</th>\n",
       "      <td>11.0</td>\n",
       "      <td>11.364925</td>\n",
       "    </tr>\n",
       "    <tr>\n",
       "      <th>2</th>\n",
       "      <td>11.0</td>\n",
       "      <td>10.190227</td>\n",
       "    </tr>\n",
       "    <tr>\n",
       "      <th>3</th>\n",
       "      <td>11.0</td>\n",
       "      <td>9.903725</td>\n",
       "    </tr>\n",
       "    <tr>\n",
       "      <th>4</th>\n",
       "      <td>11.0</td>\n",
       "      <td>8.997918</td>\n",
       "    </tr>\n",
       "  </tbody>\n",
       "</table>\n",
       "</div>"
      ],
      "text/plain": [
       "    Age       Cool\n",
       "0  11.0  10.981602\n",
       "1  11.0  11.364925\n",
       "2  11.0  10.190227\n",
       "3  11.0   9.903725\n",
       "4  11.0   8.997918"
      ]
     },
     "execution_count": 37,
     "metadata": {},
     "output_type": "execute_result"
    }
   ],
   "source": [
    "df = pd.read_csv('data/CoolIndex.txt', names = ['Age', 'Cool'])\n",
    "df.head()"
   ]
  },
  {
   "cell_type": "code",
   "execution_count": 38,
   "metadata": {},
   "outputs": [
    {
     "data": {
      "text/html": [
       "<div>\n",
       "<style scoped>\n",
       "    .dataframe tbody tr th:only-of-type {\n",
       "        vertical-align: middle;\n",
       "    }\n",
       "\n",
       "    .dataframe tbody tr th {\n",
       "        vertical-align: top;\n",
       "    }\n",
       "\n",
       "    .dataframe thead th {\n",
       "        text-align: right;\n",
       "    }\n",
       "</style>\n",
       "<table border=\"1\" class=\"dataframe\">\n",
       "  <thead>\n",
       "    <tr style=\"text-align: right;\">\n",
       "      <th></th>\n",
       "      <th>Age</th>\n",
       "      <th>Cool</th>\n",
       "    </tr>\n",
       "  </thead>\n",
       "  <tbody>\n",
       "    <tr>\n",
       "      <th>count</th>\n",
       "      <td>956.000000</td>\n",
       "      <td>956.000000</td>\n",
       "    </tr>\n",
       "    <tr>\n",
       "      <th>mean</th>\n",
       "      <td>44.385983</td>\n",
       "      <td>32.790118</td>\n",
       "    </tr>\n",
       "    <tr>\n",
       "      <th>std</th>\n",
       "      <td>20.250954</td>\n",
       "      <td>9.246635</td>\n",
       "    </tr>\n",
       "    <tr>\n",
       "      <th>min</th>\n",
       "      <td>11.000000</td>\n",
       "      <td>7.942515</td>\n",
       "    </tr>\n",
       "    <tr>\n",
       "      <th>25%</th>\n",
       "      <td>27.000000</td>\n",
       "      <td>29.219091</td>\n",
       "    </tr>\n",
       "    <tr>\n",
       "      <th>50%</th>\n",
       "      <td>44.000000</td>\n",
       "      <td>33.721898</td>\n",
       "    </tr>\n",
       "    <tr>\n",
       "      <th>75%</th>\n",
       "      <td>60.000000</td>\n",
       "      <td>37.453531</td>\n",
       "    </tr>\n",
       "    <tr>\n",
       "      <th>max</th>\n",
       "      <td>95.000000</td>\n",
       "      <td>63.649347</td>\n",
       "    </tr>\n",
       "  </tbody>\n",
       "</table>\n",
       "</div>"
      ],
      "text/plain": [
       "              Age        Cool\n",
       "count  956.000000  956.000000\n",
       "mean    44.385983   32.790118\n",
       "std     20.250954    9.246635\n",
       "min     11.000000    7.942515\n",
       "25%     27.000000   29.219091\n",
       "50%     44.000000   33.721898\n",
       "75%     60.000000   37.453531\n",
       "max     95.000000   63.649347"
      ]
     },
     "execution_count": 38,
     "metadata": {},
     "output_type": "execute_result"
    }
   ],
   "source": [
    "df.describe()"
   ]
  },
  {
   "cell_type": "markdown",
   "metadata": {},
   "source": [
    "### (a) scatter plot"
   ]
  },
  {
   "cell_type": "code",
   "execution_count": 43,
   "metadata": {},
   "outputs": [
    {
     "data": {
      "image/png": "[encoded data removed]",
      "text/plain": [
       "<Figure size 432x288 with 1 Axes>"
      ]
     },
     "metadata": {
      "needs_background": "light"
     },
     "output_type": "display_data"
    }
   ],
   "source": [
    "import matplotlib.pyplot as plt\n",
    "\n",
    "plt.scatter(df.Age, df.Cool, alpha = 0.6)\n",
    "plt.xlabel('Age')\n",
    "plt.ylabel('Coolness Index')\n",
    "plt.title('Coolness Index against Age')\n",
    "plt.show()"
   ]
  },
  {
   "cell_type": "markdown",
   "metadata": {},
   "source": [
    "### (b) Stepwise function with OLS"
   ]
  },
  {
   "cell_type": "code",
   "execution_count": 44,
   "metadata": {},
   "outputs": [],
   "source": [
    "df[\"G1\"]=np.where((df.Age>=11) & (df.Age<22),1,0)\n",
    "df[\"G2\"]=np.where((df.Age>=22) & (df.Age<40),1,0)\n",
    "df[\"G3\"]=np.where((df.Age>=40) & (df.Age<59),1,0)\n",
    "df[\"G4\"]=np.where((df.Age>=59) & (df.Age<77),1,0)\n",
    "df[\"G5\"]=np.where((df.Age>=77) & (df.Age<=95),1,0)"
   ]
  },
  {
   "cell_type": "code",
   "execution_count": 47,
   "metadata": {},
   "outputs": [
    {
     "name": "stdout",
     "output_type": "stream",
     "text": [
      "                            OLS Regression Results                            \n",
      "==============================================================================\n",
      "Dep. Variable:                   Cool   R-squared:                       0.429\n",
      "Model:                            OLS   Adj. R-squared:                  0.427\n",
      "Method:                 Least Squares   F-statistic:                     178.7\n",
      "Date:                Mon, 24 Feb 2020   Prob (F-statistic):          3.73e-114\n",
      "Time:                        16:34:32   Log-Likelihood:                -3214.5\n",
      "No. Observations:                 956   AIC:                             6439.\n",
      "Df Residuals:                     951   BIC:                             6463.\n",
      "Df Model:                           4                                         \n",
      "Covariance Type:            nonrobust                                         \n",
      "==============================================================================\n",
      "                 coef    std err          t      P>|t|      [0.025      0.975]\n",
      "------------------------------------------------------------------------------\n",
      "G1            20.1025      0.562     35.746      0.000      18.999      21.206\n",
      "G2            34.4758      0.431     80.006      0.000      33.630      35.321\n",
      "G3            37.6351      0.424     88.814      0.000      36.804      38.467\n",
      "G4            35.2254      0.485     72.560      0.000      34.273      36.178\n",
      "G5            27.2964      0.936     29.175      0.000      25.460      29.132\n",
      "==============================================================================\n",
      "Omnibus:                       80.102   Durbin-Watson:                   1.236\n",
      "Prob(Omnibus):                  0.000   Jarque-Bera (JB):              101.718\n",
      "Skew:                           0.714   Prob(JB):                     8.17e-23\n",
      "Kurtosis:                       3.719   Cond. No.                         2.21\n",
      "==============================================================================\n",
      "\n",
      "Warnings:\n",
      "[1] Standard Errors assume that the covariance matrix of the errors is correctly specified.\n"
     ]
    }
   ],
   "source": [
    "import statsmodels.api as sm\n",
    "\n",
    "X=df[[\"G1\",\"G2\",\"G3\",\"G4\",\"G5\"]]\n",
    "res=sm.OLS(df.Cool,X).fit()\n",
    "print(res.summary())"
   ]
  },
  {
   "cell_type": "markdown",
   "metadata": {},
   "source": [
    "The estimated beta1, beta2, beta3, beta4 and beta5 are: 20.1025, 34.4758, 37.6351, 35.2254 and 27.2964."
   ]
  },
  {
   "cell_type": "code",
   "execution_count": 48,
   "metadata": {},
   "outputs": [
    {
     "data": {
      "text/plain": [
       "array([35.22540004])"
      ]
     },
     "execution_count": 48,
     "metadata": {},
     "output_type": "execute_result"
    }
   ],
   "source": [
    "res.predict([0,0,0,1,0])"
   ]
  },
  {
   "cell_type": "markdown",
   "metadata": {},
   "source": [
    "The predicted level of coolness for a 73-year old from the stepwise function is 35.2254."
   ]
  },
  {
   "cell_type": "code",
   "execution_count": 51,
   "metadata": {},
   "outputs": [
    {
     "data": {
      "image/png": "[encoded data removed]",
      "text/plain": [
       "<Figure size 432x288 with 1 Axes>"
      ]
     },
     "metadata": {
      "needs_background": "light"
     },
     "output_type": "display_data"
    }
   ],
   "source": [
    "values = [20.1025, 34.4758, 37.6351, 35.2254, 27.2964]\n",
    "plt.scatter(df['Age'],df['Cool'], alpha=0.6,label='Cool Index')\n",
    "x_min = np.array([11, 22, 40, 59, 77])\n",
    "x_max = np.array([22, 40, 59, 77, 95])\n",
    "plt.hlines(values, x_min, x_max, color='crimson', label='Step function')\n",
    "plt.xlabel(\"Age\")\n",
    "plt.ylabel(\"Coolness Index\")\n",
    "plt.title(\"Coolness Index with respect to Age\")\n",
    "plt.legend()\n",
    "plt.show()"
   ]
  },
  {
   "cell_type": "markdown",
   "metadata": {},
   "source": [
    "### (c) linear spline"
   ]
  },
  {
   "cell_type": "code",
   "execution_count": 54,
   "metadata": {},
   "outputs": [
    {
     "data": {
      "image/png": "[encoded data removed]",
      "text/plain": [
       "<Figure size 432x288 with 1 Axes>"
      ]
     },
     "metadata": {
      "needs_background": "light"
     },
     "output_type": "display_data"
    }
   ],
   "source": [
    "from scipy.interpolate import LSQUnivariateSpline\n",
    "t = np.array([22,40,59,77])\n",
    "df.sort_index(0, ascending=True, inplace=True)\n",
    "group = df.groupby('Age', as_index = False).mean()\n",
    "usl = LSQUnivariateSpline(group.Age.values, group.Cool.values, t, k=1)\n",
    "age2 = np.linspace(11,95,100)\n",
    "\n",
    "plt.scatter(df['Age'],df['Cool'], alpha=0.5,label='Cool Index')\n",
    "plt.hlines(values, x_min, x_max, color='crimson', label='Step function')\n",
    "plt.plot(age2, usl(age2), color='green', label='Linear Spline')\n",
    "plt.xlabel(\"Age\")\n",
    "plt.ylabel(\"Coolness Index\")\n",
    "plt.title(\"Coolness Index with respect to Age\")\n",
    "plt.legend()\n",
    "plt.show()"
   ]
  },
  {
   "cell_type": "code",
   "execution_count": 56,
   "metadata": {},
   "outputs": [
    {
     "name": "stdout",
     "output_type": "stream",
     "text": [
      "The predicted coolness index of a 73-year-old person from the linear spline is 32.86784862349653\n"
     ]
    }
   ],
   "source": [
    "print('The predicted coolness index of a 73-year-old person from the linear spline is', usl(73))"
   ]
  },
  {
   "cell_type": "markdown",
   "metadata": {},
   "source": [
    "### (d) cubic spline"
   ]
  },
  {
   "cell_type": "code",
   "execution_count": 57,
   "metadata": {},
   "outputs": [
    {
     "data": {
      "image/png": "[encoded data removed]",
      "text/plain": [
       "<Figure size 432x288 with 1 Axes>"
      ]
     },
     "metadata": {
      "needs_background": "light"
     },
     "output_type": "display_data"
    }
   ],
   "source": [
    "usl2 = LSQUnivariateSpline(group.Age.values, group.Cool.values, t, k=3)\n",
    "\n",
    "plt.scatter(df['Age'],df['Cool'], alpha=0.5,label='Cool Index')\n",
    "plt.hlines(values, x_min, x_max, color='crimson', label='Step function')\n",
    "plt.plot(age2, usl(age2), color='green', label='Linear Spline')\n",
    "plt.plot(age2, usl2(age2), 'k-', label='Cubic Spline')\n",
    "plt.xlabel(\"Age\")\n",
    "plt.ylabel(\"Coolness Index\")\n",
    "plt.title(\"Coolness Index with respect to Age\")\n",
    "plt.legend()\n",
    "plt.show()"
   ]
  },
  {
   "cell_type": "code",
   "execution_count": 58,
   "metadata": {},
   "outputs": [
    {
     "name": "stdout",
     "output_type": "stream",
     "text": [
      "The predicted coolness index of a 73-year-old person from the linear spline is 32.642301066279764\n"
     ]
    }
   ],
   "source": [
    "print('The predicted coolness index of a 73-year-old person from the linear spline is', usl2(73))"
   ]
  },
  {
   "cell_type": "code",
   "execution_count": null,
   "metadata": {},
   "outputs": [],
   "source": []
  }
 ],
 "metadata": {
  "kernelspec": {
   "display_name": "Python 3",
   "language": "python",
   "name": "python3"
  },
  "language_info": {
   "codemirror_mode": {
    "name": "ipython",
    "version": 3
   },
   "file_extension": ".py",
   "mimetype": "text/x-python",
   "name": "python",
   "nbconvert_exporter": "python",
   "pygments_lexer": "ipython3",
   "version": "3.7.3"
  }
 },
 "nbformat": 4,
 "nbformat_minor": 2
}
